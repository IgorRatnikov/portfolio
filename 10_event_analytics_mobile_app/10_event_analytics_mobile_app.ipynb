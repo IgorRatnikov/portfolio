{
 "cells": [
  {
   "cell_type": "markdown",
   "metadata": {},
   "source": [
    "# Исследование данных стартапа, который продаёт продукты питания\n",
    "\n",
    "Вы работаете в стартапе, который продаёт продукты питания. Нужно разобраться, как ведут себя пользователи вашего мобильного приложения. \n",
    "\n",
    "Изучите воронку продаж. Узнайте, как пользователи доходят до покупки. Сколько пользователей доходит до покупки, а сколько — «застревает» на предыдущих шагах? На каких именно?\n",
    "\n",
    "После этого исследуйте результаты A/A/B-эксперимента. Дизайнеры захотели поменять шрифты во всём приложении, а менеджеры испугались, что пользователям будет непривычно. Договорились принять решение по результатам A/A/B-теста. Пользователей разбили на 3 группы: 2 контрольные со старыми шрифтами и одну экспериментальную — с новыми. Выясните, какой шрифт лучше.\n",
    "\n",
    "Создание двух групп A вместо одной имеет определённые преимущества. Если две контрольные группы окажутся равны, вы можете быть уверены в точности проведенного тестирования. Если же между значениями A и A будут существенные различия, это поможет обнаружить факторы, которые привели к искажению результатов. Сравнение контрольных групп также помогает понять, сколько времени и данных потребуется для дальнейших тестов.\n",
    "\n",
    "В случае общей аналитики и A/A/B-эксперимента работайте с одними и теми же данными. В реальных проектах всегда идут эксперименты. Аналитики исследуют качество работы приложения по общим данным, не учитывая принадлежность пользователей к экспериментам.\n",
    "\n",
    "### Описание данных\n",
    "\n",
    "Каждая запись в логе — это действие пользователя, или событие. \n",
    " - `EventName` — название события;\n",
    " - `DeviceIDHash` — уникальный идентификатор пользователя;\n",
    " - `EventTimestamp` — время события;\n",
    " - `ExpId` — номер эксперимента: 246 и 247 — контрольные группы, а 248 — экспериментальная.\n",
    " \n",
    "### Инструкция по выполнению проекта\n",
    "\n",
    "#### Шаг 1. Откройте файл с данными и изучите общую информацию\n",
    "\n",
    "Путь к файлу: `/datasets/logs_exp.csv`. Скачать датасет\n",
    "\n",
    "#### Шаг 2. Подготовьте данные\n",
    "\n",
    " - Замените названия столбцов на удобные для вас;\n",
    " - Проверьте пропуски и типы данных. Откорректируйте, если нужно;\n",
    " - Добавьте столбец даты и времени, а также отдельный столбец дат;\n",
    "\n",
    "#### Шаг 3. Изучите и проверьте данные\n",
    "\n",
    " - Сколько всего событий в логе?\n",
    " - Сколько всего пользователей в логе?\n",
    " - Сколько в среднем событий приходится на пользователя?\n",
    " - Данными за какой период вы располагаете? Найдите максимальную и минимальную дату. Изучите, как меняется количество данных: постройте столбчатую диаграмму, которая отобразит количество событий в зависимости от времени в разрезе групп. Можно ли быть уверенным, что у вас одинаково полные данные за весь период? Технически в логи новых дней по некоторым пользователям могут «доезжать» события из прошлого — это может «перекашивать данные». Определите, с какого момента данные полные и отбросьте более старые. Данными за какой период времени вы располагаете на самом деле?\n",
    " - Много ли событий и пользователей вы потеряли, отбросив старые данные?\n",
    " - Проверьте, что у вас есть пользователи из всех трёх экспериментальных групп.\n",
    "\n",
    "#### Шаг 4. Изучите воронку событий\n",
    "\n",
    " - Посмотрите, какие события есть в логах, как часто они встречаются. Отсортируйте события по частоте.\n",
    " - Посчитайте, сколько пользователей совершали каждое из этих событий. Отсортируйте события по числу пользователей. Посчитайте долю пользователей, которые хоть раз совершали событие.\n",
    " - Предположите, в каком порядке происходят события. Все ли они выстраиваются в последовательную цепочку? Их не нужно учитывать при расчёте воронки.\n",
    " - По воронке событий посчитайте, какая доля пользователей проходит на следующий шаг воронки (от числа пользователей на предыдущем). То есть для последовательности событий A → B → C посчитайте отношение числа пользователей с событием B к количеству пользователей с событием A, а также отношение числа пользователей с событием C к количеству пользователей с событием B.\n",
    " - На каком шаге теряете больше всего пользователей?\n",
    " - Какая доля пользователей доходит от первого события до оплаты?\n",
    "\n",
    "#### Шаг 5. Изучите результаты эксперимента\n",
    "\n",
    " - Сколько пользователей в каждой экспериментальной группе?\n",
    " - Есть 2 контрольные группы для А/А-эксперимента, чтобы проверить корректность всех механизмов и расчётов. Проверьте, находят ли статистические критерии разницу между выборками 246 и 247.\n",
    " - Выберите самое популярное событие. Посчитайте число пользователей, совершивших это событие в каждой из контрольных групп. Посчитайте долю пользователей, совершивших это событие. Проверьте, будет ли отличие между группами статистически достоверным. Проделайте то же самое для всех других событий (удобно обернуть проверку в отдельную функцию). Можно ли сказать, что разбиение на группы работает корректно?\n",
    " - Аналогично поступите с группой с изменённым шрифтом. Сравните результаты с каждой из контрольных групп в отдельности по каждому событию. Сравните результаты с объединённой контрольной группой. Какие выводы из эксперимента можно сделать?\n",
    " - Какой уровень значимости вы выбрали при проверке статистических гипотез выше? Посчитайте, сколько проверок статистических гипотез вы сделали. При уровне значимости 0.1 в 10% случаев можно ошибочно отклонить нулевую гипотезу при условии, что она верна. Какой уровень значимости стоит применить? Если вы хотите изменить его, проделайте предыдущие пункты и проверьте свои выводы."
   ]
  },
  {
   "cell_type": "markdown",
   "metadata": {},
   "source": [
    "#### Шаг 1. Откройте файл с данными и изучите общую информацию\n",
    "\n",
    "Путь к файлу: `/datasets/logs_exp.csv`. Скачать датасет"
   ]
  },
  {
   "cell_type": "code",
   "execution_count": 1,
   "metadata": {},
   "outputs": [],
   "source": [
    "import pandas as pd\n",
    "import matplotlib.pyplot as plt\n",
    "import datetime as dt\n",
    "from scipy import stats\n",
    "import numpy as np\n",
    "from statsmodels.stats.proportion import proportions_ztest\n",
    "import seaborn as sns\n",
    "import math as mth"
   ]
  },
  {
   "cell_type": "code",
   "execution_count": 2,
   "metadata": {},
   "outputs": [
    {
     "data": {
      "text/html": [
       "<div>\n",
       "<style scoped>\n",
       "    .dataframe tbody tr th:only-of-type {\n",
       "        vertical-align: middle;\n",
       "    }\n",
       "\n",
       "    .dataframe tbody tr th {\n",
       "        vertical-align: top;\n",
       "    }\n",
       "\n",
       "    .dataframe thead th {\n",
       "        text-align: right;\n",
       "    }\n",
       "</style>\n",
       "<table border=\"1\" class=\"dataframe\">\n",
       "  <thead>\n",
       "    <tr style=\"text-align: right;\">\n",
       "      <th></th>\n",
       "      <th>EventName</th>\n",
       "      <th>DeviceIDHash</th>\n",
       "      <th>EventTimestamp</th>\n",
       "      <th>ExpId</th>\n",
       "    </tr>\n",
       "  </thead>\n",
       "  <tbody>\n",
       "    <tr>\n",
       "      <th>0</th>\n",
       "      <td>MainScreenAppear</td>\n",
       "      <td>4575588528974610257</td>\n",
       "      <td>1564029816</td>\n",
       "      <td>246</td>\n",
       "    </tr>\n",
       "    <tr>\n",
       "      <th>1</th>\n",
       "      <td>MainScreenAppear</td>\n",
       "      <td>7416695313311560658</td>\n",
       "      <td>1564053102</td>\n",
       "      <td>246</td>\n",
       "    </tr>\n",
       "    <tr>\n",
       "      <th>2</th>\n",
       "      <td>PaymentScreenSuccessful</td>\n",
       "      <td>3518123091307005509</td>\n",
       "      <td>1564054127</td>\n",
       "      <td>248</td>\n",
       "    </tr>\n",
       "    <tr>\n",
       "      <th>3</th>\n",
       "      <td>CartScreenAppear</td>\n",
       "      <td>3518123091307005509</td>\n",
       "      <td>1564054127</td>\n",
       "      <td>248</td>\n",
       "    </tr>\n",
       "    <tr>\n",
       "      <th>4</th>\n",
       "      <td>PaymentScreenSuccessful</td>\n",
       "      <td>6217807653094995999</td>\n",
       "      <td>1564055322</td>\n",
       "      <td>248</td>\n",
       "    </tr>\n",
       "  </tbody>\n",
       "</table>\n",
       "</div>"
      ],
      "text/plain": [
       "                 EventName         DeviceIDHash  EventTimestamp  ExpId\n",
       "0         MainScreenAppear  4575588528974610257      1564029816    246\n",
       "1         MainScreenAppear  7416695313311560658      1564053102    246\n",
       "2  PaymentScreenSuccessful  3518123091307005509      1564054127    248\n",
       "3         CartScreenAppear  3518123091307005509      1564054127    248\n",
       "4  PaymentScreenSuccessful  6217807653094995999      1564055322    248"
      ]
     },
     "metadata": {},
     "output_type": "display_data"
    }
   ],
   "source": [
    "logs_exp = pd.read_csv('/datasets/logs_exp.csv', sep='\\t')\n",
    "display(logs_exp.head())"
   ]
  },
  {
   "cell_type": "markdown",
   "metadata": {},
   "source": [
    "#### Шаг 2. Подготовьте данные\n",
    "\n",
    "Замените названия столбцов на удобные для вас."
   ]
  },
  {
   "cell_type": "code",
   "execution_count": 3,
   "metadata": {},
   "outputs": [
    {
     "data": {
      "text/html": [
       "<div>\n",
       "<style scoped>\n",
       "    .dataframe tbody tr th:only-of-type {\n",
       "        vertical-align: middle;\n",
       "    }\n",
       "\n",
       "    .dataframe tbody tr th {\n",
       "        vertical-align: top;\n",
       "    }\n",
       "\n",
       "    .dataframe thead th {\n",
       "        text-align: right;\n",
       "    }\n",
       "</style>\n",
       "<table border=\"1\" class=\"dataframe\">\n",
       "  <thead>\n",
       "    <tr style=\"text-align: right;\">\n",
       "      <th></th>\n",
       "      <th>event_name</th>\n",
       "      <th>device_id</th>\n",
       "      <th>datetime</th>\n",
       "      <th>numb_exp</th>\n",
       "    </tr>\n",
       "  </thead>\n",
       "  <tbody>\n",
       "    <tr>\n",
       "      <th>0</th>\n",
       "      <td>MainScreenAppear</td>\n",
       "      <td>4575588528974610257</td>\n",
       "      <td>1564029816</td>\n",
       "      <td>246</td>\n",
       "    </tr>\n",
       "    <tr>\n",
       "      <th>1</th>\n",
       "      <td>MainScreenAppear</td>\n",
       "      <td>7416695313311560658</td>\n",
       "      <td>1564053102</td>\n",
       "      <td>246</td>\n",
       "    </tr>\n",
       "    <tr>\n",
       "      <th>2</th>\n",
       "      <td>PaymentScreenSuccessful</td>\n",
       "      <td>3518123091307005509</td>\n",
       "      <td>1564054127</td>\n",
       "      <td>248</td>\n",
       "    </tr>\n",
       "    <tr>\n",
       "      <th>3</th>\n",
       "      <td>CartScreenAppear</td>\n",
       "      <td>3518123091307005509</td>\n",
       "      <td>1564054127</td>\n",
       "      <td>248</td>\n",
       "    </tr>\n",
       "    <tr>\n",
       "      <th>4</th>\n",
       "      <td>PaymentScreenSuccessful</td>\n",
       "      <td>6217807653094995999</td>\n",
       "      <td>1564055322</td>\n",
       "      <td>248</td>\n",
       "    </tr>\n",
       "  </tbody>\n",
       "</table>\n",
       "</div>"
      ],
      "text/plain": [
       "                event_name            device_id    datetime  numb_exp\n",
       "0         MainScreenAppear  4575588528974610257  1564029816       246\n",
       "1         MainScreenAppear  7416695313311560658  1564053102       246\n",
       "2  PaymentScreenSuccessful  3518123091307005509  1564054127       248\n",
       "3         CartScreenAppear  3518123091307005509  1564054127       248\n",
       "4  PaymentScreenSuccessful  6217807653094995999  1564055322       248"
      ]
     },
     "metadata": {},
     "output_type": "display_data"
    }
   ],
   "source": [
    "logs_exp = logs_exp.rename(columns={'EventName': 'event_name', 'DeviceIDHash': 'device_id', 'EventTimestamp': 'datetime', 'ExpId': 'numb_exp'})\n",
    "display(logs_exp.head())"
   ]
  },
  {
   "cell_type": "markdown",
   "metadata": {},
   "source": [
    "Проверьте пропуски и типы данных. Откорректируйте, если нужно."
   ]
  },
  {
   "cell_type": "code",
   "execution_count": 4,
   "metadata": {},
   "outputs": [
    {
     "name": "stdout",
     "output_type": "stream",
     "text": [
      "<class 'pandas.core.frame.DataFrame'>\n",
      "RangeIndex: 244126 entries, 0 to 244125\n",
      "Data columns (total 4 columns):\n",
      " #   Column      Non-Null Count   Dtype \n",
      "---  ------      --------------   ----- \n",
      " 0   event_name  244126 non-null  object\n",
      " 1   device_id   244126 non-null  int64 \n",
      " 2   datetime    244126 non-null  int64 \n",
      " 3   numb_exp    244126 non-null  int64 \n",
      "dtypes: int64(3), object(1)\n",
      "memory usage: 7.5+ MB\n"
     ]
    }
   ],
   "source": [
    "logs_exp.info() # Проверяем тип данных"
   ]
  },
  {
   "cell_type": "code",
   "execution_count": 5,
   "metadata": {},
   "outputs": [],
   "source": [
    "logs_exp['datetime'] = pd.to_datetime(logs_exp['datetime'], unit='s') # Меняем тип данных\n",
    "logs_exp['device_id'] = logs_exp['device_id'].astype(str)\n",
    "logs_exp['numb_exp'] = logs_exp['numb_exp'].astype(str)"
   ]
  },
  {
   "cell_type": "code",
   "execution_count": 6,
   "metadata": {},
   "outputs": [
    {
     "data": {
      "text/plain": [
       "event_name    0\n",
       "device_id     0\n",
       "datetime      0\n",
       "numb_exp      0\n",
       "dtype: int64"
      ]
     },
     "metadata": {},
     "output_type": "display_data"
    }
   ],
   "source": [
    "display(logs_exp.isna().sum()) # Проверяем наличие пропусков"
   ]
  },
  {
   "cell_type": "code",
   "execution_count": 7,
   "metadata": {},
   "outputs": [
    {
     "data": {
      "text/plain": [
       "413"
      ]
     },
     "execution_count": 7,
     "metadata": {},
     "output_type": "execute_result"
    }
   ],
   "source": [
    "logs_exp.duplicated().sum() # Проверяем наличие дубликатов"
   ]
  },
  {
   "cell_type": "code",
   "execution_count": 8,
   "metadata": {
    "scrolled": true
   },
   "outputs": [
    {
     "data": {
      "text/plain": [
       "0"
      ]
     },
     "execution_count": 8,
     "metadata": {},
     "output_type": "execute_result"
    }
   ],
   "source": [
    "logs_exp = logs_exp.drop_duplicates() # Удаляем дубликаты\n",
    "logs_exp.duplicated().sum()"
   ]
  },
  {
   "cell_type": "markdown",
   "metadata": {},
   "source": [
    "Добавьте столбец даты и времени, а также отдельный столбец дат."
   ]
  },
  {
   "cell_type": "code",
   "execution_count": 9,
   "metadata": {},
   "outputs": [
    {
     "data": {
      "text/html": [
       "<div>\n",
       "<style scoped>\n",
       "    .dataframe tbody tr th:only-of-type {\n",
       "        vertical-align: middle;\n",
       "    }\n",
       "\n",
       "    .dataframe tbody tr th {\n",
       "        vertical-align: top;\n",
       "    }\n",
       "\n",
       "    .dataframe thead th {\n",
       "        text-align: right;\n",
       "    }\n",
       "</style>\n",
       "<table border=\"1\" class=\"dataframe\">\n",
       "  <thead>\n",
       "    <tr style=\"text-align: right;\">\n",
       "      <th></th>\n",
       "      <th>event_name</th>\n",
       "      <th>device_id</th>\n",
       "      <th>datetime</th>\n",
       "      <th>numb_exp</th>\n",
       "      <th>date</th>\n",
       "    </tr>\n",
       "  </thead>\n",
       "  <tbody>\n",
       "    <tr>\n",
       "      <th>0</th>\n",
       "      <td>MainScreenAppear</td>\n",
       "      <td>4575588528974610257</td>\n",
       "      <td>2019-07-25 04:43:36</td>\n",
       "      <td>246</td>\n",
       "      <td>2019-07-25</td>\n",
       "    </tr>\n",
       "    <tr>\n",
       "      <th>1</th>\n",
       "      <td>MainScreenAppear</td>\n",
       "      <td>7416695313311560658</td>\n",
       "      <td>2019-07-25 11:11:42</td>\n",
       "      <td>246</td>\n",
       "      <td>2019-07-25</td>\n",
       "    </tr>\n",
       "    <tr>\n",
       "      <th>2</th>\n",
       "      <td>PaymentScreenSuccessful</td>\n",
       "      <td>3518123091307005509</td>\n",
       "      <td>2019-07-25 11:28:47</td>\n",
       "      <td>248</td>\n",
       "      <td>2019-07-25</td>\n",
       "    </tr>\n",
       "    <tr>\n",
       "      <th>3</th>\n",
       "      <td>CartScreenAppear</td>\n",
       "      <td>3518123091307005509</td>\n",
       "      <td>2019-07-25 11:28:47</td>\n",
       "      <td>248</td>\n",
       "      <td>2019-07-25</td>\n",
       "    </tr>\n",
       "    <tr>\n",
       "      <th>4</th>\n",
       "      <td>PaymentScreenSuccessful</td>\n",
       "      <td>6217807653094995999</td>\n",
       "      <td>2019-07-25 11:48:42</td>\n",
       "      <td>248</td>\n",
       "      <td>2019-07-25</td>\n",
       "    </tr>\n",
       "  </tbody>\n",
       "</table>\n",
       "</div>"
      ],
      "text/plain": [
       "                event_name            device_id            datetime numb_exp  \\\n",
       "0         MainScreenAppear  4575588528974610257 2019-07-25 04:43:36      246   \n",
       "1         MainScreenAppear  7416695313311560658 2019-07-25 11:11:42      246   \n",
       "2  PaymentScreenSuccessful  3518123091307005509 2019-07-25 11:28:47      248   \n",
       "3         CartScreenAppear  3518123091307005509 2019-07-25 11:28:47      248   \n",
       "4  PaymentScreenSuccessful  6217807653094995999 2019-07-25 11:48:42      248   \n",
       "\n",
       "        date  \n",
       "0 2019-07-25  \n",
       "1 2019-07-25  \n",
       "2 2019-07-25  \n",
       "3 2019-07-25  \n",
       "4 2019-07-25  "
      ]
     },
     "metadata": {},
     "output_type": "display_data"
    }
   ],
   "source": [
    "logs_exp['date'] = logs_exp['datetime'].dt.date # Добавляем столбец с датами\n",
    "logs_exp['date'] = pd.to_datetime(logs_exp['date'])\n",
    "display(logs_exp.head())"
   ]
  },
  {
   "cell_type": "code",
   "execution_count": 10,
   "metadata": {},
   "outputs": [
    {
     "name": "stdout",
     "output_type": "stream",
     "text": [
      "Нет пользователей, попавших в несколько групп.\n"
     ]
    }
   ],
   "source": [
    "# Проверка, что пользователи не попали сразу в несколько групп\n",
    "user_groups_count = logs_exp.groupby('device_id')['numb_exp'].nunique()\n",
    "\n",
    "if (user_groups_count > 1).any():\n",
    "    print(\"Обнаружены пользователи, попавшие в несколько групп.\")\n",
    "else:\n",
    "    print(\"Нет пользователей, попавших в несколько групп.\")"
   ]
  },
  {
   "cell_type": "markdown",
   "metadata": {},
   "source": [
    "На начальном этапе исследования имелся датафрейм с 244 126 строк. Были заменены названия столбцов на более удобные. Заменены типы данных в некоторых столбцах на корректные. Пропусков не было. Но были дубликаты. Они были удалены. Был добавлен отдельный столбец с датами. Также была проведена проверка на наличие пользователей, которые могли попасть в несколько групп. Таких пользователей не обнаружено."
   ]
  },
  {
   "cell_type": "markdown",
   "metadata": {},
   "source": [
    "#### Шаг 3. Изучите и проверьте данные\n",
    "\n",
    "Сколько всего событий в логе?"
   ]
  },
  {
   "cell_type": "code",
   "execution_count": 11,
   "metadata": {},
   "outputs": [
    {
     "name": "stdout",
     "output_type": "stream",
     "text": [
      "В логе 243713 событий.\n"
     ]
    }
   ],
   "source": [
    "print(f'В логе {len(logs_exp)} событий.')"
   ]
  },
  {
   "cell_type": "markdown",
   "metadata": {},
   "source": [
    "Сколько всего пользователей в логе?"
   ]
  },
  {
   "cell_type": "code",
   "execution_count": 12,
   "metadata": {},
   "outputs": [
    {
     "name": "stdout",
     "output_type": "stream",
     "text": [
      "В логе 7551 пользователей.\n"
     ]
    }
   ],
   "source": [
    "count_users = logs_exp['device_id'].nunique()\n",
    "print(f'В логе {count_users} пользователей.')"
   ]
  },
  {
   "cell_type": "markdown",
   "metadata": {},
   "source": [
    "Сколько в среднем событий приходится на пользователя?"
   ]
  },
  {
   "cell_type": "code",
   "execution_count": 13,
   "metadata": {},
   "outputs": [
    {
     "name": "stdout",
     "output_type": "stream",
     "text": [
      "В среднем на пользователя приходятся 32 события.\n"
     ]
    }
   ],
   "source": [
    "avg_event = round(logs_exp.groupby('device_id')['event_name'].count().mean())\n",
    "print(f'В среднем на пользователя приходятся {avg_event} события.')"
   ]
  },
  {
   "cell_type": "code",
   "execution_count": 14,
   "metadata": {},
   "outputs": [
    {
     "data": {
      "image/png": "[encoded data removed]",
      "text/plain": [
       "<Figure size 1080x288 with 2 Axes>"
      ]
     },
     "metadata": {
      "needs_background": "light"
     },
     "output_type": "display_data"
    }
   ],
   "source": [
    "# Гистограмма количества событий на пользователя\n",
    "plt.figure(figsize=(15, 4))\n",
    "\n",
    "# Первый график (гистограмма)\n",
    "plt.subplot(1, 2, 1)\n",
    "sns.histplot(logs_exp.groupby('device_id')['event_name'].count(), bins=30, kde=False)\n",
    "plt.title('Распределение количества событий на пользователя')\n",
    "plt.xlabel('Количество событий')\n",
    "plt.ylabel('Количество пользователей')\n",
    "\n",
    "# Второй график (ящик с усами)\n",
    "plt.subplot(1, 2, 2)\n",
    "sns.boxplot(x=logs_exp.groupby('device_id')['event_name'].count())\n",
    "plt.title('Ящик с усами для количества событий на пользователя')\n",
    "plt.xlabel('Количество событий')\n",
    "\n",
    "plt.tight_layout()  # Для автоматического выравнивания графиков\n",
    "plt.show()"
   ]
  },
  {
   "cell_type": "markdown",
   "metadata": {},
   "source": [
    "Данными за какой период вы располагаете? Найдите максимальную и минимальную дату. Изучите, как меняется количество данных: постройте столбчатую диаграмму, которая отобразит количество событий в зависимости от времени в разрезе групп. Можно ли быть уверенным, что у вас одинаково полные данные за весь период? Технически в логи новых дней по некоторым пользователям могут «доезжать» события из прошлого — это может «перекашивать данные». Определите, с какого момента данные полные и отбросьте более старые. Данными за какой период времени вы располагаете на самом деле?"
   ]
  },
  {
   "cell_type": "code",
   "execution_count": 15,
   "metadata": {
    "scrolled": false
   },
   "outputs": [
    {
     "name": "stdout",
     "output_type": "stream",
     "text": [
      "Минимальная дата 2019-07-25 00:00:00\n",
      "Максимальная дата 2019-08-07 00:00:00\n"
     ]
    },
    {
     "data": {
      "image/png": "[encoded data removed]",
      "text/plain": [
       "<Figure size 1080x288 with 2 Axes>"
      ]
     },
     "metadata": {
      "needs_background": "light"
     },
     "output_type": "display_data"
    }
   ],
   "source": [
    "print('Минимальная дата', logs_exp['date'].min())\n",
    "print('Максимальная дата', logs_exp['date'].max())\n",
    "\n",
    "fig, axes = plt.subplots(1, 2, figsize=(15, 4))\n",
    "\n",
    "# Первый график\n",
    "logs_exp['datetime'].hist(bins=4, ax=axes[0])\n",
    "axes[0].set_title('Количество событий в зависимости от времени за всё время')\n",
    "axes[0].set_xlabel('Период')\n",
    "axes[0].set_ylabel('Количество событий')\n",
    "\n",
    "# Второй график\n",
    "logs_exp.loc[logs_exp['datetime'] < '2019-07-31']['datetime'].hist(bins=4, ax=axes[1])\n",
    "axes[1].set_title('Количество событий до 2019-07-31')\n",
    "axes[1].set_xlabel('Период')\n",
    "axes[1].set_ylabel('Количество событий')\n",
    "\n",
    "# Регулируем расположение графиков\n",
    "plt.tight_layout()\n",
    "\n",
    "# Отображаем графики\n",
    "plt.show()\n",
    "\n",
    "new_data = logs_exp.loc[logs_exp['datetime'] >= '2019-08-01']"
   ]
  },
  {
   "cell_type": "markdown",
   "metadata": {},
   "source": [
    "Имеются данные за период с 25.07.2019 по 07.08.2019. Данные не одинаково полные за весь период. Они становятся полными с 01.08.2019. Но заканчиваются они также 07.08.2019."
   ]
  },
  {
   "cell_type": "markdown",
   "metadata": {},
   "source": [
    "Много ли событий и пользователей вы потеряли, отбросив старые данные?"
   ]
  },
  {
   "cell_type": "code",
   "execution_count": 16,
   "metadata": {},
   "outputs": [
    {
     "name": "stdout",
     "output_type": "stream",
     "text": [
      "Исходное количество событий: 243713\n",
      "Исходное количество пользователей: 7551\n",
      "\n",
      "Потеряно событий после фильтрации: 2826 (1.16%)\n",
      "Потеряно пользователей после фильтрации: 17 (0.23%)\n"
     ]
    }
   ],
   "source": [
    "# Исходный датасет\n",
    "total_events = len(logs_exp)\n",
    "total_users = logs_exp['device_id'].nunique()\n",
    "\n",
    "# Фильтрация данных после 31 июля\n",
    "recent_data = logs_exp.loc[logs_exp['date'] > '2019-07-31']\n",
    "\n",
    "# Подсчет потерь\n",
    "lost_events = total_events - len(recent_data)\n",
    "lost_users = total_users - recent_data['device_id'].nunique()\n",
    "\n",
    "# Расчет потерь в процентном виде\n",
    "percentage_lost_events = (lost_events / total_events) * 100\n",
    "percentage_lost_users = (lost_users / total_users) * 100\n",
    "\n",
    "# Вывод результатов\n",
    "print(f'Исходное количество событий: {total_events}')\n",
    "print(f'Исходное количество пользователей: {total_users}\\n')\n",
    "\n",
    "print(f'Потеряно событий после фильтрации: {lost_events} ({percentage_lost_events:.2f}%)')\n",
    "print(f'Потеряно пользователей после фильтрации: {lost_users} ({percentage_lost_users:.2f}%)')"
   ]
  },
  {
   "cell_type": "markdown",
   "metadata": {},
   "source": [
    "Проверьте, что у вас есть пользователи из всех трёх экспериментальных групп."
   ]
  },
  {
   "cell_type": "code",
   "execution_count": 17,
   "metadata": {
    "scrolled": true
   },
   "outputs": [
    {
     "data": {
      "text/plain": [
       "numb_exp\n",
       "248    2537\n",
       "247    2513\n",
       "246    2484\n",
       "Name: device_id, dtype: int64"
      ]
     },
     "execution_count": 17,
     "metadata": {},
     "output_type": "execute_result"
    }
   ],
   "source": [
    "new_data.groupby('numb_exp')['device_id'].nunique().sort_values(ascending=False)"
   ]
  },
  {
   "cell_type": "markdown",
   "metadata": {},
   "source": [
    "#### Шаг 4. Изучите воронку событий\n",
    "\n",
    "Посмотрите, какие события есть в логах, как часто они встречаются. Отсортируйте события по частоте."
   ]
  },
  {
   "cell_type": "code",
   "execution_count": 18,
   "metadata": {},
   "outputs": [
    {
     "data": {
      "text/plain": [
       "MainScreenAppear           117328\n",
       "OffersScreenAppear          46333\n",
       "CartScreenAppear            42303\n",
       "PaymentScreenSuccessful     33918\n",
       "Tutorial                     1005\n",
       "Name: event_name, dtype: int64"
      ]
     },
     "execution_count": 18,
     "metadata": {},
     "output_type": "execute_result"
    }
   ],
   "source": [
    "new_data['event_name'].value_counts().sort_values(ascending=False)"
   ]
  },
  {
   "cell_type": "markdown",
   "metadata": {},
   "source": [
    "Посчитайте, сколько пользователей совершали каждое из этих событий. Отсортируйте события по числу пользователей. Посчитайте долю пользователей, которые хоть раз совершали событие."
   ]
  },
  {
   "cell_type": "code",
   "execution_count": 19,
   "metadata": {},
   "outputs": [
    {
     "data": {
      "text/plain": [
       "{'CartScreenAppear': 3734,\n",
       " 'MainScreenAppear': 7419,\n",
       " 'OffersScreenAppear': 4593,\n",
       " 'PaymentScreenSuccessful': 3539,\n",
       " 'Tutorial': 840}"
      ]
     },
     "execution_count": 19,
     "metadata": {},
     "output_type": "execute_result"
    }
   ],
   "source": [
    "event_counts = new_data.groupby('event_name')['device_id'].nunique().to_dict()\n",
    "event_counts"
   ]
  },
  {
   "cell_type": "code",
   "execution_count": 20,
   "metadata": {},
   "outputs": [
    {
     "data": {
      "text/plain": [
       "event_name\n",
       "MainScreenAppear           98.5\n",
       "OffersScreenAppear         61.0\n",
       "CartScreenAppear           49.6\n",
       "PaymentScreenSuccessful    47.0\n",
       "Tutorial                   11.1\n",
       "Name: device_id, dtype: float64"
      ]
     },
     "execution_count": 20,
     "metadata": {},
     "output_type": "execute_result"
    }
   ],
   "source": [
    "event_counts['%'] = (new_data.groupby('event_name')['device_id'].nunique() / new_data['device_id'].nunique()).sort_values(ascending=False)\n",
    "round(event_counts['%'] * 100, 1)"
   ]
  },
  {
   "cell_type": "markdown",
   "metadata": {},
   "source": [
    "Предположите, в каком порядке происходят события. Все ли они выстраиваются в последовательную цепочку? Их не нужно учитывать при расчёте воронки."
   ]
  },
  {
   "cell_type": "markdown",
   "metadata": {},
   "source": [
    "События, скорее всего, не обязательно происходят в строгой последовательности. Например, возможно, пользователь может совершить покупку, даже не пройдя руководство (Tutorial). Возможно, некоторые пользователи пропускают этот шаг и переходят сразу к просмотру предложений (OffersScreenAppear) или добавлению товаров в корзину (CartScreenAppear). Следовательно, Tutorial не обязательно является предшественником всех остальных событий, и он может не иметь существенного влияния на успешное завершение покупки (PaymentScreenSuccessful).\n",
    "\n",
    "1. MainScreenAppear - Появление главного экрана\n",
    "2. OffersScreenAppear - Появляется экран предложений\n",
    "3. CartScreenAppear - Появление экрана корзины\n",
    "4. PaymentScreenSuccessful - Экран оплаты прошел успешно"
   ]
  },
  {
   "cell_type": "markdown",
   "metadata": {},
   "source": [
    "По воронке событий посчитайте, какая доля пользователей проходит на следующий шаг воронки (от числа пользователей на предыдущем). То есть для последовательности событий A → B → C посчитайте отношение числа пользователей с событием B к количеству пользователей с событием A, а также отношение числа пользователей с событием C к количеству пользователей с событием B."
   ]
  },
  {
   "cell_type": "code",
   "execution_count": 21,
   "metadata": {
    "scrolled": true
   },
   "outputs": [
    {
     "name": "stdout",
     "output_type": "stream",
     "text": [
      "MainScreenAppear -> OffersScreenAppear: 61.91%\n",
      "OffersScreenAppear -> CartScreenAppear: 81.3%\n",
      "CartScreenAppear -> PaymentScreenSuccessful: 94.78%\n"
     ]
    }
   ],
   "source": [
    "funnel_order = ['MainScreenAppear', 'OffersScreenAppear', 'CartScreenAppear', 'PaymentScreenSuccessful']\n",
    "\n",
    "funnel_conversion = {}\n",
    "\n",
    "for i in range(len(funnel_order) - 1):\n",
    "    current_event = funnel_order[i]\n",
    "    next_event = funnel_order[i + 1]\n",
    "\n",
    "    conversion_rate = event_counts[next_event] / event_counts[current_event]\n",
    "    funnel_conversion[f'{current_event} -> {next_event}'] = conversion_rate\n",
    "    \n",
    "for step, conversion_rate in funnel_conversion.items():\n",
    "    print(f'{step}: {round(conversion_rate * 100, 2)}%')"
   ]
  },
  {
   "cell_type": "markdown",
   "metadata": {},
   "source": [
    "На каком шаге теряете больше всего пользователей?"
   ]
  },
  {
   "cell_type": "markdown",
   "metadata": {},
   "source": [
    "Самая большая потеря пользователей происходит на этапе перехода с главного экрана на экран предложений."
   ]
  },
  {
   "cell_type": "markdown",
   "metadata": {},
   "source": [
    "Какая доля пользователей доходит от первого события до оплаты?"
   ]
  },
  {
   "cell_type": "code",
   "execution_count": 22,
   "metadata": {},
   "outputs": [
    {
     "name": "stdout",
     "output_type": "stream",
     "text": [
      "47.7% пользователей доходит от первого события до оплаты\n"
     ]
    }
   ],
   "source": [
    "conversion_to_payment = event_counts['PaymentScreenSuccessful'] / event_counts['MainScreenAppear']\n",
    "print(f\"{round(conversion_to_payment * 100, 2)}% пользователей доходит от первого события до оплаты\")"
   ]
  },
  {
   "cell_type": "markdown",
   "metadata": {},
   "source": [
    "На основе анализа воронки событий и конверсии между ними можно сделать следующие выводы:\n",
    "\n",
    "1. **Главный экран (MainScreenAppear):** Большинство пользователей начинают с этого этапа, и его прохождение составляет 100% (базовый уровень).\n",
    "\n",
    "2. **Экран предложений (OffersScreenAppear):** Почти 62% пользователей, просмотревших главный экран, переходят к просмотру предложений. Это самый крупный процент потери пользователей на этапе воронки.\n",
    "\n",
    "3. **Экран корзины (CartScreenAppear):** Примерно 81% пользователей, увидевших предложения, переходят к добавлению товаров в корзину.\n",
    "\n",
    "4. **Экран оплаты (PaymentScreenSuccessful):** Более 94% пользователей, добавивших товары в корзину, успешно завершают оплату.\n",
    "\n",
    "Общая конверсия от первого события (MainScreenAppear) до оплаты (PaymentScreenSuccessful) составляет примерно 47.7%.\n",
    "\n",
    "Следует отметить, что порядок событий не обязательно строгий, и некоторые пользователи могут пропускать определенные этапы, например, проходить мимо руководства (Tutorial) и сразу переходить к просмотру предложений или добавлению товаров в корзину.\n",
    "\n",
    "Большая потеря пользователей происходит на этапе перехода с главного экрана на экран предложений, что может указывать на неоптимальность предложенных товаров или сложности в интерфейсе привлечения внимания пользователя. Оптимизация этого перехода может привести к улучшению общей конверсии в покупку."
   ]
  },
  {
   "cell_type": "markdown",
   "metadata": {},
   "source": [
    "#### Шаг 5. Изучите результаты эксперимента\n",
    "\n",
    "Сколько пользователей в каждой экспериментальной группе?"
   ]
  },
  {
   "cell_type": "code",
   "execution_count": 23,
   "metadata": {},
   "outputs": [
    {
     "data": {
      "text/plain": [
       "numb_exp\n",
       "248    2537\n",
       "247    2513\n",
       "246    2484\n",
       "Name: device_id, dtype: int64"
      ]
     },
     "execution_count": 23,
     "metadata": {},
     "output_type": "execute_result"
    }
   ],
   "source": [
    "new_data.groupby('numb_exp')['device_id'].nunique().sort_values(ascending=False)"
   ]
  },
  {
   "cell_type": "markdown",
   "metadata": {},
   "source": [
    "Есть 2 контрольные группы для А/А-эксперимента, чтобы проверить корректность всех механизмов и расчётов. Проверьте, находят ли статистические критерии разницу между выборками 246 и 247."
   ]
  },
  {
   "cell_type": "markdown",
   "metadata": {},
   "source": [
    "Гипотезы\n",
    "\n",
    " - H0: Доли конверсии между группами 246 и 247 не различаются\n",
    " - H1: Доли конверсии между группами 246 и 247 различаются\n",
    "\n",
    "Уровень статистической значимости 0.5\n",
    "\n",
    "Используется Z-тест"
   ]
  },
  {
   "cell_type": "code",
   "execution_count": 24,
   "metadata": {},
   "outputs": [
    {
     "name": "stdout",
     "output_type": "stream",
     "text": [
      "Z-статистика: 1.5529168745114943\n",
      "p-значение: 0.12044299485641764\n",
      "Различий между группами не выявлено\n"
     ]
    }
   ],
   "source": [
    "# Уровень статистической значимости\n",
    "alpha = 0.05\n",
    "\n",
    "# Выделяем пользователей, прошедших события в каждой группе\n",
    "group_246_main = new_data.loc[(new_data['numb_exp'] == '246') & (new_data['event_name'] == 'MainScreenAppear'), 'device_id'].nunique()\n",
    "group_246_payment = new_data.loc[(new_data['numb_exp'] == '246') & (new_data['event_name'] == 'PaymentScreenSuccessful'), 'device_id'].nunique()\n",
    "\n",
    "group_247_main = new_data.loc[(new_data['numb_exp'] == '247') & (new_data['event_name'] == 'MainScreenAppear'), 'device_id'].nunique()\n",
    "group_247_payment = new_data.loc[(new_data['numb_exp'] == '247') & (new_data['event_name'] == 'PaymentScreenSuccessful'), 'device_id'].nunique()\n",
    "\n",
    "# Рассчитываем доли\n",
    "conversion_rate_246 = group_246_payment / group_246_main\n",
    "conversion_rate_247 = group_247_payment / group_247_main\n",
    "\n",
    "# Выборки\n",
    "count = np.array([group_246_payment, group_247_payment])\n",
    "nobs = np.array([group_246_main, group_247_main])\n",
    "\n",
    "# Z-тест для разности долей\n",
    "stat, p_value = proportions_ztest(count, nobs)\n",
    "\n",
    "# Вывод результатов\n",
    "print(f\"Z-статистика: {stat}\")\n",
    "print(f\"p-значение: {p_value}\")\n",
    "\n",
    "# Проверка гипотезы\n",
    "if p_value < alpha:\n",
    "    print(\"Различия между группами статистически значимы\")\n",
    "else:\n",
    "    print(\"Различий между группами не выявлено\")"
   ]
  },
  {
   "cell_type": "markdown",
   "metadata": {},
   "source": [
    "Выберите самое популярное событие. Посчитайте число пользователей, совершивших это событие в каждой из контрольных групп. Посчитайте долю пользователей, совершивших это событие. Проверьте, будет ли отличие между группами статистически достоверным. Проделайте то же самое для всех других событий (удобно обернуть проверку в отдельную функцию). Можно ли сказать, что разбиение на группы работает корректно?"
   ]
  },
  {
   "cell_type": "markdown",
   "metadata": {},
   "source": [
    "Гипотезы\n",
    "\n",
    " - H0: Доли пользователей, появившихся на том или ином этапе события, в группах 246 и 247 не различаются.\n",
    " - H1: Доли пользователей, появившихся на том или ином этапе события, в группах 246 и 247 различаются.\n",
    "\n",
    "Уровень статистической значимости 0.5\n",
    "\n",
    "Используется Z-тест"
   ]
  },
  {
   "cell_type": "code",
   "execution_count": 25,
   "metadata": {
    "scrolled": false
   },
   "outputs": [
    {
     "name": "stdout",
     "output_type": "stream",
     "text": [
      "Для события 'MainScreenAppear':\n",
      "Число пользователей в группе 246: 2450\n",
      "Число пользователей в группе 247: 2476\n",
      "Доля пользователей в группе 246: 98.63%\n",
      "Доля пользователей в группе 247: 98.53%\n",
      "p-value: 0.7570597232046099\n",
      "Различий между группами не выявлено\n",
      "\n",
      "Для события 'OffersScreenAppear':\n",
      "Число пользователей в группе 246: 1542\n",
      "Число пользователей в группе 247: 1520\n",
      "Доля пользователей в группе 246: 62.08%\n",
      "Доля пользователей в группе 247: 60.49%\n",
      "p-value: 0.2480954578522181\n",
      "Различий между группами не выявлено\n",
      "\n",
      "Для события 'CartScreenAppear':\n",
      "Число пользователей в группе 246: 1266\n",
      "Число пользователей в группе 247: 1238\n",
      "Доля пользователей в группе 246: 50.97%\n",
      "Доля пользователей в группе 247: 49.26%\n",
      "p-value: 0.22883372237997213\n",
      "Различий между группами не выявлено\n",
      "\n",
      "Для события 'PaymentScreenSuccessful':\n",
      "Число пользователей в группе 246: 1200\n",
      "Число пользователей в группе 247: 1158\n",
      "Доля пользователей в группе 246: 48.31%\n",
      "Доля пользователей в группе 247: 46.08%\n",
      "p-value: 0.11456679313141847\n",
      "Различий между группами не выявлено\n",
      "\n"
     ]
    }
   ],
   "source": [
    "def compare_events(event_name):\n",
    "    # Шаг 1: Выбераем самое популярное событие\n",
    "    # Шаг 2: Считаем число пользователей, совершивших это событие в каждой из контрольных групп\n",
    "    group_246_event = new_data.loc[(new_data['numb_exp'] == '246') & (new_data['event_name'] == event_name), 'device_id'].nunique()\n",
    "    group_247_event = new_data.loc[(new_data['numb_exp'] == '247') & (new_data['event_name'] == event_name), 'device_id'].nunique()\n",
    "\n",
    "    # Шаг 3: Считаем долю пользователей, совершивших это событие в каждой группе\n",
    "    total_users_246 = new_data.loc[new_data['numb_exp'] == '246', 'device_id'].nunique()\n",
    "    total_users_247 = new_data.loc[new_data['numb_exp'] == '247', 'device_id'].nunique()\n",
    "\n",
    "    conversion_rate_246 = group_246_event / total_users_246\n",
    "    conversion_rate_247 = group_247_event / total_users_247\n",
    "\n",
    "    # Шаг 4: Проверяем, будет ли отличие между группами статистически достоверным\n",
    "    count = np.array([group_246_event, group_247_event])\n",
    "    nobs = np.array([total_users_246, total_users_247])\n",
    "    \n",
    "    # Z-тест для разности долей\n",
    "    stat, p_value = proportions_ztest(count, nobs)\n",
    "\n",
    "    print(f\"Для события '{event_name}':\")\n",
    "    print(f\"Число пользователей в группе 246: {group_246_event}\")\n",
    "    print(f\"Число пользователей в группе 247: {group_247_event}\")\n",
    "    print(f\"Доля пользователей в группе 246: {conversion_rate_246 * 100:.2f}%\")\n",
    "    print(f\"Доля пользователей в группе 247: {conversion_rate_247 * 100:.2f}%\")\n",
    "    print(f\"p-value: {p_value}\")\n",
    "    \n",
    "    # Устанавливаем уровень статистической значимости\n",
    "    alpha = 0.05\n",
    "    if p_value < alpha:\n",
    "        print(\"Различия между группами статистически значимы\")\n",
    "    else:\n",
    "        print(\"Различий между группами не выявлено\")\n",
    "        \n",
    "    print()\n",
    "\n",
    "# Применяем функцию для каждого события\n",
    "for event in funnel_order:\n",
    "    compare_events(event)"
   ]
  },
  {
   "cell_type": "markdown",
   "metadata": {},
   "source": [
    "Можно сказать, что разбиение на группы работает корректно."
   ]
  },
  {
   "cell_type": "markdown",
   "metadata": {},
   "source": [
    "Аналогично поступите с группой с изменённым шрифтом. Сравните результаты с каждой из контрольных групп в отдельности по каждому событию. Сравните результаты с объединённой контрольной группой. Какие выводы из эксперимента можно сделать?"
   ]
  },
  {
   "cell_type": "markdown",
   "metadata": {},
   "source": [
    "Гипотеза для сравнения с каждой контрольной группой 246 или 247:\n",
    "\n",
    " - H0: Доли пользователей с изменённым шрифтом и контрольной группы 246 или 247 не различаются.\n",
    " - H1: Доли пользователей с изменённым шрифтом и контрольной группы 246 или 247 различаются.\n",
    " \n",
    "Гипотеза для сравнения с объединённой контрольной группой:\n",
    "\n",
    " - H0: Доли пользователей с изменённым шрифтом и объединённой контрольной группой не различаются.\n",
    " - H1: Доли пользователей с изменённым шрифтом и объединённой контрольной группой различаются.\n",
    "\n",
    "Уровень статистической значимости 0.5\n",
    "\n",
    "Используется Z-тест"
   ]
  },
  {
   "cell_type": "code",
   "execution_count": 26,
   "metadata": {},
   "outputs": [
    {
     "name": "stdout",
     "output_type": "stream",
     "text": [
      "Для события 'MainScreenAppear':\n",
      "Число пользователей в группе с изменённым шрифтом: 2493\n",
      "Число пользователей в контрольной группе 246: 2450\n",
      "Доля пользователей в группе с изменённым шрифтом: 98.27%\n",
      "Доля пользователей в контрольной группе 246: 98.63%\n",
      "p-value: 0.2949721933554553\n",
      "Различий между группами не выявлено\n",
      "\n",
      "Для события 'OffersScreenAppear':\n",
      "Число пользователей в группе с изменённым шрифтом: 1531\n",
      "Число пользователей в контрольной группе 246: 1542\n",
      "Доля пользователей в группе с изменённым шрифтом: 60.35%\n",
      "Доля пользователей в контрольной группе 246: 62.08%\n",
      "p-value: 0.20836205402738917\n",
      "Различий между группами не выявлено\n",
      "\n",
      "Для события 'CartScreenAppear':\n",
      "Число пользователей в группе с изменённым шрифтом: 1230\n",
      "Число пользователей в контрольной группе 246: 1266\n",
      "Доля пользователей в группе с изменённым шрифтом: 48.48%\n",
      "Доля пользователей в контрольной группе 246: 50.97%\n",
      "p-value: 0.07842923237520125\n",
      "Различий между группами не выявлено\n",
      "\n",
      "Для события 'PaymentScreenSuccessful':\n",
      "Число пользователей в группе с изменённым шрифтом: 1181\n",
      "Число пользователей в контрольной группе 246: 1200\n",
      "Доля пользователей в группе с изменённым шрифтом: 46.55%\n",
      "Доля пользователей в контрольной группе 246: 48.31%\n",
      "p-value: 0.21225532756977972\n",
      "Различий между группами не выявлено\n",
      "\n",
      "Для события 'MainScreenAppear':\n",
      "Число пользователей в группе с изменённым шрифтом: 2493\n",
      "Число пользователей в контрольной группе 247: 2476\n",
      "Доля пользователей в группе с изменённым шрифтом: 98.27%\n",
      "Доля пользователей в контрольной группе 247: 98.53%\n",
      "p-value: 0.45870536166215137\n",
      "Различий между группами не выявлено\n",
      "\n",
      "Для события 'OffersScreenAppear':\n",
      "Число пользователей в группе с изменённым шрифтом: 1531\n",
      "Число пользователей в контрольной группе 247: 1520\n",
      "Доля пользователей в группе с изменённым шрифтом: 60.35%\n",
      "Доля пользователей в контрольной группе 247: 60.49%\n",
      "p-value: 0.919781783059226\n",
      "Различий между группами не выявлено\n",
      "\n",
      "Для события 'CartScreenAppear':\n",
      "Число пользователей в группе с изменённым шрифтом: 1230\n",
      "Число пользователей в контрольной группе 247: 1238\n",
      "Доля пользователей в группе с изменённым шрифтом: 48.48%\n",
      "Доля пользователей в контрольной группе 247: 49.26%\n",
      "p-value: 0.5786197879539782\n",
      "Различий между группами не выявлено\n",
      "\n",
      "Для события 'PaymentScreenSuccessful':\n",
      "Число пользователей в группе с изменённым шрифтом: 1181\n",
      "Число пользователей в контрольной группе 247: 1158\n",
      "Доля пользователей в группе с изменённым шрифтом: 46.55%\n",
      "Доля пользователей в контрольной группе 247: 46.08%\n",
      "p-value: 0.7373415053803964\n",
      "Различий между группами не выявлено\n",
      "\n"
     ]
    }
   ],
   "source": [
    "def compare_with_control(group_changed_font, control_group):\n",
    "    for event in funnel_order:\n",
    "        # Выделяем данные для каждого события в группе с изменённым шрифтом\n",
    "        group_changed_font_event = group_changed_font.loc[group_changed_font['event_name'] == event, 'device_id'].nunique()\n",
    "\n",
    "        # Выделяем данные для каждого события в контрольной группе\n",
    "        control_group_event = new_data.loc[(new_data['numb_exp'] == control_group) & (new_data['event_name'] == event), 'device_id'].nunique()\n",
    "\n",
    "        # Считаем долю пользователей, совершивших это событие, в каждой группе\n",
    "        total_users_changed_font = group_changed_font['device_id'].nunique()\n",
    "        total_users_control_group = new_data.loc[new_data['numb_exp'] == control_group, 'device_id'].nunique()\n",
    "\n",
    "        # Добавляем проверку на ноль перед делением\n",
    "        conversion_rate_changed_font = group_changed_font_event / total_users_changed_font\n",
    "        conversion_rate_control_group = control_group_event / total_users_control_group\n",
    "\n",
    "        # Проверяем, будет ли отличие между группами статистически достоверным\n",
    "        count = np.array([group_changed_font_event, control_group_event])\n",
    "        nobs = np.array([total_users_changed_font, total_users_control_group])\n",
    "\n",
    "        stat, p_value = proportions_ztest(count, nobs)\n",
    "\n",
    "        print(f\"Для события '{event}':\")\n",
    "        print(f\"Число пользователей в группе с изменённым шрифтом: {group_changed_font_event}\")\n",
    "        print(f\"Число пользователей в контрольной группе {control_group}: {control_group_event}\")\n",
    "        print(f\"Доля пользователей в группе с изменённым шрифтом: {conversion_rate_changed_font * 100:.2f}%\")\n",
    "        print(f\"Доля пользователей в контрольной группе {control_group}: {conversion_rate_control_group * 100:.2f}%\")\n",
    "        print(f\"p-value: {p_value}\")\n",
    "            \n",
    "        # Уровень статистической значимости\n",
    "        alpha = 0.05\n",
    "        if p_value < alpha:\n",
    "            print(\"Различия между группами статистически значимы\")\n",
    "        else:\n",
    "            print(\"Различий между группами не выявлено\")\n",
    "            \n",
    "        print()\n",
    "\n",
    "group_changed_font = new_data.loc[new_data['numb_exp'] == '248']\n",
    "        \n",
    "# Сравниваем группу с изменённым шрифтом с каждой контрольной группой\n",
    "compare_with_control(group_changed_font, '246')\n",
    "compare_with_control(group_changed_font, '247')"
   ]
  },
  {
   "cell_type": "code",
   "execution_count": 27,
   "metadata": {},
   "outputs": [
    {
     "name": "stdout",
     "output_type": "stream",
     "text": [
      "Для события 'MainScreenAppear':\n",
      "Число пользователей в группе с изменённым шрифтом: 2493\n",
      "Число пользователей в объединенной контрольной группе: 4926\n",
      "Доля пользователей в группе с изменённым шрифтом: 98.27%\n",
      "Доля пользователей в объединенной контрольной группе: 98.58%\n",
      "p-value: 0.29424526837179577\n",
      "Различий между группами не выявлено\n",
      "\n",
      "Для события 'OffersScreenAppear':\n",
      "Число пользователей в группе с изменённым шрифтом: 1531\n",
      "Число пользователей в объединенной контрольной группе: 3062\n",
      "Доля пользователей в группе с изменённым шрифтом: 60.35%\n",
      "Доля пользователей в объединенной контрольной группе: 61.28%\n",
      "p-value: 0.43425549655188245\n",
      "Различий между группами не выявлено\n",
      "\n",
      "Для события 'CartScreenAppear':\n",
      "Число пользователей в группе с изменённым шрифтом: 1230\n",
      "Число пользователей в объединенной контрольной группе: 2504\n",
      "Доля пользователей в группе с изменённым шрифтом: 48.48%\n",
      "Доля пользователей в объединенной контрольной группе: 50.11%\n",
      "p-value: 0.18175875284404386\n",
      "Различий между группами не выявлено\n",
      "\n",
      "Для события 'PaymentScreenSuccessful':\n",
      "Число пользователей в группе с изменённым шрифтом: 1181\n",
      "Число пользователей в объединенной контрольной группе: 2358\n",
      "Доля пользователей в группе с изменённым шрифтом: 46.55%\n",
      "Доля пользователей в объединенной контрольной группе: 47.19%\n",
      "p-value: 0.6004294282308703\n",
      "Различий между группами не выявлено\n",
      "\n"
     ]
    }
   ],
   "source": [
    "# Добавим функцию для сравнения с объединенной контрольной группой\n",
    "def compare_with_combined_control(group_changed_font, combined_control_group):\n",
    "    for event in funnel_order:\n",
    "        # Выделяем данные для каждого события в группе с изменённым шрифтом\n",
    "        group_changed_font_event = group_changed_font.loc[group_changed_font['event_name'] == event, 'device_id'].nunique()\n",
    "\n",
    "        # Выделяем данные для каждого события в объединенной контрольной группе\n",
    "        combined_control_group_event = combined_control_group.loc[combined_control_group['event_name'] == event, 'device_id'].nunique()\n",
    "\n",
    "        # Считаем долю пользователей, совершивших это событие, в каждой группе\n",
    "        total_users_changed_font = group_changed_font['device_id'].nunique()\n",
    "        total_users_combined_control_group = combined_control_group['device_id'].nunique()\n",
    "\n",
    "        # Добавляем проверку на ноль перед делением\n",
    "        conversion_rate_changed_font = group_changed_font_event / total_users_changed_font\n",
    "        conversion_rate_combined_control_group = combined_control_group_event / total_users_combined_control_group\n",
    "\n",
    "        # Проверяем, будет ли отличие между группами статистически достоверным\n",
    "        count = np.array([group_changed_font_event, combined_control_group_event])\n",
    "        nobs = np.array([total_users_changed_font, total_users_combined_control_group])\n",
    "\n",
    "        stat, p_value = proportions_ztest(count, nobs)\n",
    "\n",
    "        print(f\"Для события '{event}':\")\n",
    "        print(f\"Число пользователей в группе с изменённым шрифтом: {group_changed_font_event}\")\n",
    "        print(f\"Число пользователей в объединенной контрольной группе: {combined_control_group_event}\")\n",
    "        print(f\"Доля пользователей в группе с изменённым шрифтом: {conversion_rate_changed_font * 100:.2f}%\")\n",
    "        print(f\"Доля пользователей в объединенной контрольной группе: {conversion_rate_combined_control_group * 100:.2f}%\")\n",
    "        print(f\"p-value: {p_value}\")\n",
    "\n",
    "        # Уровень статистической значимости\n",
    "        alpha = 0.05\n",
    "        if p_value < alpha:\n",
    "            print(\"Различия между группами статистически значимы\")\n",
    "        else:\n",
    "            print(\"Различий между группами не выявлено\")\n",
    "\n",
    "        print()\n",
    "\n",
    "# Объединяем данные по контрольным группам 246 и 247\n",
    "combined_control_group = new_data.loc[new_data['numb_exp'].isin(['246', '247'])]\n",
    "\n",
    "# Сравниваем группу с изменённым шрифтом с объединенной контрольной группой\n",
    "compare_with_combined_control(group_changed_font, combined_control_group)"
   ]
  },
  {
   "cell_type": "markdown",
   "metadata": {},
   "source": [
    "Для каждого из событий не было выявлено статистически значимых различий между группой с изменённым шрифтом и контрольными группами (246 и 247)."
   ]
  },
  {
   "cell_type": "markdown",
   "metadata": {},
   "source": [
    "Какой уровень значимости вы выбрали при проверке статистических гипотез выше? Посчитайте, сколько проверок статистических гипотез вы сделали. При уровне значимости 0.1 в 10% случаев можно ошибочно отклонить нулевую гипотезу при условии, что она верна. Какой уровень значимости стоит применить? Если вы хотите изменить его, проделайте предыдущие пункты и проверьте свои выводы."
   ]
  },
  {
   "cell_type": "markdown",
   "metadata": {},
   "source": [
    "При проверке статистических гипотез выше был выбран 0,5 уровень значимости. Было сделано 16 проверок статистических гипотез. Стоит применить 0,003125% уровень значимости."
   ]
  },
  {
   "cell_type": "markdown",
   "metadata": {},
   "source": [
    "Гипотезы:\n",
    "\n",
    " - H0: Доли пользователей, появившихся на том или ином этапе события, в группах 246 и 247 не различаются.\n",
    " - H1: Доли пользователей, появившихся на том или ином этапе события, в группах 246 и 247 различаются.\n",
    "\n",
    "Уровень статистической значимости 0.003125\n",
    "\n",
    "Используется Z-тест"
   ]
  },
  {
   "cell_type": "code",
   "execution_count": 28,
   "metadata": {},
   "outputs": [
    {
     "name": "stdout",
     "output_type": "stream",
     "text": [
      "Для события 'MainScreenAppear':\n",
      "Число пользователей в группе 246: 2450\n",
      "Число пользователей в группе 247: 2476\n",
      "Доля пользователей в группе 246: 98.63%\n",
      "Доля пользователей в группе 247: 98.53%\n",
      "p-value: 0.7570597232046099\n",
      "Различий между группами не выявлено\n",
      "\n",
      "Для события 'OffersScreenAppear':\n",
      "Число пользователей в группе 246: 1542\n",
      "Число пользователей в группе 247: 1520\n",
      "Доля пользователей в группе 246: 62.08%\n",
      "Доля пользователей в группе 247: 60.49%\n",
      "p-value: 0.2480954578522181\n",
      "Различий между группами не выявлено\n",
      "\n",
      "Для события 'CartScreenAppear':\n",
      "Число пользователей в группе 246: 1266\n",
      "Число пользователей в группе 247: 1238\n",
      "Доля пользователей в группе 246: 50.97%\n",
      "Доля пользователей в группе 247: 49.26%\n",
      "p-value: 0.22883372237997213\n",
      "Различий между группами не выявлено\n",
      "\n",
      "Для события 'PaymentScreenSuccessful':\n",
      "Число пользователей в группе 246: 1200\n",
      "Число пользователей в группе 247: 1158\n",
      "Доля пользователей в группе 246: 48.31%\n",
      "Доля пользователей в группе 247: 46.08%\n",
      "p-value: 0.11456679313141847\n",
      "Различий между группами не выявлено\n",
      "\n"
     ]
    }
   ],
   "source": [
    "def compare_events(event_name):\n",
    "    # Шаг 1: Выбераем самое популярное событие\n",
    "    # Шаг 2: Считаем число пользователей, совершивших это событие в каждой из контрольных групп\n",
    "    group_246_event = new_data.loc[(new_data['numb_exp'] == '246') & (new_data['event_name'] == event_name), 'device_id'].nunique()\n",
    "    group_247_event = new_data.loc[(new_data['numb_exp'] == '247') & (new_data['event_name'] == event_name), 'device_id'].nunique()\n",
    "\n",
    "    # Шаг 3: Считаем долю пользователей, совершивших это событие в каждой группе\n",
    "    total_users_246 = new_data.loc[new_data['numb_exp'] == '246', 'device_id'].nunique()\n",
    "    total_users_247 = new_data.loc[new_data['numb_exp'] == '247', 'device_id'].nunique()\n",
    "\n",
    "    conversion_rate_246 = group_246_event / total_users_246\n",
    "    conversion_rate_247 = group_247_event / total_users_247\n",
    "\n",
    "    # Шаг 4: Проверяем, будет ли отличие между группами статистически достоверным\n",
    "    count = np.array([group_246_event, group_247_event])\n",
    "    nobs = np.array([total_users_246, total_users_247])\n",
    "    \n",
    "    # Z-тест для разности долей\n",
    "    stat, p_value = proportions_ztest(count, nobs)\n",
    "\n",
    "    print(f\"Для события '{event_name}':\")\n",
    "    print(f\"Число пользователей в группе 246: {group_246_event}\")\n",
    "    print(f\"Число пользователей в группе 247: {group_247_event}\")\n",
    "    print(f\"Доля пользователей в группе 246: {conversion_rate_246 * 100:.2f}%\")\n",
    "    print(f\"Доля пользователей в группе 247: {conversion_rate_247 * 100:.2f}%\")\n",
    "    print(f\"p-value: {p_value}\")\n",
    "    \n",
    "    # Устанавливаем уровень статистической значимости\n",
    "    alpha = 0.003125\n",
    "    if p_value < alpha:\n",
    "        print(\"Различия между группами статистически значимы\")\n",
    "    else:\n",
    "        print(\"Различий между группами не выявлено\")\n",
    "        \n",
    "    print()\n",
    "\n",
    "# Применяем функцию для каждого события\n",
    "for event in funnel_order:\n",
    "    compare_events(event)"
   ]
  },
  {
   "cell_type": "markdown",
   "metadata": {},
   "source": [
    "Гипотеза для сравнения с каждой контрольной группой 246 или 247:\n",
    "\n",
    " - H0: Доли пользователей с изменённым шрифтом и контрольной группы 246 или 247 не различаются.\n",
    " - H1: Доли пользователей с изменённым шрифтом и контрольной группы 246 или 247 различаются.\n",
    " \n",
    "Гипотеза для сравнения с объединённой контрольной группой:\n",
    "\n",
    " - H0: Доли пользователей с изменённым шрифтом и объединённой контрольной группой не различаются.\n",
    " - H1: Доли пользователей с изменённым шрифтом и объединённой контрольной группой различаются.\n",
    "\n",
    "Уровень статистической значимости 0.003125\n",
    "\n",
    "Используется Z-тест"
   ]
  },
  {
   "cell_type": "code",
   "execution_count": 29,
   "metadata": {
    "scrolled": false
   },
   "outputs": [
    {
     "name": "stdout",
     "output_type": "stream",
     "text": [
      "Для события 'MainScreenAppear':\n",
      "Число пользователей в группе с изменённым шрифтом: 2493\n",
      "Число пользователей в контрольной группе 246: 2450\n",
      "Доля пользователей в группе с изменённым шрифтом: 98.27%\n",
      "Доля пользователей в контрольной группе 246: 98.63%\n",
      "p-value: 0.2949721933554553\n",
      "Различий между группами не выявлено\n",
      "\n",
      "Для события 'OffersScreenAppear':\n",
      "Число пользователей в группе с изменённым шрифтом: 1531\n",
      "Число пользователей в контрольной группе 246: 1542\n",
      "Доля пользователей в группе с изменённым шрифтом: 60.35%\n",
      "Доля пользователей в контрольной группе 246: 62.08%\n",
      "p-value: 0.20836205402738917\n",
      "Различий между группами не выявлено\n",
      "\n",
      "Для события 'CartScreenAppear':\n",
      "Число пользователей в группе с изменённым шрифтом: 1230\n",
      "Число пользователей в контрольной группе 246: 1266\n",
      "Доля пользователей в группе с изменённым шрифтом: 48.48%\n",
      "Доля пользователей в контрольной группе 246: 50.97%\n",
      "p-value: 0.07842923237520125\n",
      "Различий между группами не выявлено\n",
      "\n",
      "Для события 'PaymentScreenSuccessful':\n",
      "Число пользователей в группе с изменённым шрифтом: 1181\n",
      "Число пользователей в контрольной группе 246: 1200\n",
      "Доля пользователей в группе с изменённым шрифтом: 46.55%\n",
      "Доля пользователей в контрольной группе 246: 48.31%\n",
      "p-value: 0.21225532756977972\n",
      "Различий между группами не выявлено\n",
      "\n",
      "Для события 'MainScreenAppear':\n",
      "Число пользователей в группе с изменённым шрифтом: 2493\n",
      "Число пользователей в контрольной группе 247: 2476\n",
      "Доля пользователей в группе с изменённым шрифтом: 98.27%\n",
      "Доля пользователей в контрольной группе 247: 98.53%\n",
      "p-value: 0.45870536166215137\n",
      "Различий между группами не выявлено\n",
      "\n",
      "Для события 'OffersScreenAppear':\n",
      "Число пользователей в группе с изменённым шрифтом: 1531\n",
      "Число пользователей в контрольной группе 247: 1520\n",
      "Доля пользователей в группе с изменённым шрифтом: 60.35%\n",
      "Доля пользователей в контрольной группе 247: 60.49%\n",
      "p-value: 0.919781783059226\n",
      "Различий между группами не выявлено\n",
      "\n",
      "Для события 'CartScreenAppear':\n",
      "Число пользователей в группе с изменённым шрифтом: 1230\n",
      "Число пользователей в контрольной группе 247: 1238\n",
      "Доля пользователей в группе с изменённым шрифтом: 48.48%\n",
      "Доля пользователей в контрольной группе 247: 49.26%\n",
      "p-value: 0.5786197879539782\n",
      "Различий между группами не выявлено\n",
      "\n",
      "Для события 'PaymentScreenSuccessful':\n",
      "Число пользователей в группе с изменённым шрифтом: 1181\n",
      "Число пользователей в контрольной группе 247: 1158\n",
      "Доля пользователей в группе с изменённым шрифтом: 46.55%\n",
      "Доля пользователей в контрольной группе 247: 46.08%\n",
      "p-value: 0.7373415053803964\n",
      "Различий между группами не выявлено\n",
      "\n"
     ]
    }
   ],
   "source": [
    "def compare_with_control(group_changed_font, control_group):\n",
    "    for event in funnel_order:\n",
    "        # Выделяем данные для каждого события в группе с изменённым шрифтом\n",
    "        group_changed_font_event = group_changed_font.loc[group_changed_font['event_name'] == event, 'device_id'].nunique()\n",
    "\n",
    "        # Выделяем данные для каждого события в контрольной группе\n",
    "        control_group_event = new_data.loc[(new_data['numb_exp'] == control_group) & (new_data['event_name'] == event), 'device_id'].nunique()\n",
    "\n",
    "        # Считаем долю пользователей, совершивших это событие, в каждой группе\n",
    "        total_users_changed_font = group_changed_font['device_id'].nunique()\n",
    "        total_users_control_group = new_data.loc[new_data['numb_exp'] == control_group, 'device_id'].nunique()\n",
    "\n",
    "        # Добавляем проверку на ноль перед делением\n",
    "        conversion_rate_changed_font = group_changed_font_event / total_users_changed_font\n",
    "        conversion_rate_control_group = control_group_event / total_users_control_group\n",
    "\n",
    "        # Проверяем, будет ли отличие между группами статистически достоверным\n",
    "        count = np.array([group_changed_font_event, control_group_event])\n",
    "        nobs = np.array([total_users_changed_font, total_users_control_group])\n",
    "\n",
    "        stat, p_value = proportions_ztest(count, nobs)\n",
    "\n",
    "        print(f\"Для события '{event}':\")\n",
    "        print(f\"Число пользователей в группе с изменённым шрифтом: {group_changed_font_event}\")\n",
    "        print(f\"Число пользователей в контрольной группе {control_group}: {control_group_event}\")\n",
    "        print(f\"Доля пользователей в группе с изменённым шрифтом: {conversion_rate_changed_font * 100:.2f}%\")\n",
    "        print(f\"Доля пользователей в контрольной группе {control_group}: {conversion_rate_control_group * 100:.2f}%\")\n",
    "        print(f\"p-value: {p_value}\")\n",
    "            \n",
    "        # Уровень статистической значимости\n",
    "        alpha = 0.003125\n",
    "        if p_value < alpha:\n",
    "            print(\"Различия между группами статистически значимы\")\n",
    "        else:\n",
    "            print(\"Различий между группами не выявлено\")\n",
    "            \n",
    "        print()\n",
    "\n",
    "group_changed_font = new_data.loc[new_data['numb_exp'] == '248']\n",
    "        \n",
    "# Сравниваем группу с изменённым шрифтом с каждой контрольной группой\n",
    "compare_with_control(group_changed_font, '246')\n",
    "compare_with_control(group_changed_font, '247')"
   ]
  },
  {
   "cell_type": "code",
   "execution_count": 30,
   "metadata": {},
   "outputs": [
    {
     "name": "stdout",
     "output_type": "stream",
     "text": [
      "Для события 'MainScreenAppear':\n",
      "Число пользователей в группе с изменённым шрифтом: 2493\n",
      "Число пользователей в объединенной контрольной группе: 4926\n",
      "Доля пользователей в группе с изменённым шрифтом: 98.27%\n",
      "Доля пользователей в объединенной контрольной группе: 98.58%\n",
      "p-value: 0.29424526837179577\n",
      "Различий между группами не выявлено\n",
      "\n",
      "Для события 'OffersScreenAppear':\n",
      "Число пользователей в группе с изменённым шрифтом: 1531\n",
      "Число пользователей в объединенной контрольной группе: 3062\n",
      "Доля пользователей в группе с изменённым шрифтом: 60.35%\n",
      "Доля пользователей в объединенной контрольной группе: 61.28%\n",
      "p-value: 0.43425549655188245\n",
      "Различий между группами не выявлено\n",
      "\n",
      "Для события 'CartScreenAppear':\n",
      "Число пользователей в группе с изменённым шрифтом: 1230\n",
      "Число пользователей в объединенной контрольной группе: 2504\n",
      "Доля пользователей в группе с изменённым шрифтом: 48.48%\n",
      "Доля пользователей в объединенной контрольной группе: 50.11%\n",
      "p-value: 0.18175875284404386\n",
      "Различий между группами не выявлено\n",
      "\n",
      "Для события 'PaymentScreenSuccessful':\n",
      "Число пользователей в группе с изменённым шрифтом: 1181\n",
      "Число пользователей в объединенной контрольной группе: 2358\n",
      "Доля пользователей в группе с изменённым шрифтом: 46.55%\n",
      "Доля пользователей в объединенной контрольной группе: 47.19%\n",
      "p-value: 0.6004294282308703\n",
      "Различий между группами не выявлено\n",
      "\n"
     ]
    }
   ],
   "source": [
    "# Добавим функцию для сравнения с объединенной контрольной группой\n",
    "def compare_with_combined_control(group_changed_font, combined_control_group):\n",
    "    for event in funnel_order:\n",
    "        # Выделяем данные для каждого события в группе с изменённым шрифтом\n",
    "        group_changed_font_event = group_changed_font.loc[group_changed_font['event_name'] == event, 'device_id'].nunique()\n",
    "\n",
    "        # Выделяем данные для каждого события в объединенной контрольной группе\n",
    "        combined_control_group_event = combined_control_group.loc[combined_control_group['event_name'] == event, 'device_id'].nunique()\n",
    "\n",
    "        # Считаем долю пользователей, совершивших это событие, в каждой группе\n",
    "        total_users_changed_font = group_changed_font['device_id'].nunique()\n",
    "        total_users_combined_control_group = combined_control_group['device_id'].nunique()\n",
    "\n",
    "        # Добавляем проверку на ноль перед делением\n",
    "        conversion_rate_changed_font = group_changed_font_event / total_users_changed_font\n",
    "        conversion_rate_combined_control_group = combined_control_group_event / total_users_combined_control_group\n",
    "\n",
    "        # Проверяем, будет ли отличие между группами статистически достоверным\n",
    "        count = np.array([group_changed_font_event, combined_control_group_event])\n",
    "        nobs = np.array([total_users_changed_font, total_users_combined_control_group])\n",
    "\n",
    "        stat, p_value = proportions_ztest(count, nobs)\n",
    "\n",
    "        print(f\"Для события '{event}':\")\n",
    "        print(f\"Число пользователей в группе с изменённым шрифтом: {group_changed_font_event}\")\n",
    "        print(f\"Число пользователей в объединенной контрольной группе: {combined_control_group_event}\")\n",
    "        print(f\"Доля пользователей в группе с изменённым шрифтом: {conversion_rate_changed_font * 100:.2f}%\")\n",
    "        print(f\"Доля пользователей в объединенной контрольной группе: {conversion_rate_combined_control_group * 100:.2f}%\")\n",
    "        print(f\"p-value: {p_value}\")\n",
    "\n",
    "        # Уровень статистической значимости\n",
    "        alpha = 0.003125\n",
    "        if p_value < alpha:\n",
    "            print(\"Различия между группами статистически значимы\")\n",
    "        else:\n",
    "            print(\"Различий между группами не выявлено\")\n",
    "\n",
    "        print()\n",
    "\n",
    "# Объединяем данные по контрольным группам 246 и 247\n",
    "combined_control_group = new_data.loc[new_data['numb_exp'].isin(['246', '247'])]\n",
    "\n",
    "# Сравниваем группу с изменённым шрифтом с объединенной контрольной группой\n",
    "compare_with_combined_control(group_changed_font, combined_control_group)"
   ]
  },
  {
   "cell_type": "markdown",
   "metadata": {},
   "source": [
    "## Общий вывод\n",
    "\n",
    "На **начальном этапе** исследования имелся датафрейм с 244 126 строк. Были заменены названия столбцов на более удобные. Заменены типы данных в некоторых столбцах на корректные. Пропусков не было. Но были дубликаты. Они были удалены. Был добавлен отдельный столбец с датами.\n",
    "\n",
    "**На этапе изучения и проверки данные было выяснено что**:\n",
    "\n",
    "1. В логе 243713 событий.\n",
    "2. В логе 7551 пользователей.\n",
    "3. В среднем на пользователя приходятся 32 события.\n",
    "4. Период в логе длится с 25.07.2019 по 07.08.2019.\n",
    "5. Данные не одинаково полные за весь период. Они становятся полными с 01.08.2019. Но заканчиваются они также 07.08.2019.\n",
    "6. Отбросив старые данные, было потеряно 2826 (1.16%) событий и 17 (0.23%) пользователей.\n",
    "7. Проверка подтвердила, что у вас есть пользователи из всех трёх экспериментальных групп.\n",
    "\n",
    "**На основе анализа воронки событий и конверсии между ними можно сделать следующие выводы**:\n",
    "\n",
    "1. Как часто встречается то или иное событие:\n",
    "\n",
    " - MainScreenAppear - 117 328\n",
    " - OffersScreenAppear - 46 333\n",
    " - CartScreenAppear - 42 303\n",
    " - PaymentScreenSuccessful - 33 918\n",
    " - Tutorial - 1 005\n",
    " \n",
    " \n",
    "2. Сколько пользователей совершали каждое из этих событий.\n",
    "\n",
    " - CartScreenAppear - 3 734\n",
    " - MainScreenAppear - 7 419\n",
    " - OffersScreenAppear - 4 593\n",
    " - PaymentScreenSuccessful - 3 539\n",
    " - Tutorial - 840\n",
    " \n",
    " \n",
    "3. Доля пользователей, которые хоть раз совершали событие.\n",
    "\n",
    " - MainScreenAppear - 98.5\n",
    " - OffersScreenAppear - 61.0\n",
    " - CartScreenAppear - 49.6\n",
    " - PaymentScreenSuccessful - 47.0\n",
    " - Tutorial - 11.1\n",
    " \n",
    " \n",
    "4. События, скорее всего, не обязательно происходят в строгой последовательности. Например, возможно, пользователь может совершить покупку, даже не пройдя руководство (Tutorial). Возможно, некоторые пользователи пропускают этот шаг и переходят сразу к просмотру предложений (OffersScreenAppear) или добавлению товаров в корзину (CartScreenAppear). Следовательно, Tutorial не обязательно является предшественником всех остальных событий, и он может не иметь существенного влияния на успешное завершение покупки (PaymentScreenSuccessful).\n",
    "\n",
    " - MainScreenAppear - Появление главного экрана\n",
    " - OffersScreenAppear - Появляется экран предложений\n",
    " - CartScreenAppear - Появление экрана корзины\n",
    " - PaymentScreenSuccessful - Экран оплаты прошел успешно\n",
    "\n",
    "5. Доля пользователей, которые проходят на следующий шаг воронки (от числа пользователей на предыдущем).\n",
    "\n",
    "MainScreenAppear -> OffersScreenAppear: 61.91%\n",
    "OffersScreenAppear -> CartScreenAppear: 81.3%\n",
    "CartScreenAppear -> PaymentScreenSuccessful: 94.78%\n",
    "\n",
    "6. Самая большая потеря пользователей происходит на этапе перехода с главного экрана на экран предложений.\n",
    "7. 47.7% пользователей доходит от первого события до оплаты\n",
    "\n",
    "**Результаты эксперимента**\n",
    "\n",
    "1. В следствии А/А-эксперимента, различий между контрольными группами не 246 и 247 выявлено\n",
    "2. Разбиение на группы работает корректно. Различий между группами не выявлено.\n",
    "3. Для каждого из событий не было выявлено статистически значимых различий между группой с изменённым шрифтом и контрольными группами (246 и 247).\n",
    "4. При проверке статистических гипотез выше был выбран 0,5 уровень значимости. Было сделано 16 проверок статистических гипотез. При 0.003125% уровне значимости, результаты те же.\n",
    "\n",
    "**Итог**: Изменение шрифта на поведение пользователей не влияет."
   ]
  }
 ],
 "metadata": {
  "ExecuteTimeLog": [
   {
    "duration": 429,
    "start_time": "2024-01-16T13:17:38.439Z"
   },
   {
    "duration": 906,
    "start_time": "2024-01-16T13:18:14.391Z"
   },
   {
    "duration": 74,
    "start_time": "2024-01-16T13:18:40.763Z"
   },
   {
    "duration": 73,
    "start_time": "2024-01-16T13:18:48.724Z"
   },
   {
    "duration": 333,
    "start_time": "2024-01-16T13:19:02.611Z"
   },
   {
    "duration": 197,
    "start_time": "2024-01-16T13:20:54.750Z"
   },
   {
    "duration": 3,
    "start_time": "2024-01-16T13:24:12.600Z"
   },
   {
    "duration": 9,
    "start_time": "2024-01-16T13:24:16.878Z"
   },
   {
    "duration": 8,
    "start_time": "2024-01-16T13:24:32.534Z"
   },
   {
    "duration": 71,
    "start_time": "2024-01-16T13:25:02.364Z"
   },
   {
    "duration": 37,
    "start_time": "2024-01-16T13:25:08.141Z"
   },
   {
    "duration": 17,
    "start_time": "2024-01-16T13:25:24.586Z"
   },
   {
    "duration": 65,
    "start_time": "2024-01-16T13:25:53.112Z"
   },
   {
    "duration": 68,
    "start_time": "2024-01-16T13:28:58.984Z"
   },
   {
    "duration": 8,
    "start_time": "2024-01-16T13:40:32.329Z"
   },
   {
    "duration": 458,
    "start_time": "2024-01-16T13:40:37.168Z"
   },
   {
    "duration": 200,
    "start_time": "2024-01-16T13:40:37.628Z"
   },
   {
    "duration": 8,
    "start_time": "2024-01-16T13:40:37.830Z"
   },
   {
    "duration": 30,
    "start_time": "2024-01-16T13:40:37.839Z"
   },
   {
    "duration": 30,
    "start_time": "2024-01-16T13:40:37.870Z"
   },
   {
    "duration": 71,
    "start_time": "2024-01-16T13:41:55.068Z"
   },
   {
    "duration": 422,
    "start_time": "2024-01-16T13:42:19.563Z"
   },
   {
    "duration": 203,
    "start_time": "2024-01-16T13:42:19.987Z"
   },
   {
    "duration": 9,
    "start_time": "2024-01-16T13:42:20.192Z"
   },
   {
    "duration": 57,
    "start_time": "2024-01-16T13:42:20.204Z"
   },
   {
    "duration": 39,
    "start_time": "2024-01-16T13:42:20.263Z"
   },
   {
    "duration": 152,
    "start_time": "2024-01-16T13:42:20.304Z"
   },
   {
    "duration": 382,
    "start_time": "2024-01-16T13:42:34.452Z"
   },
   {
    "duration": 204,
    "start_time": "2024-01-16T13:42:34.836Z"
   },
   {
    "duration": 8,
    "start_time": "2024-01-16T13:42:35.041Z"
   },
   {
    "duration": 70,
    "start_time": "2024-01-16T13:42:35.051Z"
   },
   {
    "duration": 24,
    "start_time": "2024-01-16T13:42:35.122Z"
   },
   {
    "duration": 106,
    "start_time": "2024-01-16T13:42:35.147Z"
   },
   {
    "duration": 14,
    "start_time": "2024-01-16T13:45:03.519Z"
   },
   {
    "duration": 9,
    "start_time": "2024-01-16T13:45:12.389Z"
   },
   {
    "duration": 1393,
    "start_time": "2024-01-16T13:45:56.059Z"
   },
   {
    "duration": 423,
    "start_time": "2024-01-16T13:46:04.711Z"
   },
   {
    "duration": 207,
    "start_time": "2024-01-16T13:46:05.136Z"
   },
   {
    "duration": 8,
    "start_time": "2024-01-16T13:46:05.345Z"
   },
   {
    "duration": 23,
    "start_time": "2024-01-16T13:46:05.355Z"
   },
   {
    "duration": 32,
    "start_time": "2024-01-16T13:46:05.379Z"
   },
   {
    "duration": 9,
    "start_time": "2024-01-16T13:46:05.413Z"
   },
   {
    "duration": 22,
    "start_time": "2024-01-16T13:46:05.424Z"
   },
   {
    "duration": 98,
    "start_time": "2024-01-16T13:46:05.448Z"
   },
   {
    "duration": 8,
    "start_time": "2024-01-16T13:46:15.681Z"
   },
   {
    "duration": 87,
    "start_time": "2024-01-16T13:47:23.364Z"
   },
   {
    "duration": 100,
    "start_time": "2024-01-16T13:47:52.147Z"
   },
   {
    "duration": 88,
    "start_time": "2024-01-16T13:48:06.593Z"
   },
   {
    "duration": 95,
    "start_time": "2024-01-16T13:48:17.161Z"
   },
   {
    "duration": 77,
    "start_time": "2024-01-16T13:48:20.976Z"
   },
   {
    "duration": 169,
    "start_time": "2024-01-16T13:48:28.079Z"
   },
   {
    "duration": 52,
    "start_time": "2024-01-16T13:48:54.334Z"
   },
   {
    "duration": 34,
    "start_time": "2024-01-16T13:48:55.596Z"
   },
   {
    "duration": 77,
    "start_time": "2024-01-16T13:48:56.373Z"
   },
   {
    "duration": 153,
    "start_time": "2024-01-16T13:48:57.797Z"
   },
   {
    "duration": 78,
    "start_time": "2024-01-16T13:49:01.812Z"
   },
   {
    "duration": 10,
    "start_time": "2024-01-16T13:49:02.708Z"
   },
   {
    "duration": 525,
    "start_time": "2024-01-16T13:49:21.195Z"
   },
   {
    "duration": 204,
    "start_time": "2024-01-16T13:49:21.722Z"
   },
   {
    "duration": 9,
    "start_time": "2024-01-16T13:49:21.928Z"
   },
   {
    "duration": 41,
    "start_time": "2024-01-16T13:49:21.939Z"
   },
   {
    "duration": 50,
    "start_time": "2024-01-16T13:49:21.982Z"
   },
   {
    "duration": 25,
    "start_time": "2024-01-16T13:49:22.034Z"
   },
   {
    "duration": 96,
    "start_time": "2024-01-16T13:49:22.062Z"
   },
   {
    "duration": 134,
    "start_time": "2024-01-16T13:49:22.160Z"
   },
   {
    "duration": 79,
    "start_time": "2024-01-16T13:49:22.299Z"
   },
   {
    "duration": 37,
    "start_time": "2024-01-16T13:49:22.380Z"
   },
   {
    "duration": 50,
    "start_time": "2024-01-16T13:49:52.953Z"
   },
   {
    "duration": 87,
    "start_time": "2024-01-16T13:51:07.220Z"
   },
   {
    "duration": 12,
    "start_time": "2024-01-16T13:51:48.809Z"
   },
   {
    "duration": 84,
    "start_time": "2024-01-16T13:51:50.953Z"
   },
   {
    "duration": 12,
    "start_time": "2024-01-16T13:52:03.656Z"
   },
   {
    "duration": 90,
    "start_time": "2024-01-16T13:52:07.008Z"
   },
   {
    "duration": 5,
    "start_time": "2024-01-16T15:36:48.221Z"
   },
   {
    "duration": 9,
    "start_time": "2024-01-16T15:38:50.997Z"
   },
   {
    "duration": 71,
    "start_time": "2024-01-16T15:39:03.675Z"
   },
   {
    "duration": 11,
    "start_time": "2024-01-16T15:44:22.349Z"
   },
   {
    "duration": 8,
    "start_time": "2024-01-16T15:46:06.166Z"
   },
   {
    "duration": 7,
    "start_time": "2024-01-16T15:49:45.881Z"
   },
   {
    "duration": 7,
    "start_time": "2024-01-16T15:50:14.015Z"
   },
   {
    "duration": 423,
    "start_time": "2024-01-16T18:09:11.262Z"
   },
   {
    "duration": 543,
    "start_time": "2024-01-16T18:09:11.688Z"
   },
   {
    "duration": 8,
    "start_time": "2024-01-16T18:09:12.232Z"
   },
   {
    "duration": 38,
    "start_time": "2024-01-16T18:09:12.242Z"
   },
   {
    "duration": 70,
    "start_time": "2024-01-16T18:09:12.281Z"
   },
   {
    "duration": 0,
    "start_time": "2024-01-16T18:09:12.353Z"
   },
   {
    "duration": 0,
    "start_time": "2024-01-16T18:09:12.354Z"
   },
   {
    "duration": 0,
    "start_time": "2024-01-16T18:09:12.356Z"
   },
   {
    "duration": 0,
    "start_time": "2024-01-16T18:09:12.357Z"
   },
   {
    "duration": 0,
    "start_time": "2024-01-16T18:09:12.358Z"
   },
   {
    "duration": 0,
    "start_time": "2024-01-16T18:09:12.359Z"
   },
   {
    "duration": 0,
    "start_time": "2024-01-16T18:09:12.360Z"
   },
   {
    "duration": 27,
    "start_time": "2024-01-16T18:09:41.151Z"
   },
   {
    "duration": 436,
    "start_time": "2024-01-16T18:09:47.607Z"
   },
   {
    "duration": 198,
    "start_time": "2024-01-16T18:09:48.045Z"
   },
   {
    "duration": 8,
    "start_time": "2024-01-16T18:09:48.245Z"
   },
   {
    "duration": 25,
    "start_time": "2024-01-16T18:09:48.255Z"
   },
   {
    "duration": 49,
    "start_time": "2024-01-16T18:09:48.281Z"
   },
   {
    "duration": 17,
    "start_time": "2024-01-16T18:09:48.332Z"
   },
   {
    "duration": 41,
    "start_time": "2024-01-16T18:09:48.351Z"
   },
   {
    "duration": 81,
    "start_time": "2024-01-16T18:09:48.393Z"
   },
   {
    "duration": 30,
    "start_time": "2024-01-16T18:09:48.475Z"
   },
   {
    "duration": 16,
    "start_time": "2024-01-16T18:09:48.507Z"
   },
   {
    "duration": 6,
    "start_time": "2024-01-16T18:09:48.525Z"
   },
   {
    "duration": 91,
    "start_time": "2024-01-16T18:09:48.533Z"
   },
   {
    "duration": 446,
    "start_time": "2024-01-16T18:10:27.800Z"
   },
   {
    "duration": 196,
    "start_time": "2024-01-16T18:10:28.248Z"
   },
   {
    "duration": 8,
    "start_time": "2024-01-16T18:10:28.445Z"
   },
   {
    "duration": 39,
    "start_time": "2024-01-16T18:10:28.456Z"
   },
   {
    "duration": 30,
    "start_time": "2024-01-16T18:10:28.496Z"
   },
   {
    "duration": 9,
    "start_time": "2024-01-16T18:10:28.527Z"
   },
   {
    "duration": 24,
    "start_time": "2024-01-16T18:10:28.537Z"
   },
   {
    "duration": 59,
    "start_time": "2024-01-16T18:10:28.563Z"
   },
   {
    "duration": 59,
    "start_time": "2024-01-16T18:10:28.624Z"
   },
   {
    "duration": 40,
    "start_time": "2024-01-16T18:10:28.686Z"
   },
   {
    "duration": 6,
    "start_time": "2024-01-16T18:10:28.728Z"
   },
   {
    "duration": 23,
    "start_time": "2024-01-16T18:10:28.736Z"
   },
   {
    "duration": 106,
    "start_time": "2024-01-16T18:10:28.761Z"
   },
   {
    "duration": 399,
    "start_time": "2024-01-17T11:22:51.057Z"
   },
   {
    "duration": 548,
    "start_time": "2024-01-17T11:22:51.458Z"
   },
   {
    "duration": 8,
    "start_time": "2024-01-17T11:22:52.008Z"
   },
   {
    "duration": 33,
    "start_time": "2024-01-17T11:22:52.017Z"
   },
   {
    "duration": 27,
    "start_time": "2024-01-17T11:22:52.051Z"
   },
   {
    "duration": 9,
    "start_time": "2024-01-17T11:22:52.080Z"
   },
   {
    "duration": 30,
    "start_time": "2024-01-17T11:22:52.090Z"
   },
   {
    "duration": 43,
    "start_time": "2024-01-17T11:22:52.122Z"
   },
   {
    "duration": 73,
    "start_time": "2024-01-17T11:22:52.167Z"
   },
   {
    "duration": 29,
    "start_time": "2024-01-17T11:22:52.242Z"
   },
   {
    "duration": 13,
    "start_time": "2024-01-17T11:22:52.273Z"
   },
   {
    "duration": 8,
    "start_time": "2024-01-17T11:22:52.288Z"
   },
   {
    "duration": 80,
    "start_time": "2024-01-17T11:22:52.298Z"
   },
   {
    "duration": 460,
    "start_time": "2024-01-17T11:24:46.895Z"
   },
   {
    "duration": 213,
    "start_time": "2024-01-17T11:24:47.357Z"
   },
   {
    "duration": 8,
    "start_time": "2024-01-17T11:24:47.572Z"
   },
   {
    "duration": 30,
    "start_time": "2024-01-17T11:24:47.582Z"
   },
   {
    "duration": 14,
    "start_time": "2024-01-17T11:24:47.623Z"
   },
   {
    "duration": 8,
    "start_time": "2024-01-17T11:24:47.639Z"
   },
   {
    "duration": 24,
    "start_time": "2024-01-17T11:24:47.649Z"
   },
   {
    "duration": 85,
    "start_time": "2024-01-17T11:24:47.675Z"
   },
   {
    "duration": 132,
    "start_time": "2024-01-17T11:24:47.762Z"
   },
   {
    "duration": 88,
    "start_time": "2024-01-17T11:24:47.896Z"
   },
   {
    "duration": 6,
    "start_time": "2024-01-17T11:24:47.985Z"
   },
   {
    "duration": 9,
    "start_time": "2024-01-17T11:24:47.993Z"
   },
   {
    "duration": 79,
    "start_time": "2024-01-17T11:24:48.004Z"
   },
   {
    "duration": 1110,
    "start_time": "2024-01-17T11:29:30.483Z"
   },
   {
    "duration": 11,
    "start_time": "2024-01-17T11:30:12.330Z"
   },
   {
    "duration": 12,
    "start_time": "2024-01-17T11:31:16.766Z"
   },
   {
    "duration": 350,
    "start_time": "2024-01-17T11:32:35.690Z"
   },
   {
    "duration": 425,
    "start_time": "2024-01-17T11:32:41.041Z"
   },
   {
    "duration": 203,
    "start_time": "2024-01-17T11:32:41.468Z"
   },
   {
    "duration": 8,
    "start_time": "2024-01-17T11:32:41.673Z"
   },
   {
    "duration": 39,
    "start_time": "2024-01-17T11:32:41.684Z"
   },
   {
    "duration": 333,
    "start_time": "2024-01-17T11:32:41.725Z"
   },
   {
    "duration": 40,
    "start_time": "2024-01-17T11:32:42.060Z"
   },
   {
    "duration": 121,
    "start_time": "2024-01-17T11:32:42.102Z"
   },
   {
    "duration": 231,
    "start_time": "2024-01-17T11:32:42.225Z"
   },
   {
    "duration": 90,
    "start_time": "2024-01-17T11:32:42.457Z"
   },
   {
    "duration": 4,
    "start_time": "2024-01-17T11:32:42.549Z"
   },
   {
    "duration": 42,
    "start_time": "2024-01-17T11:32:42.554Z"
   },
   {
    "duration": 93,
    "start_time": "2024-01-17T11:32:42.598Z"
   },
   {
    "duration": 49,
    "start_time": "2024-01-17T11:35:50.035Z"
   },
   {
    "duration": 49,
    "start_time": "2024-01-17T11:36:08.321Z"
   },
   {
    "duration": 47,
    "start_time": "2024-01-17T11:36:15.704Z"
   },
   {
    "duration": 49,
    "start_time": "2024-01-17T11:36:19.656Z"
   },
   {
    "duration": 10,
    "start_time": "2024-01-17T11:46:47.517Z"
   },
   {
    "duration": 6,
    "start_time": "2024-01-17T11:47:07.679Z"
   },
   {
    "duration": 5,
    "start_time": "2024-01-17T11:47:21.122Z"
   },
   {
    "duration": 20,
    "start_time": "2024-01-17T11:47:56.831Z"
   },
   {
    "duration": 20,
    "start_time": "2024-01-17T11:48:00.071Z"
   },
   {
    "duration": 5,
    "start_time": "2024-01-17T11:48:15.158Z"
   },
   {
    "duration": 4,
    "start_time": "2024-01-17T11:48:16.511Z"
   },
   {
    "duration": 802,
    "start_time": "2024-01-17T12:07:41.590Z"
   },
   {
    "duration": 173,
    "start_time": "2024-01-17T12:07:54.294Z"
   },
   {
    "duration": 174,
    "start_time": "2024-01-17T12:08:00.149Z"
   },
   {
    "duration": 239,
    "start_time": "2024-01-17T12:08:07.973Z"
   },
   {
    "duration": 215,
    "start_time": "2024-01-17T12:08:38.090Z"
   },
   {
    "duration": 204,
    "start_time": "2024-01-17T12:08:45.097Z"
   },
   {
    "duration": 248,
    "start_time": "2024-01-17T12:08:49.889Z"
   },
   {
    "duration": 268,
    "start_time": "2024-01-17T12:08:54.737Z"
   },
   {
    "duration": 278,
    "start_time": "2024-01-17T12:08:59.304Z"
   },
   {
    "duration": 286,
    "start_time": "2024-01-17T12:09:03.983Z"
   },
   {
    "duration": 385,
    "start_time": "2024-01-17T12:09:09.119Z"
   },
   {
    "duration": 334,
    "start_time": "2024-01-17T12:09:15.734Z"
   },
   {
    "duration": 375,
    "start_time": "2024-01-17T12:09:23.750Z"
   },
   {
    "duration": 421,
    "start_time": "2024-01-17T12:09:28.590Z"
   },
   {
    "duration": 520,
    "start_time": "2024-01-17T12:10:04.972Z"
   },
   {
    "duration": 3,
    "start_time": "2024-01-17T12:10:36.049Z"
   },
   {
    "duration": 456,
    "start_time": "2024-01-17T12:10:39.450Z"
   },
   {
    "duration": 427,
    "start_time": "2024-01-17T12:11:18.655Z"
   },
   {
    "duration": 468,
    "start_time": "2024-01-17T12:11:31.480Z"
   },
   {
    "duration": 559,
    "start_time": "2024-01-17T12:13:52.685Z"
   },
   {
    "duration": 441,
    "start_time": "2024-01-17T12:14:01.627Z"
   },
   {
    "duration": 436,
    "start_time": "2024-01-17T12:14:07.995Z"
   },
   {
    "duration": 454,
    "start_time": "2024-01-17T12:14:13.507Z"
   },
   {
    "duration": 539,
    "start_time": "2024-01-17T12:14:25.314Z"
   },
   {
    "duration": 445,
    "start_time": "2024-01-17T12:14:31.338Z"
   },
   {
    "duration": 424,
    "start_time": "2024-01-17T12:15:45.020Z"
   },
   {
    "duration": 543,
    "start_time": "2024-01-17T12:15:51.188Z"
   },
   {
    "duration": 433,
    "start_time": "2024-01-17T12:15:57.900Z"
   },
   {
    "duration": 439,
    "start_time": "2024-01-17T12:16:12.106Z"
   },
   {
    "duration": 328,
    "start_time": "2024-01-17T12:16:42.769Z"
   },
   {
    "duration": 286,
    "start_time": "2024-01-17T12:16:49.872Z"
   },
   {
    "duration": 212,
    "start_time": "2024-01-17T12:16:53.567Z"
   },
   {
    "duration": 319,
    "start_time": "2024-01-17T12:17:02.727Z"
   },
   {
    "duration": 221,
    "start_time": "2024-01-17T12:17:09.774Z"
   },
   {
    "duration": 235,
    "start_time": "2024-01-17T12:17:14.653Z"
   },
   {
    "duration": 215,
    "start_time": "2024-01-17T12:17:19.309Z"
   },
   {
    "duration": 227,
    "start_time": "2024-01-17T12:17:23.605Z"
   },
   {
    "duration": 202,
    "start_time": "2024-01-17T12:17:26.413Z"
   },
   {
    "duration": 216,
    "start_time": "2024-01-17T12:17:28.661Z"
   },
   {
    "duration": 191,
    "start_time": "2024-01-17T12:18:09.746Z"
   },
   {
    "duration": 187,
    "start_time": "2024-01-17T12:18:15.401Z"
   },
   {
    "duration": 185,
    "start_time": "2024-01-17T12:18:19.553Z"
   },
   {
    "duration": 188,
    "start_time": "2024-01-17T12:18:22.681Z"
   },
   {
    "duration": 287,
    "start_time": "2024-01-17T12:18:25.537Z"
   },
   {
    "duration": 200,
    "start_time": "2024-01-17T12:18:29.352Z"
   },
   {
    "duration": 207,
    "start_time": "2024-01-17T12:18:32.952Z"
   },
   {
    "duration": 201,
    "start_time": "2024-01-17T12:18:36.280Z"
   },
   {
    "duration": 78,
    "start_time": "2024-01-17T12:20:04.435Z"
   },
   {
    "duration": 433,
    "start_time": "2024-01-17T12:20:09.785Z"
   },
   {
    "duration": 18,
    "start_time": "2024-01-17T12:23:20.821Z"
   },
   {
    "duration": 15,
    "start_time": "2024-01-17T12:24:08.891Z"
   },
   {
    "duration": 672,
    "start_time": "2024-01-17T12:24:21.760Z"
   },
   {
    "duration": 201,
    "start_time": "2024-01-17T12:24:22.434Z"
   },
   {
    "duration": 8,
    "start_time": "2024-01-17T12:24:22.637Z"
   },
   {
    "duration": 25,
    "start_time": "2024-01-17T12:24:22.647Z"
   },
   {
    "duration": 343,
    "start_time": "2024-01-17T12:24:22.673Z"
   },
   {
    "duration": 40,
    "start_time": "2024-01-17T12:24:23.018Z"
   },
   {
    "duration": 114,
    "start_time": "2024-01-17T12:24:23.059Z"
   },
   {
    "duration": 236,
    "start_time": "2024-01-17T12:24:23.176Z"
   },
   {
    "duration": 93,
    "start_time": "2024-01-17T12:24:23.414Z"
   },
   {
    "duration": 3,
    "start_time": "2024-01-17T12:24:23.510Z"
   },
   {
    "duration": 46,
    "start_time": "2024-01-17T12:24:23.523Z"
   },
   {
    "duration": 57,
    "start_time": "2024-01-17T12:24:23.571Z"
   },
   {
    "duration": 9,
    "start_time": "2024-01-17T12:24:23.630Z"
   },
   {
    "duration": 5,
    "start_time": "2024-01-17T12:24:23.641Z"
   },
   {
    "duration": 19,
    "start_time": "2024-01-17T12:24:23.648Z"
   },
   {
    "duration": 320,
    "start_time": "2024-01-17T12:24:23.669Z"
   },
   {
    "duration": 86,
    "start_time": "2024-01-17T12:24:23.991Z"
   },
   {
    "duration": 709,
    "start_time": "2024-01-17T12:27:55.609Z"
   },
   {
    "duration": 202,
    "start_time": "2024-01-17T12:27:56.320Z"
   },
   {
    "duration": 8,
    "start_time": "2024-01-17T12:27:56.524Z"
   },
   {
    "duration": 44,
    "start_time": "2024-01-17T12:27:56.535Z"
   },
   {
    "duration": 339,
    "start_time": "2024-01-17T12:27:56.581Z"
   },
   {
    "duration": 40,
    "start_time": "2024-01-17T12:27:56.922Z"
   },
   {
    "duration": 123,
    "start_time": "2024-01-17T12:27:56.964Z"
   },
   {
    "duration": 231,
    "start_time": "2024-01-17T12:27:57.088Z"
   },
   {
    "duration": 86,
    "start_time": "2024-01-17T12:27:57.323Z"
   },
   {
    "duration": 6,
    "start_time": "2024-01-17T12:27:57.422Z"
   },
   {
    "duration": 87,
    "start_time": "2024-01-17T12:27:57.429Z"
   },
   {
    "duration": 61,
    "start_time": "2024-01-17T12:27:57.518Z"
   },
   {
    "duration": 10,
    "start_time": "2024-01-17T12:27:57.580Z"
   },
   {
    "duration": 33,
    "start_time": "2024-01-17T12:27:57.591Z"
   },
   {
    "duration": 27,
    "start_time": "2024-01-17T12:27:57.625Z"
   },
   {
    "duration": 329,
    "start_time": "2024-01-17T12:27:57.654Z"
   },
   {
    "duration": 98,
    "start_time": "2024-01-17T12:27:57.986Z"
   },
   {
    "duration": 352,
    "start_time": "2024-01-17T12:28:19.209Z"
   },
   {
    "duration": 14,
    "start_time": "2024-01-17T12:28:35.768Z"
   },
   {
    "duration": 24,
    "start_time": "2024-01-17T12:31:54.931Z"
   },
   {
    "duration": 36,
    "start_time": "2024-01-17T12:32:25.144Z"
   },
   {
    "duration": 22,
    "start_time": "2024-01-17T12:32:33.904Z"
   },
   {
    "duration": 4,
    "start_time": "2024-01-17T12:34:36.439Z"
   },
   {
    "duration": 69,
    "start_time": "2024-01-17T12:34:47.974Z"
   },
   {
    "duration": 231,
    "start_time": "2024-01-17T12:34:58.453Z"
   },
   {
    "duration": 252,
    "start_time": "2024-01-17T12:35:08.300Z"
   },
   {
    "duration": 199,
    "start_time": "2024-01-17T12:35:14.275Z"
   },
   {
    "duration": 168,
    "start_time": "2024-01-17T12:35:52.609Z"
   },
   {
    "duration": 167,
    "start_time": "2024-01-17T12:36:05.839Z"
   },
   {
    "duration": 170,
    "start_time": "2024-01-17T12:36:19.119Z"
   },
   {
    "duration": 716,
    "start_time": "2024-01-17T12:37:02.204Z"
   },
   {
    "duration": 199,
    "start_time": "2024-01-17T12:37:02.922Z"
   },
   {
    "duration": 11,
    "start_time": "2024-01-17T12:37:03.123Z"
   },
   {
    "duration": 65,
    "start_time": "2024-01-17T12:37:03.137Z"
   },
   {
    "duration": 363,
    "start_time": "2024-01-17T12:37:03.204Z"
   },
   {
    "duration": 38,
    "start_time": "2024-01-17T12:37:03.569Z"
   },
   {
    "duration": 124,
    "start_time": "2024-01-17T12:37:03.609Z"
   },
   {
    "duration": 231,
    "start_time": "2024-01-17T12:37:03.735Z"
   },
   {
    "duration": 97,
    "start_time": "2024-01-17T12:37:03.968Z"
   },
   {
    "duration": 13,
    "start_time": "2024-01-17T12:37:04.068Z"
   },
   {
    "duration": 61,
    "start_time": "2024-01-17T12:37:04.083Z"
   },
   {
    "duration": 48,
    "start_time": "2024-01-17T12:37:04.146Z"
   },
   {
    "duration": 9,
    "start_time": "2024-01-17T12:37:04.195Z"
   },
   {
    "duration": 5,
    "start_time": "2024-01-17T12:37:04.224Z"
   },
   {
    "duration": 14,
    "start_time": "2024-01-17T12:37:04.230Z"
   },
   {
    "duration": 326,
    "start_time": "2024-01-17T12:37:04.246Z"
   },
   {
    "duration": 221,
    "start_time": "2024-01-17T12:37:04.573Z"
   },
   {
    "duration": 19,
    "start_time": "2024-01-17T12:38:49.348Z"
   },
   {
    "duration": 21,
    "start_time": "2024-01-17T12:38:54.900Z"
   },
   {
    "duration": 18,
    "start_time": "2024-01-17T12:39:14.914Z"
   },
   {
    "duration": 19,
    "start_time": "2024-01-17T12:39:38.457Z"
   },
   {
    "duration": 35,
    "start_time": "2024-01-17T12:39:43.089Z"
   },
   {
    "duration": 504,
    "start_time": "2024-01-17T12:41:31.354Z"
   },
   {
    "duration": 562,
    "start_time": "2024-01-17T12:41:40.641Z"
   },
   {
    "duration": 494,
    "start_time": "2024-01-17T12:41:44.680Z"
   },
   {
    "duration": 491,
    "start_time": "2024-01-17T12:41:50.104Z"
   },
   {
    "duration": 491,
    "start_time": "2024-01-17T12:42:33.973Z"
   },
   {
    "duration": 530,
    "start_time": "2024-01-17T12:43:06.475Z"
   },
   {
    "duration": 539,
    "start_time": "2024-01-17T12:52:57.224Z"
   },
   {
    "duration": 531,
    "start_time": "2024-01-17T12:53:05.824Z"
   },
   {
    "duration": 535,
    "start_time": "2024-01-17T12:53:16.383Z"
   },
   {
    "duration": 508,
    "start_time": "2024-01-17T12:53:28.134Z"
   },
   {
    "duration": 8,
    "start_time": "2024-01-17T12:57:18.205Z"
   },
   {
    "duration": 100,
    "start_time": "2024-01-17T12:57:49.099Z"
   },
   {
    "duration": 7,
    "start_time": "2024-01-17T12:58:43.344Z"
   },
   {
    "duration": 5,
    "start_time": "2024-01-17T13:00:14.178Z"
   },
   {
    "duration": 88,
    "start_time": "2024-01-17T13:00:45.511Z"
   },
   {
    "duration": 5,
    "start_time": "2024-01-17T13:00:52.239Z"
   },
   {
    "duration": 10,
    "start_time": "2024-01-17T13:21:29.008Z"
   },
   {
    "duration": 4,
    "start_time": "2024-01-17T13:21:41.279Z"
   },
   {
    "duration": 4,
    "start_time": "2024-01-17T13:21:50.471Z"
   },
   {
    "duration": 3,
    "start_time": "2024-01-17T13:22:03.806Z"
   },
   {
    "duration": 5,
    "start_time": "2024-01-17T13:22:20.332Z"
   },
   {
    "duration": 90,
    "start_time": "2024-01-17T13:22:52.771Z"
   },
   {
    "duration": 5,
    "start_time": "2024-01-17T13:22:57.274Z"
   },
   {
    "duration": 5,
    "start_time": "2024-01-17T13:24:37.581Z"
   },
   {
    "duration": 9,
    "start_time": "2024-01-17T13:26:26.133Z"
   },
   {
    "duration": 541,
    "start_time": "2024-01-17T13:28:15.566Z"
   },
   {
    "duration": 4,
    "start_time": "2024-01-17T13:28:32.613Z"
   },
   {
    "duration": 564,
    "start_time": "2024-01-17T13:29:00.195Z"
   },
   {
    "duration": 6,
    "start_time": "2024-01-17T13:29:02.050Z"
   },
   {
    "duration": 24,
    "start_time": "2024-01-17T13:29:57.521Z"
   },
   {
    "duration": 762,
    "start_time": "2024-01-17T13:30:56.269Z"
   },
   {
    "duration": 202,
    "start_time": "2024-01-17T13:30:57.033Z"
   },
   {
    "duration": 8,
    "start_time": "2024-01-17T13:30:57.237Z"
   },
   {
    "duration": 31,
    "start_time": "2024-01-17T13:30:57.247Z"
   },
   {
    "duration": 346,
    "start_time": "2024-01-17T13:30:57.280Z"
   },
   {
    "duration": 38,
    "start_time": "2024-01-17T13:30:57.628Z"
   },
   {
    "duration": 117,
    "start_time": "2024-01-17T13:30:57.667Z"
   },
   {
    "duration": 237,
    "start_time": "2024-01-17T13:30:57.785Z"
   },
   {
    "duration": 99,
    "start_time": "2024-01-17T13:30:58.024Z"
   },
   {
    "duration": 4,
    "start_time": "2024-01-17T13:30:58.125Z"
   },
   {
    "duration": 56,
    "start_time": "2024-01-17T13:30:58.130Z"
   },
   {
    "duration": 60,
    "start_time": "2024-01-17T13:30:58.188Z"
   },
   {
    "duration": 689,
    "start_time": "2024-01-17T13:30:58.249Z"
   },
   {
    "duration": 7,
    "start_time": "2024-01-17T13:30:58.940Z"
   },
   {
    "duration": 21,
    "start_time": "2024-01-17T13:30:58.949Z"
   },
   {
    "duration": 77,
    "start_time": "2024-01-17T13:32:02.798Z"
   },
   {
    "duration": 8,
    "start_time": "2024-01-17T13:32:32.141Z"
   },
   {
    "duration": 27,
    "start_time": "2024-01-17T13:36:55.579Z"
   },
   {
    "duration": 27,
    "start_time": "2024-01-17T13:37:23.049Z"
   },
   {
    "duration": 29,
    "start_time": "2024-01-17T13:37:35.423Z"
   },
   {
    "duration": 705,
    "start_time": "2024-01-17T13:41:04.231Z"
   },
   {
    "duration": 200,
    "start_time": "2024-01-17T13:41:04.938Z"
   },
   {
    "duration": 8,
    "start_time": "2024-01-17T13:41:05.140Z"
   },
   {
    "duration": 28,
    "start_time": "2024-01-17T13:41:05.150Z"
   },
   {
    "duration": 341,
    "start_time": "2024-01-17T13:41:05.180Z"
   },
   {
    "duration": 39,
    "start_time": "2024-01-17T13:41:05.523Z"
   },
   {
    "duration": 119,
    "start_time": "2024-01-17T13:41:05.564Z"
   },
   {
    "duration": 252,
    "start_time": "2024-01-17T13:41:05.684Z"
   },
   {
    "duration": 93,
    "start_time": "2024-01-17T13:41:05.938Z"
   },
   {
    "duration": 6,
    "start_time": "2024-01-17T13:41:06.034Z"
   },
   {
    "duration": 43,
    "start_time": "2024-01-17T13:41:06.041Z"
   },
   {
    "duration": 71,
    "start_time": "2024-01-17T13:41:06.085Z"
   },
   {
    "duration": 718,
    "start_time": "2024-01-17T13:41:06.157Z"
   },
   {
    "duration": 6,
    "start_time": "2024-01-17T13:41:06.877Z"
   },
   {
    "duration": 26,
    "start_time": "2024-01-17T13:41:06.884Z"
   },
   {
    "duration": 33,
    "start_time": "2024-01-17T13:41:06.912Z"
   },
   {
    "duration": 54,
    "start_time": "2024-01-17T13:43:05.714Z"
   },
   {
    "duration": 33,
    "start_time": "2024-01-17T13:43:20.920Z"
   },
   {
    "duration": 35,
    "start_time": "2024-01-17T13:43:50.606Z"
   },
   {
    "duration": 16,
    "start_time": "2024-01-17T13:44:38.604Z"
   },
   {
    "duration": 43,
    "start_time": "2024-01-17T13:45:04.074Z"
   },
   {
    "duration": 14,
    "start_time": "2024-01-17T13:45:05.377Z"
   },
   {
    "duration": 78,
    "start_time": "2024-01-17T13:49:40.543Z"
   },
   {
    "duration": 111,
    "start_time": "2024-01-17T13:50:57.544Z"
   },
   {
    "duration": 131,
    "start_time": "2024-01-17T13:51:05.664Z"
   },
   {
    "duration": 114,
    "start_time": "2024-01-17T13:51:16.823Z"
   },
   {
    "duration": 112,
    "start_time": "2024-01-17T13:51:57.677Z"
   },
   {
    "duration": 119,
    "start_time": "2024-01-17T13:52:09.468Z"
   },
   {
    "duration": 632,
    "start_time": "2024-01-17T15:57:41.874Z"
   },
   {
    "duration": 194,
    "start_time": "2024-01-17T15:57:42.507Z"
   },
   {
    "duration": 7,
    "start_time": "2024-01-17T15:57:42.706Z"
   },
   {
    "duration": 28,
    "start_time": "2024-01-17T15:57:42.715Z"
   },
   {
    "duration": 333,
    "start_time": "2024-01-17T15:57:42.744Z"
   },
   {
    "duration": 45,
    "start_time": "2024-01-17T15:57:43.079Z"
   },
   {
    "duration": 115,
    "start_time": "2024-01-17T15:57:43.126Z"
   },
   {
    "duration": 243,
    "start_time": "2024-01-17T15:57:43.243Z"
   },
   {
    "duration": 89,
    "start_time": "2024-01-17T15:57:43.489Z"
   },
   {
    "duration": 4,
    "start_time": "2024-01-17T15:57:43.579Z"
   },
   {
    "duration": 59,
    "start_time": "2024-01-17T15:57:43.584Z"
   },
   {
    "duration": 47,
    "start_time": "2024-01-17T15:57:43.645Z"
   },
   {
    "duration": 665,
    "start_time": "2024-01-17T15:57:43.693Z"
   },
   {
    "duration": 5,
    "start_time": "2024-01-17T15:57:44.360Z"
   },
   {
    "duration": 27,
    "start_time": "2024-01-17T15:57:44.367Z"
   },
   {
    "duration": 36,
    "start_time": "2024-01-17T15:57:44.396Z"
   },
   {
    "duration": 83,
    "start_time": "2024-01-17T15:57:44.434Z"
   },
   {
    "duration": 121,
    "start_time": "2024-01-17T15:57:44.523Z"
   },
   {
    "duration": 81,
    "start_time": "2024-01-19T06:08:03.160Z"
   },
   {
    "duration": 1072,
    "start_time": "2024-01-19T06:08:09.772Z"
   },
   {
    "duration": 766,
    "start_time": "2024-01-19T06:08:10.847Z"
   },
   {
    "duration": 10,
    "start_time": "2024-01-19T06:08:11.615Z"
   },
   {
    "duration": 43,
    "start_time": "2024-01-19T06:08:11.628Z"
   },
   {
    "duration": 509,
    "start_time": "2024-01-19T06:08:11.674Z"
   },
   {
    "duration": 42,
    "start_time": "2024-01-19T06:08:12.185Z"
   },
   {
    "duration": 137,
    "start_time": "2024-01-19T06:08:12.229Z"
   },
   {
    "duration": 237,
    "start_time": "2024-01-19T06:08:12.368Z"
   },
   {
    "duration": 98,
    "start_time": "2024-01-19T06:08:12.607Z"
   },
   {
    "duration": 5,
    "start_time": "2024-01-19T06:08:12.710Z"
   },
   {
    "duration": 46,
    "start_time": "2024-01-19T06:08:12.717Z"
   },
   {
    "duration": 102,
    "start_time": "2024-01-19T06:08:12.766Z"
   },
   {
    "duration": 793,
    "start_time": "2024-01-19T06:08:12.870Z"
   },
   {
    "duration": 7,
    "start_time": "2024-01-19T06:08:13.665Z"
   },
   {
    "duration": 33,
    "start_time": "2024-01-19T06:08:13.675Z"
   },
   {
    "duration": 39,
    "start_time": "2024-01-19T06:08:13.711Z"
   },
   {
    "duration": 145,
    "start_time": "2024-01-19T06:08:13.752Z"
   },
   {
    "duration": 138,
    "start_time": "2024-01-19T06:08:13.899Z"
   },
   {
    "duration": 884,
    "start_time": "2024-01-19T14:58:38.727Z"
   },
   {
    "duration": 547,
    "start_time": "2024-01-19T14:58:39.614Z"
   },
   {
    "duration": 8,
    "start_time": "2024-01-19T14:58:40.163Z"
   },
   {
    "duration": 131,
    "start_time": "2024-01-19T14:58:40.174Z"
   },
   {
    "duration": 349,
    "start_time": "2024-01-19T14:58:40.307Z"
   },
   {
    "duration": 48,
    "start_time": "2024-01-19T14:58:40.659Z"
   },
   {
    "duration": 121,
    "start_time": "2024-01-19T14:58:40.709Z"
   },
   {
    "duration": 233,
    "start_time": "2024-01-19T14:58:40.831Z"
   },
   {
    "duration": 92,
    "start_time": "2024-01-19T14:58:41.066Z"
   },
   {
    "duration": 55,
    "start_time": "2024-01-19T14:58:41.161Z"
   },
   {
    "duration": 173,
    "start_time": "2024-01-19T14:58:41.218Z"
   },
   {
    "duration": 126,
    "start_time": "2024-01-19T14:58:41.393Z"
   },
   {
    "duration": 787,
    "start_time": "2024-01-19T14:58:41.521Z"
   },
   {
    "duration": 6,
    "start_time": "2024-01-19T14:58:42.310Z"
   },
   {
    "duration": 21,
    "start_time": "2024-01-19T14:58:42.323Z"
   },
   {
    "duration": 56,
    "start_time": "2024-01-19T14:58:42.346Z"
   },
   {
    "duration": 124,
    "start_time": "2024-01-19T14:58:42.403Z"
   },
   {
    "duration": 124,
    "start_time": "2024-01-19T14:58:42.529Z"
   },
   {
    "duration": 77,
    "start_time": "2024-01-19T15:03:51.151Z"
   },
   {
    "duration": 4,
    "start_time": "2024-01-19T15:06:12.407Z"
   },
   {
    "duration": 4,
    "start_time": "2024-01-19T15:06:28.758Z"
   },
   {
    "duration": 77,
    "start_time": "2024-01-19T15:12:12.102Z"
   },
   {
    "duration": 662,
    "start_time": "2024-01-19T15:12:20.966Z"
   },
   {
    "duration": 203,
    "start_time": "2024-01-19T15:12:21.630Z"
   },
   {
    "duration": 8,
    "start_time": "2024-01-19T15:12:21.835Z"
   },
   {
    "duration": 41,
    "start_time": "2024-01-19T15:12:21.845Z"
   },
   {
    "duration": 323,
    "start_time": "2024-01-19T15:12:21.887Z"
   },
   {
    "duration": 42,
    "start_time": "2024-01-19T15:12:22.212Z"
   },
   {
    "duration": 119,
    "start_time": "2024-01-19T15:12:22.255Z"
   },
   {
    "duration": 228,
    "start_time": "2024-01-19T15:12:22.376Z"
   },
   {
    "duration": 90,
    "start_time": "2024-01-19T15:12:22.605Z"
   },
   {
    "duration": 3,
    "start_time": "2024-01-19T15:12:22.698Z"
   },
   {
    "duration": 51,
    "start_time": "2024-01-19T15:12:22.703Z"
   },
   {
    "duration": 47,
    "start_time": "2024-01-19T15:12:22.756Z"
   },
   {
    "duration": 681,
    "start_time": "2024-01-19T15:12:22.805Z"
   },
   {
    "duration": 7,
    "start_time": "2024-01-19T15:12:23.487Z"
   },
   {
    "duration": 32,
    "start_time": "2024-01-19T15:12:23.495Z"
   },
   {
    "duration": 28,
    "start_time": "2024-01-19T15:12:23.529Z"
   },
   {
    "duration": 127,
    "start_time": "2024-01-19T15:12:23.559Z"
   },
   {
    "duration": 119,
    "start_time": "2024-01-19T15:12:23.688Z"
   },
   {
    "duration": 80,
    "start_time": "2024-01-19T15:12:23.808Z"
   },
   {
    "duration": 85,
    "start_time": "2024-01-19T15:12:23.889Z"
   },
   {
    "duration": 0,
    "start_time": "2024-01-19T15:12:23.975Z"
   },
   {
    "duration": 0,
    "start_time": "2024-01-19T15:12:23.977Z"
   },
   {
    "duration": 33,
    "start_time": "2024-01-19T15:13:00.786Z"
   },
   {
    "duration": 9,
    "start_time": "2024-01-19T15:30:06.020Z"
   },
   {
    "duration": 9,
    "start_time": "2024-01-19T15:30:15.282Z"
   },
   {
    "duration": 9,
    "start_time": "2024-01-19T15:30:25.609Z"
   },
   {
    "duration": 126,
    "start_time": "2024-01-19T15:31:49.027Z"
   },
   {
    "duration": 10,
    "start_time": "2024-01-19T15:31:54.435Z"
   },
   {
    "duration": 80,
    "start_time": "2024-01-19T15:35:55.770Z"
   },
   {
    "duration": 78,
    "start_time": "2024-01-19T15:36:05.665Z"
   },
   {
    "duration": 78,
    "start_time": "2024-01-19T15:36:14.993Z"
   },
   {
    "duration": 76,
    "start_time": "2024-01-19T15:36:20.112Z"
   },
   {
    "duration": 5,
    "start_time": "2024-01-19T15:36:36.095Z"
   },
   {
    "duration": 726,
    "start_time": "2024-01-19T15:36:51.091Z"
   },
   {
    "duration": 195,
    "start_time": "2024-01-19T15:36:51.819Z"
   },
   {
    "duration": 9,
    "start_time": "2024-01-19T15:36:52.015Z"
   },
   {
    "duration": 51,
    "start_time": "2024-01-19T15:36:52.026Z"
   },
   {
    "duration": 373,
    "start_time": "2024-01-19T15:36:52.079Z"
   },
   {
    "duration": 39,
    "start_time": "2024-01-19T15:36:52.454Z"
   },
   {
    "duration": 115,
    "start_time": "2024-01-19T15:36:52.494Z"
   },
   {
    "duration": 235,
    "start_time": "2024-01-19T15:36:52.611Z"
   },
   {
    "duration": 90,
    "start_time": "2024-01-19T15:36:52.848Z"
   },
   {
    "duration": 3,
    "start_time": "2024-01-19T15:36:52.941Z"
   },
   {
    "duration": 44,
    "start_time": "2024-01-19T15:36:52.946Z"
   },
   {
    "duration": 66,
    "start_time": "2024-01-19T15:36:52.991Z"
   },
   {
    "duration": 701,
    "start_time": "2024-01-19T15:36:53.059Z"
   },
   {
    "duration": 6,
    "start_time": "2024-01-19T15:36:53.762Z"
   },
   {
    "duration": 24,
    "start_time": "2024-01-19T15:36:53.770Z"
   },
   {
    "duration": 42,
    "start_time": "2024-01-19T15:36:53.796Z"
   },
   {
    "duration": 95,
    "start_time": "2024-01-19T15:36:53.840Z"
   },
   {
    "duration": 137,
    "start_time": "2024-01-19T15:36:53.937Z"
   },
   {
    "duration": 5,
    "start_time": "2024-01-19T15:36:54.075Z"
   },
   {
    "duration": 4,
    "start_time": "2024-01-19T15:37:31.484Z"
   },
   {
    "duration": 5,
    "start_time": "2024-01-19T15:37:43.667Z"
   },
   {
    "duration": 78,
    "start_time": "2024-01-19T15:37:57.874Z"
   },
   {
    "duration": 4,
    "start_time": "2024-01-19T15:38:08.458Z"
   },
   {
    "duration": 5,
    "start_time": "2024-01-19T17:21:39.152Z"
   },
   {
    "duration": 5,
    "start_time": "2024-01-19T17:22:39.219Z"
   },
   {
    "duration": 3,
    "start_time": "2024-01-19T17:22:55.513Z"
   },
   {
    "duration": 4,
    "start_time": "2024-01-19T17:23:54.909Z"
   },
   {
    "duration": 14,
    "start_time": "2024-01-19T17:26:08.316Z"
   },
   {
    "duration": 10,
    "start_time": "2024-01-19T17:27:06.337Z"
   },
   {
    "duration": 6,
    "start_time": "2024-01-19T17:27:22.246Z"
   },
   {
    "duration": 40,
    "start_time": "2024-01-19T17:27:44.853Z"
   },
   {
    "duration": 30,
    "start_time": "2024-01-19T17:28:09.189Z"
   },
   {
    "duration": 36,
    "start_time": "2024-01-19T17:29:13.343Z"
   },
   {
    "duration": 54,
    "start_time": "2024-01-19T17:30:08.123Z"
   },
   {
    "duration": 30,
    "start_time": "2024-01-19T17:30:29.387Z"
   },
   {
    "duration": 68,
    "start_time": "2024-01-19T17:30:59.503Z"
   },
   {
    "duration": 77,
    "start_time": "2024-01-19T17:31:14.790Z"
   },
   {
    "duration": 701,
    "start_time": "2024-01-19T17:32:10.336Z"
   },
   {
    "duration": 202,
    "start_time": "2024-01-19T17:32:11.039Z"
   },
   {
    "duration": 9,
    "start_time": "2024-01-19T17:32:11.243Z"
   },
   {
    "duration": 24,
    "start_time": "2024-01-19T17:32:11.254Z"
   },
   {
    "duration": 382,
    "start_time": "2024-01-19T17:32:11.280Z"
   },
   {
    "duration": 41,
    "start_time": "2024-01-19T17:32:11.663Z"
   },
   {
    "duration": 124,
    "start_time": "2024-01-19T17:32:11.706Z"
   },
   {
    "duration": 232,
    "start_time": "2024-01-19T17:32:11.833Z"
   },
   {
    "duration": 96,
    "start_time": "2024-01-19T17:32:12.067Z"
   },
   {
    "duration": 4,
    "start_time": "2024-01-19T17:32:12.166Z"
   },
   {
    "duration": 68,
    "start_time": "2024-01-19T17:32:12.172Z"
   },
   {
    "duration": 47,
    "start_time": "2024-01-19T17:32:12.242Z"
   },
   {
    "duration": 686,
    "start_time": "2024-01-19T17:32:12.291Z"
   },
   {
    "duration": 5,
    "start_time": "2024-01-19T17:32:12.979Z"
   },
   {
    "duration": 18,
    "start_time": "2024-01-19T17:32:12.986Z"
   },
   {
    "duration": 29,
    "start_time": "2024-01-19T17:32:13.023Z"
   },
   {
    "duration": 91,
    "start_time": "2024-01-19T17:32:13.054Z"
   },
   {
    "duration": 119,
    "start_time": "2024-01-19T17:32:13.146Z"
   },
   {
    "duration": 5,
    "start_time": "2024-01-19T17:32:13.266Z"
   },
   {
    "duration": 6,
    "start_time": "2024-01-19T17:32:13.273Z"
   },
   {
    "duration": 86,
    "start_time": "2024-01-19T17:32:13.280Z"
   },
   {
    "duration": 82,
    "start_time": "2024-01-19T17:33:40.382Z"
   },
   {
    "duration": 739,
    "start_time": "2024-01-19T17:33:49.696Z"
   },
   {
    "duration": 211,
    "start_time": "2024-01-19T17:33:50.438Z"
   },
   {
    "duration": 9,
    "start_time": "2024-01-19T17:33:50.651Z"
   },
   {
    "duration": 26,
    "start_time": "2024-01-19T17:33:50.663Z"
   },
   {
    "duration": 376,
    "start_time": "2024-01-19T17:33:50.691Z"
   },
   {
    "duration": 40,
    "start_time": "2024-01-19T17:33:51.069Z"
   },
   {
    "duration": 133,
    "start_time": "2024-01-19T17:33:51.122Z"
   },
   {
    "duration": 231,
    "start_time": "2024-01-19T17:33:51.257Z"
   },
   {
    "duration": 90,
    "start_time": "2024-01-19T17:33:51.490Z"
   },
   {
    "duration": 4,
    "start_time": "2024-01-19T17:33:51.582Z"
   },
   {
    "duration": 59,
    "start_time": "2024-01-19T17:33:51.588Z"
   },
   {
    "duration": 47,
    "start_time": "2024-01-19T17:33:51.649Z"
   },
   {
    "duration": 693,
    "start_time": "2024-01-19T17:33:51.697Z"
   },
   {
    "duration": 7,
    "start_time": "2024-01-19T17:33:52.392Z"
   },
   {
    "duration": 86,
    "start_time": "2024-01-19T17:33:52.401Z"
   },
   {
    "duration": 38,
    "start_time": "2024-01-19T17:33:52.489Z"
   },
   {
    "duration": 75,
    "start_time": "2024-01-19T17:33:52.528Z"
   },
   {
    "duration": 131,
    "start_time": "2024-01-19T17:33:52.605Z"
   },
   {
    "duration": 5,
    "start_time": "2024-01-19T17:33:52.738Z"
   },
   {
    "duration": 8,
    "start_time": "2024-01-19T17:33:52.744Z"
   },
   {
    "duration": 82,
    "start_time": "2024-01-19T17:33:52.753Z"
   },
   {
    "duration": 1282,
    "start_time": "2024-01-20T06:54:50.331Z"
   },
   {
    "duration": 1078,
    "start_time": "2024-01-20T06:54:59.909Z"
   },
   {
    "duration": 501,
    "start_time": "2024-01-20T06:55:00.988Z"
   },
   {
    "duration": 7,
    "start_time": "2024-01-20T06:55:01.490Z"
   },
   {
    "duration": 46,
    "start_time": "2024-01-20T06:55:01.499Z"
   },
   {
    "duration": 334,
    "start_time": "2024-01-20T06:55:01.547Z"
   },
   {
    "duration": 37,
    "start_time": "2024-01-20T06:55:01.882Z"
   },
   {
    "duration": 105,
    "start_time": "2024-01-20T06:55:01.921Z"
   },
   {
    "duration": 196,
    "start_time": "2024-01-20T06:55:02.027Z"
   },
   {
    "duration": 76,
    "start_time": "2024-01-20T06:55:02.225Z"
   },
   {
    "duration": 14,
    "start_time": "2024-01-20T06:55:02.304Z"
   },
   {
    "duration": 68,
    "start_time": "2024-01-20T06:55:02.320Z"
   },
   {
    "duration": 38,
    "start_time": "2024-01-20T06:55:02.390Z"
   },
   {
    "duration": 555,
    "start_time": "2024-01-20T06:55:02.430Z"
   },
   {
    "duration": 5,
    "start_time": "2024-01-20T06:55:02.987Z"
   },
   {
    "duration": 122,
    "start_time": "2024-01-20T06:55:02.993Z"
   },
   {
    "duration": 168,
    "start_time": "2024-01-20T06:55:03.117Z"
   },
   {
    "duration": 210,
    "start_time": "2024-01-20T06:55:03.287Z"
   },
   {
    "duration": 106,
    "start_time": "2024-01-20T06:55:03.498Z"
   },
   {
    "duration": 4,
    "start_time": "2024-01-20T06:55:03.605Z"
   },
   {
    "duration": 32,
    "start_time": "2024-01-20T06:55:03.611Z"
   },
   {
    "duration": 119,
    "start_time": "2024-01-20T06:55:03.645Z"
   },
   {
    "duration": 12,
    "start_time": "2024-01-20T06:57:15.526Z"
   },
   {
    "duration": 66,
    "start_time": "2024-01-20T06:58:14.306Z"
   },
   {
    "duration": 24,
    "start_time": "2024-01-20T06:58:21.625Z"
   },
   {
    "duration": 1049,
    "start_time": "2024-01-20T07:00:06.758Z"
   },
   {
    "duration": 183,
    "start_time": "2024-01-20T07:00:07.809Z"
   },
   {
    "duration": 7,
    "start_time": "2024-01-20T07:00:07.993Z"
   },
   {
    "duration": 47,
    "start_time": "2024-01-20T07:00:08.001Z"
   },
   {
    "duration": 300,
    "start_time": "2024-01-20T07:00:08.049Z"
   },
   {
    "duration": 34,
    "start_time": "2024-01-20T07:00:08.352Z"
   },
   {
    "duration": 93,
    "start_time": "2024-01-20T07:00:08.387Z"
   },
   {
    "duration": 189,
    "start_time": "2024-01-20T07:00:08.481Z"
   },
   {
    "duration": 71,
    "start_time": "2024-01-20T07:00:08.671Z"
   },
   {
    "duration": 5,
    "start_time": "2024-01-20T07:00:08.752Z"
   },
   {
    "duration": 35,
    "start_time": "2024-01-20T07:00:08.758Z"
   },
   {
    "duration": 57,
    "start_time": "2024-01-20T07:00:08.795Z"
   },
   {
    "duration": 593,
    "start_time": "2024-01-20T07:00:08.853Z"
   },
   {
    "duration": 6,
    "start_time": "2024-01-20T07:00:09.452Z"
   },
   {
    "duration": 79,
    "start_time": "2024-01-20T07:00:09.460Z"
   },
   {
    "duration": 24,
    "start_time": "2024-01-20T07:00:09.540Z"
   },
   {
    "duration": 75,
    "start_time": "2024-01-20T07:00:09.565Z"
   },
   {
    "duration": 100,
    "start_time": "2024-01-20T07:00:09.641Z"
   },
   {
    "duration": 12,
    "start_time": "2024-01-20T07:00:09.742Z"
   },
   {
    "duration": 9,
    "start_time": "2024-01-20T07:00:09.755Z"
   },
   {
    "duration": 62,
    "start_time": "2024-01-20T07:00:09.765Z"
   },
   {
    "duration": 125,
    "start_time": "2024-01-20T07:00:09.828Z"
   },
   {
    "duration": 1667,
    "start_time": "2024-01-20T07:01:36.037Z"
   },
   {
    "duration": 13,
    "start_time": "2024-01-20T07:05:45.259Z"
   },
   {
    "duration": 146,
    "start_time": "2024-01-20T07:13:02.380Z"
   },
   {
    "duration": 136,
    "start_time": "2024-01-20T07:13:06.653Z"
   },
   {
    "duration": 1027,
    "start_time": "2024-01-20T07:13:43.652Z"
   },
   {
    "duration": 175,
    "start_time": "2024-01-20T07:13:44.681Z"
   },
   {
    "duration": 7,
    "start_time": "2024-01-20T07:13:44.857Z"
   },
   {
    "duration": 24,
    "start_time": "2024-01-20T07:13:44.865Z"
   },
   {
    "duration": 318,
    "start_time": "2024-01-20T07:13:44.890Z"
   },
   {
    "duration": 43,
    "start_time": "2024-01-20T07:13:45.209Z"
   },
   {
    "duration": 104,
    "start_time": "2024-01-20T07:13:45.253Z"
   },
   {
    "duration": 204,
    "start_time": "2024-01-20T07:13:45.359Z"
   },
   {
    "duration": 72,
    "start_time": "2024-01-20T07:13:45.564Z"
   },
   {
    "duration": 19,
    "start_time": "2024-01-20T07:13:45.638Z"
   },
   {
    "duration": 42,
    "start_time": "2024-01-20T07:13:45.659Z"
   },
   {
    "duration": 51,
    "start_time": "2024-01-20T07:13:45.702Z"
   },
   {
    "duration": 593,
    "start_time": "2024-01-20T07:13:45.754Z"
   },
   {
    "duration": 4,
    "start_time": "2024-01-20T07:13:46.352Z"
   },
   {
    "duration": 84,
    "start_time": "2024-01-20T07:13:46.357Z"
   },
   {
    "duration": 23,
    "start_time": "2024-01-20T07:13:46.442Z"
   },
   {
    "duration": 74,
    "start_time": "2024-01-20T07:13:46.466Z"
   },
   {
    "duration": 117,
    "start_time": "2024-01-20T07:13:46.541Z"
   },
   {
    "duration": 4,
    "start_time": "2024-01-20T07:13:46.659Z"
   },
   {
    "duration": 6,
    "start_time": "2024-01-20T07:13:46.665Z"
   },
   {
    "duration": 67,
    "start_time": "2024-01-20T07:13:46.672Z"
   },
   {
    "duration": 14,
    "start_time": "2024-01-20T07:13:46.740Z"
   },
   {
    "duration": 240,
    "start_time": "2024-01-20T07:13:46.755Z"
   },
   {
    "duration": 3,
    "start_time": "2024-01-20T07:14:21.511Z"
   },
   {
    "duration": 154,
    "start_time": "2024-01-20T07:14:24.279Z"
   },
   {
    "duration": 137,
    "start_time": "2024-01-20T07:16:05.504Z"
   },
   {
    "duration": 4,
    "start_time": "2024-01-20T07:17:38.401Z"
   },
   {
    "duration": 3,
    "start_time": "2024-01-20T07:17:45.473Z"
   },
   {
    "duration": 4,
    "start_time": "2024-01-20T07:17:51.361Z"
   },
   {
    "duration": 3,
    "start_time": "2024-01-20T07:17:56.665Z"
   },
   {
    "duration": 4,
    "start_time": "2024-01-20T07:18:03.128Z"
   },
   {
    "duration": 4,
    "start_time": "2024-01-20T07:18:13.447Z"
   },
   {
    "duration": 515,
    "start_time": "2024-01-20T07:36:54.559Z"
   },
   {
    "duration": 583,
    "start_time": "2024-01-20T07:41:46.954Z"
   },
   {
    "duration": 551,
    "start_time": "2024-01-20T07:42:25.407Z"
   },
   {
    "duration": 527,
    "start_time": "2024-01-20T07:44:01.888Z"
   },
   {
    "duration": 873,
    "start_time": "2024-01-20T07:51:54.030Z"
   },
   {
    "duration": 877,
    "start_time": "2024-01-20T07:52:21.772Z"
   },
   {
    "duration": 1027,
    "start_time": "2024-01-20T08:29:10.563Z"
   },
   {
    "duration": 1019,
    "start_time": "2024-01-20T08:30:20.877Z"
   },
   {
    "duration": 1104,
    "start_time": "2024-01-20T08:30:59.402Z"
   },
   {
    "duration": 1015,
    "start_time": "2024-01-20T08:34:27.188Z"
   },
   {
    "duration": 595,
    "start_time": "2024-01-20T12:17:21.749Z"
   },
   {
    "duration": 1034,
    "start_time": "2024-01-20T12:17:52.986Z"
   },
   {
    "duration": 1110,
    "start_time": "2024-01-20T12:18:24.810Z"
   },
   {
    "duration": 182,
    "start_time": "2024-01-20T12:18:25.922Z"
   },
   {
    "duration": 7,
    "start_time": "2024-01-20T12:18:26.105Z"
   },
   {
    "duration": 45,
    "start_time": "2024-01-20T12:18:26.114Z"
   },
   {
    "duration": 330,
    "start_time": "2024-01-20T12:18:26.160Z"
   },
   {
    "duration": 35,
    "start_time": "2024-01-20T12:18:26.491Z"
   },
   {
    "duration": 103,
    "start_time": "2024-01-20T12:18:26.527Z"
   },
   {
    "duration": 198,
    "start_time": "2024-01-20T12:18:26.631Z"
   },
   {
    "duration": 81,
    "start_time": "2024-01-20T12:18:26.830Z"
   },
   {
    "duration": 8,
    "start_time": "2024-01-20T12:18:26.914Z"
   },
   {
    "duration": 50,
    "start_time": "2024-01-20T12:18:26.924Z"
   },
   {
    "duration": 40,
    "start_time": "2024-01-20T12:18:26.975Z"
   },
   {
    "duration": 659,
    "start_time": "2024-01-20T12:18:27.017Z"
   },
   {
    "duration": 6,
    "start_time": "2024-01-20T12:18:27.677Z"
   },
   {
    "duration": 79,
    "start_time": "2024-01-20T12:18:27.684Z"
   },
   {
    "duration": 24,
    "start_time": "2024-01-20T12:18:27.765Z"
   },
   {
    "duration": 78,
    "start_time": "2024-01-20T12:18:27.791Z"
   },
   {
    "duration": 105,
    "start_time": "2024-01-20T12:18:27.870Z"
   },
   {
    "duration": 4,
    "start_time": "2024-01-20T12:18:27.976Z"
   },
   {
    "duration": 6,
    "start_time": "2024-01-20T12:18:27.981Z"
   },
   {
    "duration": 80,
    "start_time": "2024-01-20T12:18:27.988Z"
   },
   {
    "duration": 157,
    "start_time": "2024-01-20T12:18:28.069Z"
   },
   {
    "duration": 554,
    "start_time": "2024-01-20T12:18:28.228Z"
   },
   {
    "duration": 101,
    "start_time": "2024-01-20T12:18:28.784Z"
   },
   {
    "duration": 0,
    "start_time": "2024-01-20T12:18:28.887Z"
   },
   {
    "duration": 0,
    "start_time": "2024-01-20T12:18:28.889Z"
   },
   {
    "duration": 1044,
    "start_time": "2024-01-20T12:20:45.829Z"
   },
   {
    "duration": 1023,
    "start_time": "2024-01-20T12:20:52.072Z"
   },
   {
    "duration": 196,
    "start_time": "2024-01-20T12:20:53.096Z"
   },
   {
    "duration": 7,
    "start_time": "2024-01-20T12:20:53.294Z"
   },
   {
    "duration": 21,
    "start_time": "2024-01-20T12:20:53.303Z"
   },
   {
    "duration": 307,
    "start_time": "2024-01-20T12:20:53.326Z"
   },
   {
    "duration": 37,
    "start_time": "2024-01-20T12:20:53.635Z"
   },
   {
    "duration": 102,
    "start_time": "2024-01-20T12:20:53.673Z"
   },
   {
    "duration": 207,
    "start_time": "2024-01-20T12:20:53.777Z"
   },
   {
    "duration": 77,
    "start_time": "2024-01-20T12:20:53.986Z"
   },
   {
    "duration": 3,
    "start_time": "2024-01-20T12:20:54.066Z"
   },
   {
    "duration": 38,
    "start_time": "2024-01-20T12:20:54.070Z"
   },
   {
    "duration": 62,
    "start_time": "2024-01-20T12:20:54.109Z"
   },
   {
    "duration": 614,
    "start_time": "2024-01-20T12:20:54.172Z"
   },
   {
    "duration": 5,
    "start_time": "2024-01-20T12:20:54.788Z"
   },
   {
    "duration": 85,
    "start_time": "2024-01-20T12:20:54.794Z"
   },
   {
    "duration": 26,
    "start_time": "2024-01-20T12:20:54.880Z"
   },
   {
    "duration": 78,
    "start_time": "2024-01-20T12:20:54.907Z"
   },
   {
    "duration": 123,
    "start_time": "2024-01-20T12:20:54.987Z"
   },
   {
    "duration": 5,
    "start_time": "2024-01-20T12:20:55.113Z"
   },
   {
    "duration": 26,
    "start_time": "2024-01-20T12:20:55.120Z"
   },
   {
    "duration": 81,
    "start_time": "2024-01-20T12:20:55.148Z"
   },
   {
    "duration": 162,
    "start_time": "2024-01-20T12:20:55.231Z"
   },
   {
    "duration": 597,
    "start_time": "2024-01-20T12:20:55.394Z"
   },
   {
    "duration": 1065,
    "start_time": "2024-01-20T12:20:55.993Z"
   },
   {
    "duration": 584,
    "start_time": "2024-01-20T12:20:57.060Z"
   },
   {
    "duration": 1035,
    "start_time": "2024-01-20T12:20:57.646Z"
   },
   {
    "duration": 3,
    "start_time": "2024-01-20T12:23:10.091Z"
   },
   {
    "duration": 3,
    "start_time": "2024-01-20T12:23:18.658Z"
   },
   {
    "duration": 89,
    "start_time": "2024-01-20T12:23:47.753Z"
   },
   {
    "duration": 38,
    "start_time": "2024-01-20T12:23:58.968Z"
   },
   {
    "duration": 37,
    "start_time": "2024-01-20T12:24:54.541Z"
   },
   {
    "duration": 67,
    "start_time": "2024-01-20T12:26:34.933Z"
   },
   {
    "duration": 1078,
    "start_time": "2024-01-20T12:27:28.018Z"
   },
   {
    "duration": 183,
    "start_time": "2024-01-20T12:27:29.098Z"
   },
   {
    "duration": 7,
    "start_time": "2024-01-20T12:27:29.282Z"
   },
   {
    "duration": 33,
    "start_time": "2024-01-20T12:27:29.290Z"
   },
   {
    "duration": 294,
    "start_time": "2024-01-20T12:27:29.325Z"
   },
   {
    "duration": 41,
    "start_time": "2024-01-20T12:27:29.620Z"
   },
   {
    "duration": 99,
    "start_time": "2024-01-20T12:27:29.663Z"
   },
   {
    "duration": 211,
    "start_time": "2024-01-20T12:27:29.763Z"
   },
   {
    "duration": 90,
    "start_time": "2024-01-20T12:27:29.975Z"
   },
   {
    "duration": 3,
    "start_time": "2024-01-20T12:27:30.067Z"
   },
   {
    "duration": 68,
    "start_time": "2024-01-20T12:27:30.072Z"
   },
   {
    "duration": 56,
    "start_time": "2024-01-20T12:27:30.141Z"
   },
   {
    "duration": 664,
    "start_time": "2024-01-20T12:27:30.199Z"
   },
   {
    "duration": 5,
    "start_time": "2024-01-20T12:27:30.865Z"
   },
   {
    "duration": 109,
    "start_time": "2024-01-20T12:27:30.871Z"
   },
   {
    "duration": 25,
    "start_time": "2024-01-20T12:27:30.981Z"
   },
   {
    "duration": 135,
    "start_time": "2024-01-20T12:27:31.008Z"
   },
   {
    "duration": 118,
    "start_time": "2024-01-20T12:27:31.145Z"
   },
   {
    "duration": 5,
    "start_time": "2024-01-20T12:27:31.264Z"
   },
   {
    "duration": 53,
    "start_time": "2024-01-20T12:27:31.270Z"
   },
   {
    "duration": 170,
    "start_time": "2024-01-20T12:27:31.325Z"
   },
   {
    "duration": 191,
    "start_time": "2024-01-20T12:27:31.496Z"
   },
   {
    "duration": 734,
    "start_time": "2024-01-20T12:27:31.688Z"
   },
   {
    "duration": 1085,
    "start_time": "2024-01-20T12:27:32.423Z"
   },
   {
    "duration": 603,
    "start_time": "2024-01-20T12:27:33.509Z"
   },
   {
    "duration": 1056,
    "start_time": "2024-01-20T12:27:34.114Z"
   },
   {
    "duration": 1065,
    "start_time": "2024-01-20T15:41:15.324Z"
   },
   {
    "duration": 171,
    "start_time": "2024-01-20T15:41:16.390Z"
   },
   {
    "duration": 7,
    "start_time": "2024-01-20T15:41:16.562Z"
   },
   {
    "duration": 20,
    "start_time": "2024-01-20T15:41:16.570Z"
   },
   {
    "duration": 295,
    "start_time": "2024-01-20T15:41:16.592Z"
   },
   {
    "duration": 34,
    "start_time": "2024-01-20T15:41:16.889Z"
   },
   {
    "duration": 110,
    "start_time": "2024-01-20T15:41:16.925Z"
   },
   {
    "duration": 229,
    "start_time": "2024-01-20T15:41:17.037Z"
   },
   {
    "duration": 95,
    "start_time": "2024-01-20T15:41:17.268Z"
   },
   {
    "duration": 3,
    "start_time": "2024-01-20T15:41:17.366Z"
   },
   {
    "duration": 40,
    "start_time": "2024-01-20T15:41:17.371Z"
   },
   {
    "duration": 60,
    "start_time": "2024-01-20T15:41:17.413Z"
   },
   {
    "duration": 572,
    "start_time": "2024-01-20T15:41:17.474Z"
   },
   {
    "duration": 5,
    "start_time": "2024-01-20T15:41:18.052Z"
   },
   {
    "duration": 68,
    "start_time": "2024-01-20T15:41:18.058Z"
   },
   {
    "duration": 30,
    "start_time": "2024-01-20T15:41:18.127Z"
   },
   {
    "duration": 67,
    "start_time": "2024-01-20T15:41:18.158Z"
   },
   {
    "duration": 121,
    "start_time": "2024-01-20T15:41:18.227Z"
   },
   {
    "duration": 7,
    "start_time": "2024-01-20T15:41:18.349Z"
   },
   {
    "duration": 10,
    "start_time": "2024-01-20T15:41:18.357Z"
   },
   {
    "duration": 58,
    "start_time": "2024-01-20T15:41:18.369Z"
   },
   {
    "duration": 159,
    "start_time": "2024-01-20T15:41:18.429Z"
   },
   {
    "duration": 536,
    "start_time": "2024-01-20T15:41:18.589Z"
   },
   {
    "duration": 1034,
    "start_time": "2024-01-20T15:41:19.126Z"
   },
   {
    "duration": 524,
    "start_time": "2024-01-20T15:41:20.161Z"
   },
   {
    "duration": 1021,
    "start_time": "2024-01-20T15:41:20.686Z"
   },
   {
    "duration": 1116,
    "start_time": "2024-01-20T18:02:38.981Z"
   },
   {
    "duration": 498,
    "start_time": "2024-01-20T18:02:40.099Z"
   },
   {
    "duration": 8,
    "start_time": "2024-01-20T18:02:40.598Z"
   },
   {
    "duration": 27,
    "start_time": "2024-01-20T18:02:40.607Z"
   },
   {
    "duration": 321,
    "start_time": "2024-01-20T18:02:40.637Z"
   },
   {
    "duration": 38,
    "start_time": "2024-01-20T18:02:40.959Z"
   },
   {
    "duration": 108,
    "start_time": "2024-01-20T18:02:40.999Z"
   },
   {
    "duration": 214,
    "start_time": "2024-01-20T18:02:41.109Z"
   },
   {
    "duration": 82,
    "start_time": "2024-01-20T18:02:41.324Z"
   },
   {
    "duration": 3,
    "start_time": "2024-01-20T18:02:41.408Z"
   },
   {
    "duration": 55,
    "start_time": "2024-01-20T18:02:41.413Z"
   },
   {
    "duration": 42,
    "start_time": "2024-01-20T18:02:41.470Z"
   },
   {
    "duration": 631,
    "start_time": "2024-01-20T18:02:41.514Z"
   },
   {
    "duration": 5,
    "start_time": "2024-01-20T18:02:42.148Z"
   },
   {
    "duration": 62,
    "start_time": "2024-01-20T18:02:42.154Z"
   },
   {
    "duration": 40,
    "start_time": "2024-01-20T18:02:42.218Z"
   },
   {
    "duration": 69,
    "start_time": "2024-01-20T18:02:42.259Z"
   },
   {
    "duration": 118,
    "start_time": "2024-01-20T18:02:42.329Z"
   },
   {
    "duration": 5,
    "start_time": "2024-01-20T18:02:42.448Z"
   },
   {
    "duration": 10,
    "start_time": "2024-01-20T18:02:42.454Z"
   },
   {
    "duration": 61,
    "start_time": "2024-01-20T18:02:42.466Z"
   },
   {
    "duration": 179,
    "start_time": "2024-01-20T18:02:42.528Z"
   },
   {
    "duration": 608,
    "start_time": "2024-01-20T18:02:42.709Z"
   },
   {
    "duration": 1184,
    "start_time": "2024-01-20T18:02:43.319Z"
   },
   {
    "duration": 593,
    "start_time": "2024-01-20T18:02:44.505Z"
   },
   {
    "duration": 1103,
    "start_time": "2024-01-20T18:02:45.100Z"
   },
   {
    "duration": 45,
    "start_time": "2024-01-20T18:10:39.028Z"
   },
   {
    "duration": 12,
    "start_time": "2024-01-20T18:14:19.859Z"
   },
   {
    "duration": 11,
    "start_time": "2024-01-20T18:14:56.539Z"
   },
   {
    "duration": 611,
    "start_time": "2024-01-20T18:22:50.850Z"
   },
   {
    "duration": 1189,
    "start_time": "2024-01-20T18:23:06.888Z"
   },
   {
    "duration": 1111,
    "start_time": "2024-01-20T18:26:07.815Z"
   },
   {
    "duration": 591,
    "start_time": "2024-01-20T18:26:20.887Z"
   },
   {
    "duration": 1144,
    "start_time": "2024-01-20T18:34:46.654Z"
   },
   {
    "duration": 171,
    "start_time": "2024-01-20T18:34:47.800Z"
   },
   {
    "duration": 7,
    "start_time": "2024-01-20T18:34:47.972Z"
   },
   {
    "duration": 37,
    "start_time": "2024-01-20T18:34:47.981Z"
   },
   {
    "duration": 383,
    "start_time": "2024-01-20T18:34:48.020Z"
   },
   {
    "duration": 33,
    "start_time": "2024-01-20T18:34:48.404Z"
   },
   {
    "duration": 100,
    "start_time": "2024-01-20T18:34:48.445Z"
   },
   {
    "duration": 209,
    "start_time": "2024-01-20T18:34:48.547Z"
   },
   {
    "duration": 73,
    "start_time": "2024-01-20T18:34:48.757Z"
   },
   {
    "duration": 14,
    "start_time": "2024-01-20T18:34:48.832Z"
   },
   {
    "duration": 44,
    "start_time": "2024-01-20T18:34:48.848Z"
   },
   {
    "duration": 39,
    "start_time": "2024-01-20T18:34:48.894Z"
   },
   {
    "duration": 640,
    "start_time": "2024-01-20T18:34:48.944Z"
   },
   {
    "duration": 6,
    "start_time": "2024-01-20T18:34:49.587Z"
   },
   {
    "duration": 80,
    "start_time": "2024-01-20T18:34:49.594Z"
   },
   {
    "duration": 23,
    "start_time": "2024-01-20T18:34:49.676Z"
   },
   {
    "duration": 80,
    "start_time": "2024-01-20T18:34:49.701Z"
   },
   {
    "duration": 105,
    "start_time": "2024-01-20T18:34:49.783Z"
   },
   {
    "duration": 5,
    "start_time": "2024-01-20T18:34:49.889Z"
   },
   {
    "duration": 4,
    "start_time": "2024-01-20T18:34:49.895Z"
   },
   {
    "duration": 82,
    "start_time": "2024-01-20T18:34:49.900Z"
   },
   {
    "duration": 150,
    "start_time": "2024-01-20T18:34:49.983Z"
   },
   {
    "duration": 562,
    "start_time": "2024-01-20T18:34:50.134Z"
   },
   {
    "duration": 1073,
    "start_time": "2024-01-20T18:34:50.698Z"
   },
   {
    "duration": 587,
    "start_time": "2024-01-20T18:34:51.773Z"
   },
   {
    "duration": 1070,
    "start_time": "2024-01-20T18:34:52.361Z"
   },
   {
    "duration": 50,
    "start_time": "2024-01-21T06:21:55.614Z"
   },
   {
    "duration": 1438,
    "start_time": "2024-01-21T06:22:06.546Z"
   },
   {
    "duration": 716,
    "start_time": "2024-01-21T06:22:07.986Z"
   },
   {
    "duration": 15,
    "start_time": "2024-01-21T06:22:08.703Z"
   },
   {
    "duration": 23,
    "start_time": "2024-01-21T06:22:08.721Z"
   },
   {
    "duration": 1531,
    "start_time": "2024-01-21T06:22:08.746Z"
   },
   {
    "duration": 0,
    "start_time": "2024-01-21T06:22:10.280Z"
   },
   {
    "duration": 0,
    "start_time": "2024-01-21T06:22:10.281Z"
   },
   {
    "duration": 0,
    "start_time": "2024-01-21T06:22:10.282Z"
   },
   {
    "duration": 0,
    "start_time": "2024-01-21T06:22:10.284Z"
   },
   {
    "duration": 0,
    "start_time": "2024-01-21T06:22:10.285Z"
   },
   {
    "duration": 0,
    "start_time": "2024-01-21T06:22:10.286Z"
   },
   {
    "duration": 0,
    "start_time": "2024-01-21T06:22:10.287Z"
   },
   {
    "duration": 0,
    "start_time": "2024-01-21T06:22:10.288Z"
   },
   {
    "duration": 0,
    "start_time": "2024-01-21T06:22:10.290Z"
   },
   {
    "duration": 0,
    "start_time": "2024-01-21T06:22:10.292Z"
   },
   {
    "duration": 0,
    "start_time": "2024-01-21T06:22:10.293Z"
   },
   {
    "duration": 0,
    "start_time": "2024-01-21T06:22:10.294Z"
   },
   {
    "duration": 0,
    "start_time": "2024-01-21T06:22:10.295Z"
   },
   {
    "duration": 0,
    "start_time": "2024-01-21T06:22:10.296Z"
   },
   {
    "duration": 0,
    "start_time": "2024-01-21T06:22:10.297Z"
   },
   {
    "duration": 0,
    "start_time": "2024-01-21T06:22:10.298Z"
   },
   {
    "duration": 0,
    "start_time": "2024-01-21T06:22:10.299Z"
   },
   {
    "duration": 0,
    "start_time": "2024-01-21T06:22:10.300Z"
   },
   {
    "duration": 0,
    "start_time": "2024-01-21T06:22:10.302Z"
   },
   {
    "duration": 0,
    "start_time": "2024-01-21T06:22:10.303Z"
   },
   {
    "duration": 0,
    "start_time": "2024-01-21T06:22:10.304Z"
   },
   {
    "duration": 1168,
    "start_time": "2024-01-21T06:23:10.787Z"
   },
   {
    "duration": 216,
    "start_time": "2024-01-21T06:23:11.958Z"
   },
   {
    "duration": 15,
    "start_time": "2024-01-21T06:23:12.179Z"
   },
   {
    "duration": 8,
    "start_time": "2024-01-21T06:23:12.196Z"
   },
   {
    "duration": 32,
    "start_time": "2024-01-21T06:23:12.206Z"
   },
   {
    "duration": 1484,
    "start_time": "2024-01-21T06:23:12.240Z"
   },
   {
    "duration": 0,
    "start_time": "2024-01-21T06:23:13.728Z"
   },
   {
    "duration": 0,
    "start_time": "2024-01-21T06:23:13.729Z"
   },
   {
    "duration": 0,
    "start_time": "2024-01-21T06:23:13.730Z"
   },
   {
    "duration": 0,
    "start_time": "2024-01-21T06:23:13.731Z"
   },
   {
    "duration": 0,
    "start_time": "2024-01-21T06:23:13.733Z"
   },
   {
    "duration": 0,
    "start_time": "2024-01-21T06:23:13.734Z"
   },
   {
    "duration": 0,
    "start_time": "2024-01-21T06:23:13.735Z"
   },
   {
    "duration": 0,
    "start_time": "2024-01-21T06:23:13.736Z"
   },
   {
    "duration": 0,
    "start_time": "2024-01-21T06:23:13.737Z"
   },
   {
    "duration": 0,
    "start_time": "2024-01-21T06:23:13.738Z"
   },
   {
    "duration": 0,
    "start_time": "2024-01-21T06:23:13.739Z"
   },
   {
    "duration": 0,
    "start_time": "2024-01-21T06:23:13.740Z"
   },
   {
    "duration": 0,
    "start_time": "2024-01-21T06:23:13.742Z"
   },
   {
    "duration": 0,
    "start_time": "2024-01-21T06:23:13.744Z"
   },
   {
    "duration": 0,
    "start_time": "2024-01-21T06:23:13.746Z"
   },
   {
    "duration": 0,
    "start_time": "2024-01-21T06:23:13.747Z"
   },
   {
    "duration": 0,
    "start_time": "2024-01-21T06:23:13.748Z"
   },
   {
    "duration": 0,
    "start_time": "2024-01-21T06:23:13.750Z"
   },
   {
    "duration": 0,
    "start_time": "2024-01-21T06:23:13.751Z"
   },
   {
    "duration": 0,
    "start_time": "2024-01-21T06:23:13.753Z"
   },
   {
    "duration": 0,
    "start_time": "2024-01-21T06:23:13.754Z"
   },
   {
    "duration": 1110,
    "start_time": "2024-01-21T06:23:52.525Z"
   },
   {
    "duration": 189,
    "start_time": "2024-01-21T06:23:53.637Z"
   },
   {
    "duration": 7,
    "start_time": "2024-01-21T06:23:53.828Z"
   },
   {
    "duration": 8,
    "start_time": "2024-01-21T06:23:53.836Z"
   },
   {
    "duration": 35,
    "start_time": "2024-01-21T06:23:53.846Z"
   },
   {
    "duration": 310,
    "start_time": "2024-01-21T06:23:53.882Z"
   },
   {
    "duration": 38,
    "start_time": "2024-01-21T06:23:54.194Z"
   },
   {
    "duration": 117,
    "start_time": "2024-01-21T06:23:54.233Z"
   },
   {
    "duration": 206,
    "start_time": "2024-01-21T06:23:54.352Z"
   },
   {
    "duration": 87,
    "start_time": "2024-01-21T06:23:54.560Z"
   },
   {
    "duration": 6,
    "start_time": "2024-01-21T06:23:54.649Z"
   },
   {
    "duration": 50,
    "start_time": "2024-01-21T06:23:54.656Z"
   },
   {
    "duration": 44,
    "start_time": "2024-01-21T06:23:54.707Z"
   },
   {
    "duration": 649,
    "start_time": "2024-01-21T06:23:54.752Z"
   },
   {
    "duration": 5,
    "start_time": "2024-01-21T06:23:55.403Z"
   },
   {
    "duration": 90,
    "start_time": "2024-01-21T06:23:55.409Z"
   },
   {
    "duration": 26,
    "start_time": "2024-01-21T06:23:55.501Z"
   },
   {
    "duration": 92,
    "start_time": "2024-01-21T06:23:55.529Z"
   },
   {
    "duration": 116,
    "start_time": "2024-01-21T06:23:55.623Z"
   },
   {
    "duration": 5,
    "start_time": "2024-01-21T06:23:55.741Z"
   },
   {
    "duration": 12,
    "start_time": "2024-01-21T06:23:55.747Z"
   },
   {
    "duration": 68,
    "start_time": "2024-01-21T06:23:55.761Z"
   },
   {
    "duration": 172,
    "start_time": "2024-01-21T06:23:55.830Z"
   },
   {
    "duration": 628,
    "start_time": "2024-01-21T06:23:56.003Z"
   },
   {
    "duration": 1140,
    "start_time": "2024-01-21T06:23:56.633Z"
   },
   {
    "duration": 615,
    "start_time": "2024-01-21T06:23:57.775Z"
   },
   {
    "duration": 1168,
    "start_time": "2024-01-21T06:23:58.392Z"
   },
   {
    "duration": 1103,
    "start_time": "2024-01-21T06:24:17.551Z"
   },
   {
    "duration": 200,
    "start_time": "2024-01-21T06:24:18.656Z"
   },
   {
    "duration": 11,
    "start_time": "2024-01-21T06:24:18.858Z"
   },
   {
    "duration": 22,
    "start_time": "2024-01-21T06:24:18.879Z"
   },
   {
    "duration": 322,
    "start_time": "2024-01-21T06:24:18.903Z"
   },
   {
    "duration": 36,
    "start_time": "2024-01-21T06:24:19.227Z"
   },
   {
    "duration": 136,
    "start_time": "2024-01-21T06:24:19.264Z"
   },
   {
    "duration": 212,
    "start_time": "2024-01-21T06:24:19.402Z"
   },
   {
    "duration": 83,
    "start_time": "2024-01-21T06:24:19.615Z"
   },
   {
    "duration": 3,
    "start_time": "2024-01-21T06:24:19.700Z"
   },
   {
    "duration": 47,
    "start_time": "2024-01-21T06:24:19.704Z"
   },
   {
    "duration": 58,
    "start_time": "2024-01-21T06:24:19.753Z"
   },
   {
    "duration": 642,
    "start_time": "2024-01-21T06:24:19.813Z"
   },
   {
    "duration": 6,
    "start_time": "2024-01-21T06:24:20.457Z"
   },
   {
    "duration": 83,
    "start_time": "2024-01-21T06:24:20.465Z"
   },
   {
    "duration": 34,
    "start_time": "2024-01-21T06:24:20.549Z"
   },
   {
    "duration": 69,
    "start_time": "2024-01-21T06:24:20.584Z"
   },
   {
    "duration": 119,
    "start_time": "2024-01-21T06:24:20.654Z"
   },
   {
    "duration": 8,
    "start_time": "2024-01-21T06:24:20.774Z"
   },
   {
    "duration": 7,
    "start_time": "2024-01-21T06:24:20.784Z"
   },
   {
    "duration": 67,
    "start_time": "2024-01-21T06:24:20.793Z"
   },
   {
    "duration": 166,
    "start_time": "2024-01-21T06:24:20.861Z"
   },
   {
    "duration": 657,
    "start_time": "2024-01-21T06:24:21.029Z"
   },
   {
    "duration": 1183,
    "start_time": "2024-01-21T06:24:21.688Z"
   },
   {
    "duration": 588,
    "start_time": "2024-01-21T06:24:22.879Z"
   },
   {
    "duration": 1174,
    "start_time": "2024-01-21T06:24:23.469Z"
   },
   {
    "duration": 90,
    "start_time": "2024-01-21T06:25:00.266Z"
   },
   {
    "duration": 134,
    "start_time": "2024-01-21T06:28:52.080Z"
   },
   {
    "duration": 1106,
    "start_time": "2024-01-21T06:28:57.838Z"
   },
   {
    "duration": 186,
    "start_time": "2024-01-21T06:28:58.947Z"
   },
   {
    "duration": 11,
    "start_time": "2024-01-21T06:28:59.135Z"
   },
   {
    "duration": 34,
    "start_time": "2024-01-21T06:28:59.147Z"
   },
   {
    "duration": 331,
    "start_time": "2024-01-21T06:28:59.183Z"
   },
   {
    "duration": 35,
    "start_time": "2024-01-21T06:28:59.516Z"
   },
   {
    "duration": 114,
    "start_time": "2024-01-21T06:28:59.554Z"
   },
   {
    "duration": 223,
    "start_time": "2024-01-21T06:28:59.671Z"
   },
   {
    "duration": 90,
    "start_time": "2024-01-21T06:28:59.896Z"
   },
   {
    "duration": 127,
    "start_time": "2024-01-21T06:28:59.989Z"
   },
   {
    "duration": 4,
    "start_time": "2024-01-21T06:29:00.118Z"
   },
   {
    "duration": 99,
    "start_time": "2024-01-21T06:29:00.123Z"
   },
   {
    "duration": 114,
    "start_time": "2024-01-21T06:29:00.224Z"
   },
   {
    "duration": 690,
    "start_time": "2024-01-21T06:29:00.339Z"
   },
   {
    "duration": 5,
    "start_time": "2024-01-21T06:29:01.031Z"
   },
   {
    "duration": 103,
    "start_time": "2024-01-21T06:29:01.037Z"
   },
   {
    "duration": 27,
    "start_time": "2024-01-21T06:29:01.142Z"
   },
   {
    "duration": 97,
    "start_time": "2024-01-21T06:29:01.171Z"
   },
   {
    "duration": 114,
    "start_time": "2024-01-21T06:29:01.270Z"
   },
   {
    "duration": 4,
    "start_time": "2024-01-21T06:29:01.386Z"
   },
   {
    "duration": 67,
    "start_time": "2024-01-21T06:29:01.391Z"
   },
   {
    "duration": 92,
    "start_time": "2024-01-21T06:29:01.459Z"
   },
   {
    "duration": 199,
    "start_time": "2024-01-21T06:29:01.552Z"
   },
   {
    "duration": 631,
    "start_time": "2024-01-21T06:29:01.753Z"
   },
   {
    "duration": 1145,
    "start_time": "2024-01-21T06:29:02.386Z"
   },
   {
    "duration": 595,
    "start_time": "2024-01-21T06:29:03.533Z"
   },
   {
    "duration": 1113,
    "start_time": "2024-01-21T06:29:04.130Z"
   },
   {
    "duration": 74,
    "start_time": "2024-01-21T06:30:14.885Z"
   },
   {
    "duration": 68,
    "start_time": "2024-01-21T06:30:56.321Z"
   },
   {
    "duration": 1177,
    "start_time": "2024-01-21T06:37:05.877Z"
   },
   {
    "duration": 194,
    "start_time": "2024-01-21T06:37:07.056Z"
   },
   {
    "duration": 12,
    "start_time": "2024-01-21T06:37:07.251Z"
   },
   {
    "duration": 36,
    "start_time": "2024-01-21T06:37:07.265Z"
   },
   {
    "duration": 308,
    "start_time": "2024-01-21T06:37:07.303Z"
   },
   {
    "duration": 37,
    "start_time": "2024-01-21T06:37:07.613Z"
   },
   {
    "duration": 107,
    "start_time": "2024-01-21T06:37:07.651Z"
   },
   {
    "duration": 232,
    "start_time": "2024-01-21T06:37:07.759Z"
   },
   {
    "duration": 94,
    "start_time": "2024-01-21T06:37:07.992Z"
   },
   {
    "duration": 91,
    "start_time": "2024-01-21T06:37:08.089Z"
   },
   {
    "duration": 3,
    "start_time": "2024-01-21T06:37:08.182Z"
   },
   {
    "duration": 43,
    "start_time": "2024-01-21T06:37:08.186Z"
   },
   {
    "duration": 60,
    "start_time": "2024-01-21T06:37:08.231Z"
   },
   {
    "duration": 648,
    "start_time": "2024-01-21T06:37:08.294Z"
   },
   {
    "duration": 6,
    "start_time": "2024-01-21T06:37:08.943Z"
   },
   {
    "duration": 82,
    "start_time": "2024-01-21T06:37:08.950Z"
   },
   {
    "duration": 27,
    "start_time": "2024-01-21T06:37:09.033Z"
   },
   {
    "duration": 78,
    "start_time": "2024-01-21T06:37:09.061Z"
   },
   {
    "duration": 128,
    "start_time": "2024-01-21T06:37:09.140Z"
   },
   {
    "duration": 5,
    "start_time": "2024-01-21T06:37:09.269Z"
   },
   {
    "duration": 11,
    "start_time": "2024-01-21T06:37:09.276Z"
   },
   {
    "duration": 76,
    "start_time": "2024-01-21T06:37:09.289Z"
   },
   {
    "duration": 184,
    "start_time": "2024-01-21T06:37:09.367Z"
   },
   {
    "duration": 610,
    "start_time": "2024-01-21T06:37:09.553Z"
   },
   {
    "duration": 1175,
    "start_time": "2024-01-21T06:37:10.164Z"
   },
   {
    "duration": 611,
    "start_time": "2024-01-21T06:37:11.341Z"
   },
   {
    "duration": 1198,
    "start_time": "2024-01-21T06:37:11.954Z"
   },
   {
    "duration": 437,
    "start_time": "2024-01-21T06:40:04.437Z"
   },
   {
    "duration": 3,
    "start_time": "2024-01-21T06:40:43.833Z"
   },
   {
    "duration": 368,
    "start_time": "2024-01-21T06:41:39.646Z"
   },
   {
    "duration": 632,
    "start_time": "2024-01-21T06:42:27.571Z"
   },
   {
    "duration": 202,
    "start_time": "2024-01-21T06:43:37.725Z"
   },
   {
    "duration": 542,
    "start_time": "2024-01-21T06:43:50.693Z"
   },
   {
    "duration": 489,
    "start_time": "2024-01-21T06:44:05.779Z"
   },
   {
    "duration": 488,
    "start_time": "2024-01-21T06:45:28.821Z"
   },
   {
    "duration": 493,
    "start_time": "2024-01-21T06:45:36.731Z"
   },
   {
    "duration": 591,
    "start_time": "2024-01-21T06:45:41.531Z"
   },
   {
    "duration": 66,
    "start_time": "2024-01-21T06:46:05.258Z"
   },
   {
    "duration": 172,
    "start_time": "2024-01-21T06:46:10.010Z"
   },
   {
    "duration": 85,
    "start_time": "2024-01-21T06:46:13.557Z"
   },
   {
    "duration": 511,
    "start_time": "2024-01-21T06:46:18.201Z"
   },
   {
    "duration": 355,
    "start_time": "2024-01-21T06:46:45.303Z"
   },
   {
    "duration": 487,
    "start_time": "2024-01-21T06:46:51.526Z"
   },
   {
    "duration": 8,
    "start_time": "2024-01-21T07:03:13.090Z"
   },
   {
    "duration": 6,
    "start_time": "2024-01-21T07:03:54.238Z"
   },
   {
    "duration": 7,
    "start_time": "2024-01-21T07:04:09.549Z"
   },
   {
    "duration": 101,
    "start_time": "2024-01-21T07:06:04.852Z"
   },
   {
    "duration": 95,
    "start_time": "2024-01-21T07:09:42.942Z"
   },
   {
    "duration": 1192,
    "start_time": "2024-01-21T08:30:39.507Z"
   },
   {
    "duration": 186,
    "start_time": "2024-01-21T08:30:40.701Z"
   },
   {
    "duration": 15,
    "start_time": "2024-01-21T08:30:40.889Z"
   },
   {
    "duration": 27,
    "start_time": "2024-01-21T08:30:40.906Z"
   },
   {
    "duration": 338,
    "start_time": "2024-01-21T08:30:40.935Z"
   },
   {
    "duration": 36,
    "start_time": "2024-01-21T08:30:41.275Z"
   },
   {
    "duration": 104,
    "start_time": "2024-01-21T08:30:41.313Z"
   },
   {
    "duration": 215,
    "start_time": "2024-01-21T08:30:41.419Z"
   },
   {
    "duration": 86,
    "start_time": "2024-01-21T08:30:41.635Z"
   },
   {
    "duration": 87,
    "start_time": "2024-01-21T08:30:41.725Z"
   },
   {
    "duration": 3,
    "start_time": "2024-01-21T08:30:41.814Z"
   },
   {
    "duration": 44,
    "start_time": "2024-01-21T08:30:41.818Z"
   },
   {
    "duration": 56,
    "start_time": "2024-01-21T08:30:41.863Z"
   },
   {
    "duration": 504,
    "start_time": "2024-01-21T08:30:41.921Z"
   },
   {
    "duration": 672,
    "start_time": "2024-01-21T08:30:42.427Z"
   },
   {
    "duration": 106,
    "start_time": "2024-01-21T08:30:43.100Z"
   },
   {
    "duration": 77,
    "start_time": "2024-01-21T08:30:43.208Z"
   },
   {
    "duration": 26,
    "start_time": "2024-01-21T08:30:43.286Z"
   },
   {
    "duration": 92,
    "start_time": "2024-01-21T08:30:43.313Z"
   },
   {
    "duration": 117,
    "start_time": "2024-01-21T08:30:43.407Z"
   },
   {
    "duration": 5,
    "start_time": "2024-01-21T08:30:43.526Z"
   },
   {
    "duration": 15,
    "start_time": "2024-01-21T08:30:43.533Z"
   },
   {
    "duration": 5,
    "start_time": "2024-01-21T08:30:43.550Z"
   },
   {
    "duration": 85,
    "start_time": "2024-01-21T08:30:43.558Z"
   },
   {
    "duration": 174,
    "start_time": "2024-01-21T08:30:43.644Z"
   },
   {
    "duration": 605,
    "start_time": "2024-01-21T08:30:43.820Z"
   },
   {
    "duration": 1162,
    "start_time": "2024-01-21T08:30:44.426Z"
   },
   {
    "duration": 587,
    "start_time": "2024-01-21T08:30:45.591Z"
   },
   {
    "duration": 1103,
    "start_time": "2024-01-21T08:30:46.180Z"
   },
   {
    "duration": 1209,
    "start_time": "2024-01-21T08:33:28.315Z"
   },
   {
    "duration": 201,
    "start_time": "2024-01-21T08:33:29.526Z"
   },
   {
    "duration": 15,
    "start_time": "2024-01-21T08:33:29.729Z"
   },
   {
    "duration": 40,
    "start_time": "2024-01-21T08:33:29.746Z"
   },
   {
    "duration": 320,
    "start_time": "2024-01-21T08:33:29.788Z"
   },
   {
    "duration": 38,
    "start_time": "2024-01-21T08:33:30.110Z"
   },
   {
    "duration": 149,
    "start_time": "2024-01-21T08:33:30.150Z"
   },
   {
    "duration": 215,
    "start_time": "2024-01-21T08:33:30.301Z"
   },
   {
    "duration": 91,
    "start_time": "2024-01-21T08:33:30.518Z"
   },
   {
    "duration": 279,
    "start_time": "2024-01-21T08:33:30.612Z"
   },
   {
    "duration": 171,
    "start_time": "2024-01-21T08:33:30.892Z"
   },
   {
    "duration": 138,
    "start_time": "2024-01-21T08:33:31.064Z"
   },
   {
    "duration": 67,
    "start_time": "2024-01-21T08:33:31.204Z"
   },
   {
    "duration": 480,
    "start_time": "2024-01-21T08:33:31.273Z"
   },
   {
    "duration": 643,
    "start_time": "2024-01-21T08:33:31.755Z"
   },
   {
    "duration": 103,
    "start_time": "2024-01-21T08:33:32.400Z"
   },
   {
    "duration": 82,
    "start_time": "2024-01-21T08:33:32.505Z"
   },
   {
    "duration": 27,
    "start_time": "2024-01-21T08:33:32.589Z"
   },
   {
    "duration": 85,
    "start_time": "2024-01-21T08:33:32.618Z"
   },
   {
    "duration": 110,
    "start_time": "2024-01-21T08:33:32.704Z"
   },
   {
    "duration": 5,
    "start_time": "2024-01-21T08:33:32.815Z"
   },
   {
    "duration": 5,
    "start_time": "2024-01-21T08:33:32.821Z"
   },
   {
    "duration": 77,
    "start_time": "2024-01-21T08:33:32.827Z"
   },
   {
    "duration": 162,
    "start_time": "2024-01-21T08:33:32.906Z"
   },
   {
    "duration": 622,
    "start_time": "2024-01-21T08:33:33.070Z"
   },
   {
    "duration": 1123,
    "start_time": "2024-01-21T08:33:33.694Z"
   },
   {
    "duration": 568,
    "start_time": "2024-01-21T08:33:34.819Z"
   },
   {
    "duration": 1085,
    "start_time": "2024-01-21T08:33:35.390Z"
   },
   {
    "duration": 163,
    "start_time": "2024-01-21T08:43:14.714Z"
   },
   {
    "duration": 162,
    "start_time": "2024-01-21T10:27:55.091Z"
   },
   {
    "duration": 603,
    "start_time": "2024-01-21T17:20:47.041Z"
   },
   {
    "duration": 614,
    "start_time": "2024-01-21T17:21:38.310Z"
   },
   {
    "duration": 578,
    "start_time": "2024-01-21T17:22:02.484Z"
   },
   {
    "duration": 623,
    "start_time": "2024-01-21T17:22:38.146Z"
   },
   {
    "duration": 584,
    "start_time": "2024-01-21T17:23:31.311Z"
   },
   {
    "duration": 582,
    "start_time": "2024-01-21T17:25:20.343Z"
   },
   {
    "duration": 571,
    "start_time": "2024-01-21T17:26:15.180Z"
   },
   {
    "duration": 558,
    "start_time": "2024-01-21T17:26:25.201Z"
   },
   {
    "duration": 600,
    "start_time": "2024-01-21T17:26:34.777Z"
   },
   {
    "duration": 608,
    "start_time": "2024-01-21T17:26:46.512Z"
   },
   {
    "duration": 1109,
    "start_time": "2024-01-21T17:30:43.480Z"
   },
   {
    "duration": 556,
    "start_time": "2024-01-21T17:38:21.321Z"
   },
   {
    "duration": 1088,
    "start_time": "2024-01-21T17:38:44.982Z"
   },
   {
    "duration": 279,
    "start_time": "2024-01-21T17:58:59.066Z"
   },
   {
    "duration": 1181,
    "start_time": "2024-01-21T18:04:26.139Z"
   },
   {
    "duration": 280,
    "start_time": "2024-01-21T18:04:39.210Z"
   },
   {
    "duration": 13,
    "start_time": "2024-01-21T18:04:52.945Z"
   },
   {
    "duration": 1125,
    "start_time": "2024-01-21T18:05:18.768Z"
   },
   {
    "duration": 6,
    "start_time": "2024-01-21T18:10:35.274Z"
   },
   {
    "duration": 602,
    "start_time": "2024-01-21T18:11:00.296Z"
   },
   {
    "duration": 1121,
    "start_time": "2024-01-21T18:11:14.344Z"
   },
   {
    "duration": 1185,
    "start_time": "2024-01-21T18:12:24.989Z"
   },
   {
    "duration": 186,
    "start_time": "2024-01-21T18:12:26.176Z"
   },
   {
    "duration": 23,
    "start_time": "2024-01-21T18:12:26.364Z"
   },
   {
    "duration": 23,
    "start_time": "2024-01-21T18:12:26.389Z"
   },
   {
    "duration": 313,
    "start_time": "2024-01-21T18:12:26.413Z"
   },
   {
    "duration": 36,
    "start_time": "2024-01-21T18:12:26.727Z"
   },
   {
    "duration": 102,
    "start_time": "2024-01-21T18:12:26.765Z"
   },
   {
    "duration": 244,
    "start_time": "2024-01-21T18:12:26.868Z"
   },
   {
    "duration": 84,
    "start_time": "2024-01-21T18:12:27.114Z"
   },
   {
    "duration": 89,
    "start_time": "2024-01-21T18:12:27.200Z"
   },
   {
    "duration": 3,
    "start_time": "2024-01-21T18:12:27.291Z"
   },
   {
    "duration": 42,
    "start_time": "2024-01-21T18:12:27.296Z"
   },
   {
    "duration": 65,
    "start_time": "2024-01-21T18:12:27.339Z"
   },
   {
    "duration": 499,
    "start_time": "2024-01-21T18:12:27.406Z"
   },
   {
    "duration": 612,
    "start_time": "2024-01-21T18:12:27.907Z"
   },
   {
    "duration": 116,
    "start_time": "2024-01-21T18:12:28.521Z"
   },
   {
    "duration": 76,
    "start_time": "2024-01-21T18:12:28.639Z"
   },
   {
    "duration": 29,
    "start_time": "2024-01-21T18:12:28.717Z"
   },
   {
    "duration": 83,
    "start_time": "2024-01-21T18:12:28.748Z"
   },
   {
    "duration": 109,
    "start_time": "2024-01-21T18:12:28.832Z"
   },
   {
    "duration": 4,
    "start_time": "2024-01-21T18:12:28.942Z"
   },
   {
    "duration": 5,
    "start_time": "2024-01-21T18:12:28.948Z"
   },
   {
    "duration": 75,
    "start_time": "2024-01-21T18:12:28.954Z"
   },
   {
    "duration": 164,
    "start_time": "2024-01-21T18:12:29.031Z"
   },
   {
    "duration": 604,
    "start_time": "2024-01-21T18:12:29.197Z"
   },
   {
    "duration": 1270,
    "start_time": "2024-01-21T18:12:29.803Z"
   },
   {
    "duration": 605,
    "start_time": "2024-01-21T18:12:31.080Z"
   },
   {
    "duration": 1166,
    "start_time": "2024-01-21T18:12:31.687Z"
   },
   {
    "duration": 1192,
    "start_time": "2024-01-21T18:24:47.998Z"
   },
   {
    "duration": 188,
    "start_time": "2024-01-21T18:24:49.192Z"
   },
   {
    "duration": 13,
    "start_time": "2024-01-21T18:24:49.382Z"
   },
   {
    "duration": 21,
    "start_time": "2024-01-21T18:24:49.397Z"
   },
   {
    "duration": 327,
    "start_time": "2024-01-21T18:24:49.419Z"
   },
   {
    "duration": 38,
    "start_time": "2024-01-21T18:24:49.748Z"
   },
   {
    "duration": 98,
    "start_time": "2024-01-21T18:24:49.788Z"
   },
   {
    "duration": 228,
    "start_time": "2024-01-21T18:24:49.887Z"
   },
   {
    "duration": 90,
    "start_time": "2024-01-21T18:24:50.117Z"
   },
   {
    "duration": 90,
    "start_time": "2024-01-21T18:24:50.210Z"
   },
   {
    "duration": 4,
    "start_time": "2024-01-21T18:24:50.301Z"
   },
   {
    "duration": 42,
    "start_time": "2024-01-21T18:24:50.307Z"
   },
   {
    "duration": 60,
    "start_time": "2024-01-21T18:24:50.351Z"
   },
   {
    "duration": 494,
    "start_time": "2024-01-21T18:24:50.413Z"
   },
   {
    "duration": 636,
    "start_time": "2024-01-21T18:24:50.909Z"
   },
   {
    "duration": 107,
    "start_time": "2024-01-21T18:24:51.546Z"
   },
   {
    "duration": 74,
    "start_time": "2024-01-21T18:24:51.654Z"
   },
   {
    "duration": 27,
    "start_time": "2024-01-21T18:24:51.730Z"
   },
   {
    "duration": 86,
    "start_time": "2024-01-21T18:24:51.759Z"
   },
   {
    "duration": 118,
    "start_time": "2024-01-21T18:24:51.847Z"
   },
   {
    "duration": 6,
    "start_time": "2024-01-21T18:24:51.966Z"
   },
   {
    "duration": 4,
    "start_time": "2024-01-21T18:24:51.981Z"
   },
   {
    "duration": 91,
    "start_time": "2024-01-21T18:24:51.987Z"
   },
   {
    "duration": 166,
    "start_time": "2024-01-21T18:24:52.080Z"
   },
   {
    "duration": 622,
    "start_time": "2024-01-21T18:24:52.248Z"
   },
   {
    "duration": 1177,
    "start_time": "2024-01-21T18:24:52.872Z"
   },
   {
    "duration": 646,
    "start_time": "2024-01-21T18:24:54.051Z"
   },
   {
    "duration": 1125,
    "start_time": "2024-01-21T18:24:54.700Z"
   },
   {
    "duration": 1223,
    "start_time": "2024-01-22T04:54:59.785Z"
   },
   {
    "duration": 202,
    "start_time": "2024-01-22T04:55:01.009Z"
   },
   {
    "duration": 13,
    "start_time": "2024-01-22T04:55:01.213Z"
   },
   {
    "duration": 120,
    "start_time": "2024-01-22T04:55:01.228Z"
   },
   {
    "duration": 384,
    "start_time": "2024-01-22T04:55:01.350Z"
   },
   {
    "duration": 53,
    "start_time": "2024-01-22T04:55:01.737Z"
   },
   {
    "duration": 98,
    "start_time": "2024-01-22T04:55:01.792Z"
   },
   {
    "duration": 227,
    "start_time": "2024-01-22T04:55:01.892Z"
   },
   {
    "duration": 88,
    "start_time": "2024-01-22T04:55:02.121Z"
   },
   {
    "duration": 99,
    "start_time": "2024-01-22T04:55:02.211Z"
   },
   {
    "duration": 3,
    "start_time": "2024-01-22T04:55:02.312Z"
   },
   {
    "duration": 62,
    "start_time": "2024-01-22T04:55:02.316Z"
   },
   {
    "duration": 43,
    "start_time": "2024-01-22T04:55:02.380Z"
   },
   {
    "duration": 500,
    "start_time": "2024-01-22T04:55:02.426Z"
   },
   {
    "duration": 664,
    "start_time": "2024-01-22T04:55:02.928Z"
   },
   {
    "duration": 107,
    "start_time": "2024-01-22T04:55:03.594Z"
   },
   {
    "duration": 82,
    "start_time": "2024-01-22T04:55:03.703Z"
   },
   {
    "duration": 27,
    "start_time": "2024-01-22T04:55:03.786Z"
   },
   {
    "duration": 91,
    "start_time": "2024-01-22T04:55:03.814Z"
   },
   {
    "duration": 180,
    "start_time": "2024-01-22T04:55:03.907Z"
   },
   {
    "duration": 7,
    "start_time": "2024-01-22T04:55:04.089Z"
   },
   {
    "duration": 11,
    "start_time": "2024-01-22T04:55:04.098Z"
   },
   {
    "duration": 116,
    "start_time": "2024-01-22T04:55:04.111Z"
   },
   {
    "duration": 178,
    "start_time": "2024-01-22T04:55:04.228Z"
   },
   {
    "duration": 668,
    "start_time": "2024-01-22T04:55:04.407Z"
   },
   {
    "duration": 1330,
    "start_time": "2024-01-22T04:55:05.076Z"
   },
   {
    "duration": 682,
    "start_time": "2024-01-22T04:55:06.408Z"
   },
   {
    "duration": 1284,
    "start_time": "2024-01-22T04:55:07.092Z"
   },
   {
    "duration": 12,
    "start_time": "2024-01-22T05:15:07.775Z"
   },
   {
    "duration": 103,
    "start_time": "2024-01-22T05:15:31.662Z"
   },
   {
    "duration": 3,
    "start_time": "2024-01-22T05:15:42.709Z"
   },
   {
    "duration": 13,
    "start_time": "2024-01-22T05:17:19.007Z"
   },
   {
    "duration": 73,
    "start_time": "2024-01-22T05:18:24.684Z"
   },
   {
    "duration": 47,
    "start_time": "2024-01-22T05:19:57.998Z"
   },
   {
    "duration": 80,
    "start_time": "2024-01-22T05:21:03.837Z"
   },
   {
    "duration": 1202,
    "start_time": "2024-01-22T05:36:40.752Z"
   },
   {
    "duration": 224,
    "start_time": "2024-01-22T05:36:41.956Z"
   },
   {
    "duration": 15,
    "start_time": "2024-01-22T05:36:42.182Z"
   },
   {
    "duration": 21,
    "start_time": "2024-01-22T05:36:42.198Z"
   },
   {
    "duration": 331,
    "start_time": "2024-01-22T05:36:42.221Z"
   },
   {
    "duration": 48,
    "start_time": "2024-01-22T05:36:42.554Z"
   },
   {
    "duration": 110,
    "start_time": "2024-01-22T05:36:42.604Z"
   },
   {
    "duration": 218,
    "start_time": "2024-01-22T05:36:42.716Z"
   },
   {
    "duration": 91,
    "start_time": "2024-01-22T05:36:42.936Z"
   },
   {
    "duration": 92,
    "start_time": "2024-01-22T05:36:43.029Z"
   },
   {
    "duration": 3,
    "start_time": "2024-01-22T05:36:43.123Z"
   },
   {
    "duration": 66,
    "start_time": "2024-01-22T05:36:43.128Z"
   },
   {
    "duration": 43,
    "start_time": "2024-01-22T05:36:43.196Z"
   },
   {
    "duration": 552,
    "start_time": "2024-01-22T05:36:43.241Z"
   },
   {
    "duration": 631,
    "start_time": "2024-01-22T05:36:43.794Z"
   },
   {
    "duration": 118,
    "start_time": "2024-01-22T05:36:44.427Z"
   },
   {
    "duration": 78,
    "start_time": "2024-01-22T05:36:44.547Z"
   },
   {
    "duration": 43,
    "start_time": "2024-01-22T05:36:44.627Z"
   },
   {
    "duration": 74,
    "start_time": "2024-01-22T05:36:44.675Z"
   },
   {
    "duration": 131,
    "start_time": "2024-01-22T05:36:44.751Z"
   },
   {
    "duration": 5,
    "start_time": "2024-01-22T05:36:44.883Z"
   },
   {
    "duration": 27,
    "start_time": "2024-01-22T05:36:44.890Z"
   },
   {
    "duration": 71,
    "start_time": "2024-01-22T05:36:44.918Z"
   },
   {
    "duration": 163,
    "start_time": "2024-01-22T05:36:44.991Z"
   },
   {
    "duration": 707,
    "start_time": "2024-01-22T05:36:45.156Z"
   },
   {
    "duration": 1366,
    "start_time": "2024-01-22T05:36:45.865Z"
   },
   {
    "duration": 636,
    "start_time": "2024-01-22T05:36:47.233Z"
   },
   {
    "duration": 1204,
    "start_time": "2024-01-22T05:36:47.880Z"
   },
   {
    "duration": 45,
    "start_time": "2024-01-23T13:09:52.635Z"
   },
   {
    "duration": 1288,
    "start_time": "2024-01-23T13:09:58.653Z"
   },
   {
    "duration": 524,
    "start_time": "2024-01-23T13:09:59.943Z"
   },
   {
    "duration": 13,
    "start_time": "2024-01-23T13:10:00.469Z"
   },
   {
    "duration": 40,
    "start_time": "2024-01-23T13:10:00.484Z"
   },
   {
    "duration": 311,
    "start_time": "2024-01-23T13:10:00.526Z"
   },
   {
    "duration": 35,
    "start_time": "2024-01-23T13:10:00.839Z"
   },
   {
    "duration": 123,
    "start_time": "2024-01-23T13:10:00.876Z"
   },
   {
    "duration": 210,
    "start_time": "2024-01-23T13:10:01.001Z"
   },
   {
    "duration": 81,
    "start_time": "2024-01-23T13:10:01.217Z"
   },
   {
    "duration": 90,
    "start_time": "2024-01-23T13:10:01.301Z"
   },
   {
    "duration": 4,
    "start_time": "2024-01-23T13:10:01.393Z"
   },
   {
    "duration": 101,
    "start_time": "2024-01-23T13:10:01.398Z"
   },
   {
    "duration": 45,
    "start_time": "2024-01-23T13:10:01.502Z"
   },
   {
    "duration": 571,
    "start_time": "2024-01-23T13:10:01.549Z"
   },
   {
    "duration": 603,
    "start_time": "2024-01-23T13:10:02.122Z"
   },
   {
    "duration": 102,
    "start_time": "2024-01-23T13:10:02.727Z"
   },
   {
    "duration": 12,
    "start_time": "2024-01-23T13:10:02.830Z"
   },
   {
    "duration": 78,
    "start_time": "2024-01-23T13:10:02.843Z"
   },
   {
    "duration": 26,
    "start_time": "2024-01-23T13:10:02.922Z"
   },
   {
    "duration": 81,
    "start_time": "2024-01-23T13:10:02.950Z"
   },
   {
    "duration": 111,
    "start_time": "2024-01-23T13:10:03.032Z"
   },
   {
    "duration": 4,
    "start_time": "2024-01-23T13:10:03.145Z"
   },
   {
    "duration": 6,
    "start_time": "2024-01-23T13:10:03.151Z"
   },
   {
    "duration": 80,
    "start_time": "2024-01-23T13:10:03.158Z"
   },
   {
    "duration": 158,
    "start_time": "2024-01-23T13:10:03.239Z"
   },
   {
    "duration": 596,
    "start_time": "2024-01-23T13:10:03.399Z"
   },
   {
    "duration": 1142,
    "start_time": "2024-01-23T13:10:03.997Z"
   },
   {
    "duration": 652,
    "start_time": "2024-01-23T13:10:05.142Z"
   },
   {
    "duration": 1098,
    "start_time": "2024-01-23T13:10:05.796Z"
   },
   {
    "duration": 6,
    "start_time": "2024-01-23T13:10:23.225Z"
   },
   {
    "duration": 701,
    "start_time": "2024-01-23T13:12:00.621Z"
   },
   {
    "duration": 89,
    "start_time": "2024-01-23T13:12:15.267Z"
   },
   {
    "duration": 12,
    "start_time": "2024-01-23T13:14:05.132Z"
   },
   {
    "duration": 57,
    "start_time": "2024-01-23T13:14:51.329Z"
   },
   {
    "duration": 47,
    "start_time": "2024-01-23T13:15:31.270Z"
   },
   {
    "duration": 1246,
    "start_time": "2024-01-23T13:15:38.902Z"
   },
   {
    "duration": 182,
    "start_time": "2024-01-23T13:15:40.150Z"
   },
   {
    "duration": 13,
    "start_time": "2024-01-23T13:15:40.333Z"
   },
   {
    "duration": 21,
    "start_time": "2024-01-23T13:15:40.348Z"
   },
   {
    "duration": 306,
    "start_time": "2024-01-23T13:15:40.371Z"
   },
   {
    "duration": 42,
    "start_time": "2024-01-23T13:15:40.679Z"
   },
   {
    "duration": 102,
    "start_time": "2024-01-23T13:15:40.723Z"
   },
   {
    "duration": 208,
    "start_time": "2024-01-23T13:15:40.827Z"
   },
   {
    "duration": 87,
    "start_time": "2024-01-23T13:15:41.036Z"
   },
   {
    "duration": 48,
    "start_time": "2024-01-23T13:15:41.126Z"
   },
   {
    "duration": 91,
    "start_time": "2024-01-23T13:15:41.176Z"
   },
   {
    "duration": 3,
    "start_time": "2024-01-23T13:15:41.269Z"
   },
   {
    "duration": 57,
    "start_time": "2024-01-23T13:15:41.274Z"
   },
   {
    "duration": 43,
    "start_time": "2024-01-23T13:15:41.333Z"
   },
   {
    "duration": 463,
    "start_time": "2024-01-23T13:15:41.378Z"
   },
   {
    "duration": 586,
    "start_time": "2024-01-23T13:15:41.842Z"
   },
   {
    "duration": 106,
    "start_time": "2024-01-23T13:15:42.429Z"
   },
   {
    "duration": 16,
    "start_time": "2024-01-23T13:15:42.537Z"
   },
   {
    "duration": 54,
    "start_time": "2024-01-23T13:15:42.555Z"
   },
   {
    "duration": 67,
    "start_time": "2024-01-23T13:15:42.618Z"
   },
   {
    "duration": 39,
    "start_time": "2024-01-23T13:15:42.687Z"
   },
   {
    "duration": 68,
    "start_time": "2024-01-23T13:15:42.727Z"
   },
   {
    "duration": 112,
    "start_time": "2024-01-23T13:15:42.796Z"
   },
   {
    "duration": 9,
    "start_time": "2024-01-23T13:15:42.910Z"
   },
   {
    "duration": 10,
    "start_time": "2024-01-23T13:15:42.920Z"
   },
   {
    "duration": 63,
    "start_time": "2024-01-23T13:15:42.932Z"
   },
   {
    "duration": 165,
    "start_time": "2024-01-23T13:15:42.997Z"
   },
   {
    "duration": 588,
    "start_time": "2024-01-23T13:15:43.165Z"
   },
   {
    "duration": 1109,
    "start_time": "2024-01-23T13:15:43.755Z"
   },
   {
    "duration": 574,
    "start_time": "2024-01-23T13:15:44.865Z"
   },
   {
    "duration": 1088,
    "start_time": "2024-01-23T13:15:45.440Z"
   },
   {
    "duration": 151,
    "start_time": "2024-01-23T13:19:36.382Z"
   },
   {
    "duration": 63,
    "start_time": "2024-01-23T13:19:38.917Z"
   },
   {
    "duration": 96,
    "start_time": "2024-01-23T13:19:54.371Z"
   },
   {
    "duration": 14,
    "start_time": "2024-01-23T13:19:59.357Z"
   },
   {
    "duration": 7,
    "start_time": "2024-01-23T13:20:26.282Z"
   },
   {
    "duration": 5,
    "start_time": "2024-01-23T13:20:49.967Z"
   },
   {
    "duration": 6,
    "start_time": "2024-01-23T13:20:54.414Z"
   },
   {
    "duration": 5,
    "start_time": "2024-01-23T13:20:58.686Z"
   },
   {
    "duration": 87,
    "start_time": "2024-01-23T13:22:35.977Z"
   },
   {
    "duration": 83,
    "start_time": "2024-01-23T13:22:40.416Z"
   },
   {
    "duration": 92,
    "start_time": "2024-01-23T13:31:45.667Z"
   },
   {
    "duration": 1076,
    "start_time": "2024-01-23T13:32:54.622Z"
   },
   {
    "duration": 611,
    "start_time": "2024-01-23T13:34:17.984Z"
   },
   {
    "duration": 1156,
    "start_time": "2024-01-23T13:34:29.862Z"
   },
   {
    "duration": 621,
    "start_time": "2024-01-23T13:34:41.487Z"
   },
   {
    "duration": 1136,
    "start_time": "2024-01-23T13:34:50.607Z"
   },
   {
    "duration": 1261,
    "start_time": "2024-01-23T13:36:51.361Z"
   },
   {
    "duration": 184,
    "start_time": "2024-01-23T13:36:52.624Z"
   },
   {
    "duration": 14,
    "start_time": "2024-01-23T13:36:52.810Z"
   },
   {
    "duration": 22,
    "start_time": "2024-01-23T13:36:52.826Z"
   },
   {
    "duration": 303,
    "start_time": "2024-01-23T13:36:52.850Z"
   },
   {
    "duration": 34,
    "start_time": "2024-01-23T13:36:53.154Z"
   },
   {
    "duration": 103,
    "start_time": "2024-01-23T13:36:53.189Z"
   },
   {
    "duration": 217,
    "start_time": "2024-01-23T13:36:53.294Z"
   },
   {
    "duration": 122,
    "start_time": "2024-01-23T13:36:53.517Z"
   },
   {
    "duration": 69,
    "start_time": "2024-01-23T13:36:53.641Z"
   },
   {
    "duration": 3,
    "start_time": "2024-01-23T13:36:53.717Z"
   },
   {
    "duration": 44,
    "start_time": "2024-01-23T13:36:53.721Z"
   },
   {
    "duration": 53,
    "start_time": "2024-01-23T13:36:53.767Z"
   },
   {
    "duration": 474,
    "start_time": "2024-01-23T13:36:53.821Z"
   },
   {
    "duration": 544,
    "start_time": "2024-01-23T13:36:54.297Z"
   },
   {
    "duration": 112,
    "start_time": "2024-01-23T13:36:54.842Z"
   },
   {
    "duration": 74,
    "start_time": "2024-01-23T13:36:54.956Z"
   },
   {
    "duration": 26,
    "start_time": "2024-01-23T13:36:55.032Z"
   },
   {
    "duration": 77,
    "start_time": "2024-01-23T13:36:55.059Z"
   },
   {
    "duration": 111,
    "start_time": "2024-01-23T13:36:55.138Z"
   },
   {
    "duration": 5,
    "start_time": "2024-01-23T13:36:55.250Z"
   },
   {
    "duration": 14,
    "start_time": "2024-01-23T13:36:55.256Z"
   },
   {
    "duration": 66,
    "start_time": "2024-01-23T13:36:55.271Z"
   },
   {
    "duration": 162,
    "start_time": "2024-01-23T13:36:55.338Z"
   },
   {
    "duration": 632,
    "start_time": "2024-01-23T13:36:55.502Z"
   },
   {
    "duration": 1185,
    "start_time": "2024-01-23T13:36:56.136Z"
   },
   {
    "duration": 589,
    "start_time": "2024-01-23T13:36:57.323Z"
   },
   {
    "duration": 1151,
    "start_time": "2024-01-23T13:36:57.920Z"
   },
   {
    "duration": 14,
    "start_time": "2024-01-23T13:42:49.236Z"
   },
   {
    "duration": 6,
    "start_time": "2024-01-23T13:43:06.053Z"
   },
   {
    "duration": 5,
    "start_time": "2024-01-23T13:43:13.435Z"
   },
   {
    "duration": 5,
    "start_time": "2024-01-23T13:43:20.091Z"
   },
   {
    "duration": 1200,
    "start_time": "2024-01-23T13:49:54.414Z"
   },
   {
    "duration": 184,
    "start_time": "2024-01-23T13:49:55.616Z"
   },
   {
    "duration": 17,
    "start_time": "2024-01-23T13:49:55.801Z"
   },
   {
    "duration": 21,
    "start_time": "2024-01-23T13:49:55.820Z"
   },
   {
    "duration": 293,
    "start_time": "2024-01-23T13:49:55.842Z"
   },
   {
    "duration": 34,
    "start_time": "2024-01-23T13:49:56.137Z"
   },
   {
    "duration": 109,
    "start_time": "2024-01-23T13:49:56.173Z"
   },
   {
    "duration": 218,
    "start_time": "2024-01-23T13:49:56.284Z"
   },
   {
    "duration": 119,
    "start_time": "2024-01-23T13:49:56.503Z"
   },
   {
    "duration": 74,
    "start_time": "2024-01-23T13:49:56.626Z"
   },
   {
    "duration": 18,
    "start_time": "2024-01-23T13:49:56.701Z"
   },
   {
    "duration": 46,
    "start_time": "2024-01-23T13:49:56.720Z"
   },
   {
    "duration": 92,
    "start_time": "2024-01-23T13:49:56.767Z"
   },
   {
    "duration": 858,
    "start_time": "2024-01-23T13:49:56.860Z"
   },
   {
    "duration": 781,
    "start_time": "2024-01-23T13:49:57.719Z"
   },
   {
    "duration": 116,
    "start_time": "2024-01-23T13:49:58.502Z"
   },
   {
    "duration": 63,
    "start_time": "2024-01-23T13:49:58.620Z"
   },
   {
    "duration": 37,
    "start_time": "2024-01-23T13:49:58.684Z"
   },
   {
    "duration": 95,
    "start_time": "2024-01-23T13:49:58.723Z"
   },
   {
    "duration": 123,
    "start_time": "2024-01-23T13:49:58.820Z"
   },
   {
    "duration": 6,
    "start_time": "2024-01-23T13:49:58.944Z"
   },
   {
    "duration": 4,
    "start_time": "2024-01-23T13:49:58.952Z"
   },
   {
    "duration": 106,
    "start_time": "2024-01-23T13:49:58.958Z"
   },
   {
    "duration": 167,
    "start_time": "2024-01-23T13:49:59.066Z"
   },
   {
    "duration": 620,
    "start_time": "2024-01-23T13:49:59.234Z"
   },
   {
    "duration": 1206,
    "start_time": "2024-01-23T13:49:59.855Z"
   },
   {
    "duration": 628,
    "start_time": "2024-01-23T13:50:01.063Z"
   },
   {
    "duration": 1148,
    "start_time": "2024-01-23T13:50:01.695Z"
   },
   {
    "duration": 1115,
    "start_time": "2024-01-23T13:51:24.334Z"
   },
   {
    "duration": 174,
    "start_time": "2024-01-23T13:51:25.451Z"
   },
   {
    "duration": 13,
    "start_time": "2024-01-23T13:51:25.626Z"
   },
   {
    "duration": 22,
    "start_time": "2024-01-23T13:51:25.642Z"
   },
   {
    "duration": 309,
    "start_time": "2024-01-23T13:51:25.666Z"
   },
   {
    "duration": 43,
    "start_time": "2024-01-23T13:51:25.976Z"
   },
   {
    "duration": 87,
    "start_time": "2024-01-23T13:51:26.020Z"
   },
   {
    "duration": 209,
    "start_time": "2024-01-23T13:51:26.108Z"
   },
   {
    "duration": 119,
    "start_time": "2024-01-23T13:51:26.319Z"
   },
   {
    "duration": 78,
    "start_time": "2024-01-23T13:51:26.440Z"
   },
   {
    "duration": 3,
    "start_time": "2024-01-23T13:51:26.519Z"
   },
   {
    "duration": 60,
    "start_time": "2024-01-23T13:51:26.524Z"
   },
   {
    "duration": 42,
    "start_time": "2024-01-23T13:51:26.586Z"
   },
   {
    "duration": 522,
    "start_time": "2024-01-23T13:51:26.629Z"
   },
   {
    "duration": 584,
    "start_time": "2024-01-23T13:51:27.152Z"
   },
   {
    "duration": 101,
    "start_time": "2024-01-23T13:51:27.738Z"
   },
   {
    "duration": 61,
    "start_time": "2024-01-23T13:51:27.841Z"
   },
   {
    "duration": 37,
    "start_time": "2024-01-23T13:51:27.904Z"
   },
   {
    "duration": 75,
    "start_time": "2024-01-23T13:51:27.943Z"
   },
   {
    "duration": 109,
    "start_time": "2024-01-23T13:51:28.020Z"
   },
   {
    "duration": 4,
    "start_time": "2024-01-23T13:51:28.131Z"
   },
   {
    "duration": 7,
    "start_time": "2024-01-23T13:51:28.136Z"
   },
   {
    "duration": 76,
    "start_time": "2024-01-23T13:51:28.144Z"
   },
   {
    "duration": 162,
    "start_time": "2024-01-23T13:51:28.221Z"
   },
   {
    "duration": 614,
    "start_time": "2024-01-23T13:51:28.385Z"
   },
   {
    "duration": 1196,
    "start_time": "2024-01-23T13:51:29.001Z"
   },
   {
    "duration": 588,
    "start_time": "2024-01-23T13:51:30.199Z"
   },
   {
    "duration": 1102,
    "start_time": "2024-01-23T13:51:30.791Z"
   },
   {
    "duration": 1226,
    "start_time": "2024-01-23T13:52:24.605Z"
   },
   {
    "duration": 184,
    "start_time": "2024-01-23T13:52:25.832Z"
   },
   {
    "duration": 14,
    "start_time": "2024-01-23T13:52:26.017Z"
   },
   {
    "duration": 22,
    "start_time": "2024-01-23T13:52:26.033Z"
   },
   {
    "duration": 308,
    "start_time": "2024-01-23T13:52:26.056Z"
   },
   {
    "duration": 35,
    "start_time": "2024-01-23T13:52:26.365Z"
   },
   {
    "duration": 95,
    "start_time": "2024-01-23T13:52:26.402Z"
   },
   {
    "duration": 222,
    "start_time": "2024-01-23T13:52:26.498Z"
   },
   {
    "duration": 126,
    "start_time": "2024-01-23T13:52:26.722Z"
   },
   {
    "duration": 79,
    "start_time": "2024-01-23T13:52:26.850Z"
   },
   {
    "duration": 3,
    "start_time": "2024-01-23T13:52:26.931Z"
   },
   {
    "duration": 50,
    "start_time": "2024-01-23T13:52:26.936Z"
   },
   {
    "duration": 49,
    "start_time": "2024-01-23T13:52:26.988Z"
   },
   {
    "duration": 483,
    "start_time": "2024-01-23T13:52:27.039Z"
   },
   {
    "duration": 581,
    "start_time": "2024-01-23T13:52:27.523Z"
   },
   {
    "duration": 93,
    "start_time": "2024-01-23T13:52:28.106Z"
   },
   {
    "duration": 69,
    "start_time": "2024-01-23T13:52:28.201Z"
   },
   {
    "duration": 25,
    "start_time": "2024-01-23T13:52:28.272Z"
   },
   {
    "duration": 82,
    "start_time": "2024-01-23T13:52:28.298Z"
   },
   {
    "duration": 118,
    "start_time": "2024-01-23T13:52:28.381Z"
   },
   {
    "duration": 6,
    "start_time": "2024-01-23T13:52:28.501Z"
   },
   {
    "duration": 18,
    "start_time": "2024-01-23T13:52:28.508Z"
   },
   {
    "duration": 67,
    "start_time": "2024-01-23T13:52:28.528Z"
   },
   {
    "duration": 164,
    "start_time": "2024-01-23T13:52:28.598Z"
   },
   {
    "duration": 599,
    "start_time": "2024-01-23T13:52:28.764Z"
   },
   {
    "duration": 1174,
    "start_time": "2024-01-23T13:52:29.365Z"
   },
   {
    "duration": 597,
    "start_time": "2024-01-23T13:52:30.541Z"
   },
   {
    "duration": 1108,
    "start_time": "2024-01-23T13:52:31.141Z"
   },
   {
    "duration": 1339,
    "start_time": "2024-01-24T07:34:22.221Z"
   },
   {
    "duration": 500,
    "start_time": "2024-01-24T07:34:23.562Z"
   },
   {
    "duration": 13,
    "start_time": "2024-01-24T07:34:24.063Z"
   },
   {
    "duration": 21,
    "start_time": "2024-01-24T07:34:24.078Z"
   },
   {
    "duration": 304,
    "start_time": "2024-01-24T07:34:24.101Z"
   },
   {
    "duration": 36,
    "start_time": "2024-01-24T07:34:24.406Z"
   },
   {
    "duration": 106,
    "start_time": "2024-01-24T07:34:24.453Z"
   },
   {
    "duration": 222,
    "start_time": "2024-01-24T07:34:24.561Z"
   },
   {
    "duration": 114,
    "start_time": "2024-01-24T07:34:24.785Z"
   },
   {
    "duration": 80,
    "start_time": "2024-01-24T07:34:24.901Z"
   },
   {
    "duration": 4,
    "start_time": "2024-01-24T07:34:24.983Z"
   },
   {
    "duration": 40,
    "start_time": "2024-01-24T07:34:24.988Z"
   },
   {
    "duration": 61,
    "start_time": "2024-01-24T07:34:25.029Z"
   },
   {
    "duration": 513,
    "start_time": "2024-01-24T07:34:25.100Z"
   },
   {
    "duration": 528,
    "start_time": "2024-01-24T07:34:25.615Z"
   },
   {
    "duration": 99,
    "start_time": "2024-01-24T07:34:26.145Z"
   },
   {
    "duration": 63,
    "start_time": "2024-01-24T07:34:26.252Z"
   },
   {
    "duration": 40,
    "start_time": "2024-01-24T07:34:26.316Z"
   },
   {
    "duration": 90,
    "start_time": "2024-01-24T07:34:26.358Z"
   },
   {
    "duration": 102,
    "start_time": "2024-01-24T07:34:26.450Z"
   },
   {
    "duration": 5,
    "start_time": "2024-01-24T07:34:26.553Z"
   },
   {
    "duration": 24,
    "start_time": "2024-01-24T07:34:26.559Z"
   },
   {
    "duration": 85,
    "start_time": "2024-01-24T07:34:26.585Z"
   },
   {
    "duration": 160,
    "start_time": "2024-01-24T07:34:26.672Z"
   },
   {
    "duration": 599,
    "start_time": "2024-01-24T07:34:26.834Z"
   },
   {
    "duration": 1129,
    "start_time": "2024-01-24T07:34:27.435Z"
   },
   {
    "duration": 546,
    "start_time": "2024-01-24T07:34:28.565Z"
   },
   {
    "duration": 1162,
    "start_time": "2024-01-24T07:34:29.112Z"
   },
   {
    "duration": 47,
    "start_time": "2024-01-24T07:41:39.179Z"
   },
   {
    "duration": 1133,
    "start_time": "2024-01-24T07:41:43.713Z"
   },
   {
    "duration": 498,
    "start_time": "2024-01-24T07:41:44.848Z"
   },
   {
    "duration": 13,
    "start_time": "2024-01-24T07:41:45.348Z"
   },
   {
    "duration": 21,
    "start_time": "2024-01-24T07:41:45.363Z"
   },
   {
    "duration": 301,
    "start_time": "2024-01-24T07:41:45.386Z"
   },
   {
    "duration": 35,
    "start_time": "2024-01-24T07:41:45.689Z"
   },
   {
    "duration": 108,
    "start_time": "2024-01-24T07:41:45.725Z"
   },
   {
    "duration": 200,
    "start_time": "2024-01-24T07:41:45.835Z"
   },
   {
    "duration": 133,
    "start_time": "2024-01-24T07:41:46.037Z"
   },
   {
    "duration": 81,
    "start_time": "2024-01-24T07:41:46.171Z"
   },
   {
    "duration": 3,
    "start_time": "2024-01-24T07:41:46.253Z"
   },
   {
    "duration": 60,
    "start_time": "2024-01-24T07:41:46.258Z"
   },
   {
    "duration": 49,
    "start_time": "2024-01-24T07:41:46.319Z"
   },
   {
    "duration": 482,
    "start_time": "2024-01-24T07:41:46.371Z"
   },
   {
    "duration": 517,
    "start_time": "2024-01-24T07:41:46.856Z"
   },
   {
    "duration": 101,
    "start_time": "2024-01-24T07:41:47.375Z"
   },
   {
    "duration": 63,
    "start_time": "2024-01-24T07:41:47.477Z"
   },
   {
    "duration": 25,
    "start_time": "2024-01-24T07:41:47.552Z"
   },
   {
    "duration": 81,
    "start_time": "2024-01-24T07:41:47.579Z"
   },
   {
    "duration": 109,
    "start_time": "2024-01-24T07:41:47.661Z"
   },
   {
    "duration": 4,
    "start_time": "2024-01-24T07:41:47.772Z"
   },
   {
    "duration": 11,
    "start_time": "2024-01-24T07:41:47.777Z"
   },
   {
    "duration": 76,
    "start_time": "2024-01-24T07:41:47.789Z"
   },
   {
    "duration": 160,
    "start_time": "2024-01-24T07:41:47.866Z"
   },
   {
    "duration": 542,
    "start_time": "2024-01-24T07:41:48.028Z"
   },
   {
    "duration": 1114,
    "start_time": "2024-01-24T07:41:48.572Z"
   },
   {
    "duration": 537,
    "start_time": "2024-01-24T07:41:49.687Z"
   },
   {
    "duration": 990,
    "start_time": "2024-01-24T07:41:50.225Z"
   },
   {
    "duration": 13,
    "start_time": "2024-01-24T07:41:51.216Z"
   },
   {
    "duration": 838,
    "start_time": "2024-01-24T07:48:50.915Z"
   },
   {
    "duration": 1052,
    "start_time": "2024-01-24T07:50:58.897Z"
   },
   {
    "duration": 183,
    "start_time": "2024-01-24T07:50:59.951Z"
   },
   {
    "duration": 16,
    "start_time": "2024-01-24T07:51:00.136Z"
   },
   {
    "duration": 26,
    "start_time": "2024-01-24T07:51:00.153Z"
   },
   {
    "duration": 337,
    "start_time": "2024-01-24T07:51:00.182Z"
   },
   {
    "duration": 39,
    "start_time": "2024-01-24T07:51:00.520Z"
   },
   {
    "duration": 126,
    "start_time": "2024-01-24T07:51:00.561Z"
   },
   {
    "duration": 202,
    "start_time": "2024-01-24T07:51:00.689Z"
   },
   {
    "duration": 114,
    "start_time": "2024-01-24T07:51:00.893Z"
   },
   {
    "duration": 90,
    "start_time": "2024-01-24T07:51:01.009Z"
   },
   {
    "duration": 14,
    "start_time": "2024-01-24T07:51:01.101Z"
   },
   {
    "duration": 72,
    "start_time": "2024-01-24T07:51:01.117Z"
   },
   {
    "duration": 46,
    "start_time": "2024-01-24T07:51:01.191Z"
   },
   {
    "duration": 474,
    "start_time": "2024-01-24T07:51:01.251Z"
   },
   {
    "duration": 533,
    "start_time": "2024-01-24T07:51:01.726Z"
   },
   {
    "duration": 97,
    "start_time": "2024-01-24T07:51:02.261Z"
   },
   {
    "duration": 60,
    "start_time": "2024-01-24T07:51:02.360Z"
   },
   {
    "duration": 35,
    "start_time": "2024-01-24T07:51:02.422Z"
   },
   {
    "duration": 109,
    "start_time": "2024-01-24T07:51:02.459Z"
   },
   {
    "duration": 105,
    "start_time": "2024-01-24T07:51:02.570Z"
   },
   {
    "duration": 4,
    "start_time": "2024-01-24T07:51:02.677Z"
   },
   {
    "duration": 52,
    "start_time": "2024-01-24T07:51:02.683Z"
   },
   {
    "duration": 125,
    "start_time": "2024-01-24T07:51:02.737Z"
   },
   {
    "duration": 190,
    "start_time": "2024-01-24T07:51:02.864Z"
   },
   {
    "duration": 561,
    "start_time": "2024-01-24T07:51:03.055Z"
   },
   {
    "duration": 1081,
    "start_time": "2024-01-24T07:51:03.617Z"
   },
   {
    "duration": 573,
    "start_time": "2024-01-24T07:51:04.700Z"
   },
   {
    "duration": 997,
    "start_time": "2024-01-24T07:51:05.275Z"
   },
   {
    "duration": 1283,
    "start_time": "2024-01-24T08:01:59.662Z"
   },
   {
    "duration": 513,
    "start_time": "2024-01-24T08:02:00.947Z"
   },
   {
    "duration": 13,
    "start_time": "2024-01-24T08:02:01.462Z"
   },
   {
    "duration": 42,
    "start_time": "2024-01-24T08:02:01.477Z"
   },
   {
    "duration": 311,
    "start_time": "2024-01-24T08:02:01.520Z"
   },
   {
    "duration": 36,
    "start_time": "2024-01-24T08:02:01.833Z"
   },
   {
    "duration": 103,
    "start_time": "2024-01-24T08:02:01.871Z"
   },
   {
    "duration": 207,
    "start_time": "2024-01-24T08:02:01.976Z"
   },
   {
    "duration": 113,
    "start_time": "2024-01-24T08:02:02.185Z"
   },
   {
    "duration": 78,
    "start_time": "2024-01-24T08:02:02.301Z"
   },
   {
    "duration": 3,
    "start_time": "2024-01-24T08:02:02.381Z"
   },
   {
    "duration": 52,
    "start_time": "2024-01-24T08:02:02.385Z"
   },
   {
    "duration": 42,
    "start_time": "2024-01-24T08:02:02.438Z"
   },
   {
    "duration": 516,
    "start_time": "2024-01-24T08:02:02.481Z"
   },
   {
    "duration": 526,
    "start_time": "2024-01-24T08:02:02.998Z"
   },
   {
    "duration": 91,
    "start_time": "2024-01-24T08:02:03.525Z"
   },
   {
    "duration": 70,
    "start_time": "2024-01-24T08:02:03.618Z"
   },
   {
    "duration": 25,
    "start_time": "2024-01-24T08:02:03.689Z"
   },
   {
    "duration": 80,
    "start_time": "2024-01-24T08:02:03.716Z"
   },
   {
    "duration": 116,
    "start_time": "2024-01-24T08:02:03.798Z"
   },
   {
    "duration": 5,
    "start_time": "2024-01-24T08:02:03.915Z"
   },
   {
    "duration": 32,
    "start_time": "2024-01-24T08:02:03.922Z"
   },
   {
    "duration": 97,
    "start_time": "2024-01-24T08:02:03.955Z"
   },
   {
    "duration": 151,
    "start_time": "2024-01-24T08:02:04.053Z"
   },
   {
    "duration": 587,
    "start_time": "2024-01-24T08:02:04.206Z"
   },
   {
    "duration": 1142,
    "start_time": "2024-01-24T08:02:04.794Z"
   },
   {
    "duration": 567,
    "start_time": "2024-01-24T08:02:05.938Z"
   },
   {
    "duration": 1071,
    "start_time": "2024-01-24T08:02:06.508Z"
   },
   {
    "duration": 348,
    "start_time": "2024-01-24T08:06:26.242Z"
   },
   {
    "duration": 1130,
    "start_time": "2024-01-24T08:07:20.815Z"
   },
   {
    "duration": 186,
    "start_time": "2024-01-24T08:07:21.946Z"
   },
   {
    "duration": 13,
    "start_time": "2024-01-24T08:07:22.133Z"
   },
   {
    "duration": 20,
    "start_time": "2024-01-24T08:07:22.148Z"
   },
   {
    "duration": 293,
    "start_time": "2024-01-24T08:07:22.169Z"
   },
   {
    "duration": 33,
    "start_time": "2024-01-24T08:07:22.463Z"
   },
   {
    "duration": 98,
    "start_time": "2024-01-24T08:07:22.498Z"
   },
   {
    "duration": 199,
    "start_time": "2024-01-24T08:07:22.597Z"
   },
   {
    "duration": 128,
    "start_time": "2024-01-24T08:07:22.798Z"
   },
   {
    "duration": 70,
    "start_time": "2024-01-24T08:07:22.932Z"
   },
   {
    "duration": 3,
    "start_time": "2024-01-24T08:07:23.003Z"
   },
   {
    "duration": 52,
    "start_time": "2024-01-24T08:07:23.007Z"
   },
   {
    "duration": 40,
    "start_time": "2024-01-24T08:07:23.060Z"
   },
   {
    "duration": 469,
    "start_time": "2024-01-24T08:07:23.102Z"
   },
   {
    "duration": 565,
    "start_time": "2024-01-24T08:07:23.573Z"
   },
   {
    "duration": 100,
    "start_time": "2024-01-24T08:07:24.140Z"
   },
   {
    "duration": 60,
    "start_time": "2024-01-24T08:07:24.242Z"
   },
   {
    "duration": 24,
    "start_time": "2024-01-24T08:07:24.304Z"
   },
   {
    "duration": 103,
    "start_time": "2024-01-24T08:07:24.332Z"
   },
   {
    "duration": 95,
    "start_time": "2024-01-24T08:07:24.436Z"
   },
   {
    "duration": 5,
    "start_time": "2024-01-24T08:07:24.533Z"
   },
   {
    "duration": 5,
    "start_time": "2024-01-24T08:07:24.539Z"
   },
   {
    "duration": 67,
    "start_time": "2024-01-24T08:07:24.545Z"
   },
   {
    "duration": 152,
    "start_time": "2024-01-24T08:07:24.613Z"
   },
   {
    "duration": 520,
    "start_time": "2024-01-24T08:07:24.766Z"
   },
   {
    "duration": 1101,
    "start_time": "2024-01-24T08:07:25.288Z"
   },
   {
    "duration": 331,
    "start_time": "2024-01-24T08:07:26.390Z"
   },
   {
    "duration": 649,
    "start_time": "2024-01-24T08:07:26.723Z"
   },
   {
    "duration": 1107,
    "start_time": "2024-01-24T08:07:27.374Z"
   },
   {
    "duration": 14,
    "start_time": "2024-01-24T08:33:04.053Z"
   },
   {
    "duration": 1100,
    "start_time": "2024-01-24T08:44:21.628Z"
   },
   {
    "duration": 194,
    "start_time": "2024-01-24T08:44:22.730Z"
   },
   {
    "duration": 13,
    "start_time": "2024-01-24T08:44:22.925Z"
   },
   {
    "duration": 21,
    "start_time": "2024-01-24T08:44:22.939Z"
   },
   {
    "duration": 308,
    "start_time": "2024-01-24T08:44:22.961Z"
   },
   {
    "duration": 34,
    "start_time": "2024-01-24T08:44:23.271Z"
   },
   {
    "duration": 104,
    "start_time": "2024-01-24T08:44:23.307Z"
   },
   {
    "duration": 196,
    "start_time": "2024-01-24T08:44:23.413Z"
   },
   {
    "duration": 113,
    "start_time": "2024-01-24T08:44:23.611Z"
   },
   {
    "duration": 82,
    "start_time": "2024-01-24T08:44:23.732Z"
   },
   {
    "duration": 17,
    "start_time": "2024-01-24T08:44:23.816Z"
   },
   {
    "duration": 40,
    "start_time": "2024-01-24T08:44:23.835Z"
   },
   {
    "duration": 39,
    "start_time": "2024-01-24T08:44:23.877Z"
   },
   {
    "duration": 482,
    "start_time": "2024-01-24T08:44:23.933Z"
   },
   {
    "duration": 511,
    "start_time": "2024-01-24T08:44:24.417Z"
   },
   {
    "duration": 86,
    "start_time": "2024-01-24T08:44:24.929Z"
   },
   {
    "duration": 74,
    "start_time": "2024-01-24T08:44:25.017Z"
   },
   {
    "duration": 24,
    "start_time": "2024-01-24T08:44:25.093Z"
   },
   {
    "duration": 84,
    "start_time": "2024-01-24T08:44:25.118Z"
   },
   {
    "duration": 97,
    "start_time": "2024-01-24T08:44:25.204Z"
   },
   {
    "duration": 4,
    "start_time": "2024-01-24T08:44:25.302Z"
   },
   {
    "duration": 9,
    "start_time": "2024-01-24T08:44:25.308Z"
   },
   {
    "duration": 70,
    "start_time": "2024-01-24T08:44:25.318Z"
   },
   {
    "duration": 168,
    "start_time": "2024-01-24T08:44:25.390Z"
   },
   {
    "duration": 631,
    "start_time": "2024-01-24T08:44:25.560Z"
   },
   {
    "duration": 1133,
    "start_time": "2024-01-24T08:44:26.192Z"
   },
   {
    "duration": 588,
    "start_time": "2024-01-24T08:44:27.326Z"
   },
   {
    "duration": 1079,
    "start_time": "2024-01-24T08:44:27.917Z"
   },
   {
    "duration": 1244,
    "start_time": "2024-01-24T08:57:56.082Z"
   },
   {
    "duration": 178,
    "start_time": "2024-01-24T08:57:57.328Z"
   },
   {
    "duration": 14,
    "start_time": "2024-01-24T08:57:57.507Z"
   },
   {
    "duration": 21,
    "start_time": "2024-01-24T08:57:57.522Z"
   },
   {
    "duration": 339,
    "start_time": "2024-01-24T08:57:57.545Z"
   },
   {
    "duration": 35,
    "start_time": "2024-01-24T08:57:57.886Z"
   },
   {
    "duration": 98,
    "start_time": "2024-01-24T08:57:57.922Z"
   },
   {
    "duration": 215,
    "start_time": "2024-01-24T08:57:58.022Z"
   },
   {
    "duration": 113,
    "start_time": "2024-01-24T08:57:58.238Z"
   },
   {
    "duration": 83,
    "start_time": "2024-01-24T08:57:58.354Z"
   },
   {
    "duration": 3,
    "start_time": "2024-01-24T08:57:58.438Z"
   },
   {
    "duration": 49,
    "start_time": "2024-01-24T08:57:58.443Z"
   },
   {
    "duration": 45,
    "start_time": "2024-01-24T08:57:58.494Z"
   },
   {
    "duration": 487,
    "start_time": "2024-01-24T08:57:58.541Z"
   },
   {
    "duration": 509,
    "start_time": "2024-01-24T08:57:59.032Z"
   },
   {
    "duration": 96,
    "start_time": "2024-01-24T08:57:59.542Z"
   },
   {
    "duration": 60,
    "start_time": "2024-01-24T08:57:59.640Z"
   },
   {
    "duration": 34,
    "start_time": "2024-01-24T08:57:59.702Z"
   },
   {
    "duration": 66,
    "start_time": "2024-01-24T08:57:59.738Z"
   },
   {
    "duration": 110,
    "start_time": "2024-01-24T08:57:59.805Z"
   },
   {
    "duration": 4,
    "start_time": "2024-01-24T08:57:59.916Z"
   },
   {
    "duration": 12,
    "start_time": "2024-01-24T08:57:59.922Z"
   },
   {
    "duration": 58,
    "start_time": "2024-01-24T08:57:59.936Z"
   },
   {
    "duration": 167,
    "start_time": "2024-01-24T08:57:59.996Z"
   },
   {
    "duration": 620,
    "start_time": "2024-01-24T08:58:00.165Z"
   },
   {
    "duration": 1186,
    "start_time": "2024-01-24T08:58:00.787Z"
   },
   {
    "duration": 314,
    "start_time": "2024-01-24T08:58:01.974Z"
   },
   {
    "duration": 581,
    "start_time": "2024-01-24T08:58:02.291Z"
   },
   {
    "duration": 1587,
    "start_time": "2024-01-24T08:58:02.874Z"
   },
   {
    "duration": 337,
    "start_time": "2024-01-24T08:59:08.446Z"
   },
   {
    "duration": 84,
    "start_time": "2024-01-24T09:02:26.983Z"
   },
   {
    "duration": 85,
    "start_time": "2024-01-24T09:02:40.455Z"
   },
   {
    "duration": 332,
    "start_time": "2024-01-24T09:03:11.006Z"
   },
   {
    "duration": 86,
    "start_time": "2024-01-24T09:03:28.607Z"
   },
   {
    "duration": 75,
    "start_time": "2024-01-24T09:03:34.116Z"
   },
   {
    "duration": 300,
    "start_time": "2024-01-24T09:03:37.882Z"
   },
   {
    "duration": 605,
    "start_time": "2024-01-24T09:06:07.337Z"
   },
   {
    "duration": 968,
    "start_time": "2024-01-24T09:09:05.781Z"
   },
   {
    "duration": 907,
    "start_time": "2024-01-24T09:09:38.682Z"
   },
   {
    "duration": 912,
    "start_time": "2024-01-24T10:45:18.278Z"
   },
   {
    "duration": 301,
    "start_time": "2024-01-24T10:46:50.590Z"
   },
   {
    "duration": 292,
    "start_time": "2024-01-24T10:47:20.589Z"
   },
   {
    "duration": 138,
    "start_time": "2024-01-24T10:52:22.719Z"
   },
   {
    "duration": 1111,
    "start_time": "2024-01-24T10:53:10.022Z"
   },
   {
    "duration": 183,
    "start_time": "2024-01-24T10:53:11.134Z"
   },
   {
    "duration": 16,
    "start_time": "2024-01-24T10:53:11.318Z"
   },
   {
    "duration": 38,
    "start_time": "2024-01-24T10:53:11.335Z"
   },
   {
    "duration": 278,
    "start_time": "2024-01-24T10:53:11.375Z"
   },
   {
    "duration": 33,
    "start_time": "2024-01-24T10:53:11.654Z"
   },
   {
    "duration": 102,
    "start_time": "2024-01-24T10:53:11.688Z"
   },
   {
    "duration": 200,
    "start_time": "2024-01-24T10:53:11.791Z"
   },
   {
    "duration": 121,
    "start_time": "2024-01-24T10:53:11.993Z"
   },
   {
    "duration": 79,
    "start_time": "2024-01-24T10:53:12.117Z"
   },
   {
    "duration": 2,
    "start_time": "2024-01-24T10:53:12.198Z"
   },
   {
    "duration": 52,
    "start_time": "2024-01-24T10:53:12.202Z"
   },
   {
    "duration": 47,
    "start_time": "2024-01-24T10:53:12.256Z"
   },
   {
    "duration": 457,
    "start_time": "2024-01-24T10:53:12.305Z"
   },
   {
    "duration": 561,
    "start_time": "2024-01-24T10:53:12.764Z"
   },
   {
    "duration": 90,
    "start_time": "2024-01-24T10:53:13.327Z"
   },
   {
    "duration": 77,
    "start_time": "2024-01-24T10:53:13.418Z"
   },
   {
    "duration": 37,
    "start_time": "2024-01-24T10:53:13.497Z"
   },
   {
    "duration": 95,
    "start_time": "2024-01-24T10:53:13.536Z"
   },
   {
    "duration": 131,
    "start_time": "2024-01-24T10:53:13.632Z"
   },
   {
    "duration": 4,
    "start_time": "2024-01-24T10:53:13.765Z"
   },
   {
    "duration": 13,
    "start_time": "2024-01-24T10:53:13.771Z"
   },
   {
    "duration": 97,
    "start_time": "2024-01-24T10:53:13.785Z"
   },
   {
    "duration": 151,
    "start_time": "2024-01-24T10:53:13.883Z"
   },
   {
    "duration": 537,
    "start_time": "2024-01-24T10:53:14.035Z"
   },
   {
    "duration": 140,
    "start_time": "2024-01-24T10:53:14.574Z"
   },
   {
    "duration": 0,
    "start_time": "2024-01-24T10:53:14.715Z"
   },
   {
    "duration": 0,
    "start_time": "2024-01-24T10:53:14.716Z"
   },
   {
    "duration": 0,
    "start_time": "2024-01-24T10:53:14.718Z"
   },
   {
    "duration": 1092,
    "start_time": "2024-01-24T10:55:41.915Z"
   },
   {
    "duration": 1076,
    "start_time": "2024-01-24T10:56:06.167Z"
   },
   {
    "duration": 176,
    "start_time": "2024-01-24T10:56:07.245Z"
   },
   {
    "duration": 14,
    "start_time": "2024-01-24T10:56:07.422Z"
   },
   {
    "duration": 23,
    "start_time": "2024-01-24T10:56:07.437Z"
   },
   {
    "duration": 305,
    "start_time": "2024-01-24T10:56:07.461Z"
   },
   {
    "duration": 50,
    "start_time": "2024-01-24T10:56:07.768Z"
   },
   {
    "duration": 106,
    "start_time": "2024-01-24T10:56:07.820Z"
   },
   {
    "duration": 212,
    "start_time": "2024-01-24T10:56:07.928Z"
   },
   {
    "duration": 122,
    "start_time": "2024-01-24T10:56:08.142Z"
   },
   {
    "duration": 74,
    "start_time": "2024-01-24T10:56:08.267Z"
   },
   {
    "duration": 3,
    "start_time": "2024-01-24T10:56:08.343Z"
   },
   {
    "duration": 51,
    "start_time": "2024-01-24T10:56:08.347Z"
   },
   {
    "duration": 58,
    "start_time": "2024-01-24T10:56:08.399Z"
   },
   {
    "duration": 491,
    "start_time": "2024-01-24T10:56:08.458Z"
   },
   {
    "duration": 552,
    "start_time": "2024-01-24T10:56:08.951Z"
   },
   {
    "duration": 94,
    "start_time": "2024-01-24T10:56:09.505Z"
   },
   {
    "duration": 71,
    "start_time": "2024-01-24T10:56:09.601Z"
   },
   {
    "duration": 27,
    "start_time": "2024-01-24T10:56:09.674Z"
   },
   {
    "duration": 93,
    "start_time": "2024-01-24T10:56:09.702Z"
   },
   {
    "duration": 99,
    "start_time": "2024-01-24T10:56:09.797Z"
   },
   {
    "duration": 4,
    "start_time": "2024-01-24T10:56:09.897Z"
   },
   {
    "duration": 32,
    "start_time": "2024-01-24T10:56:09.903Z"
   },
   {
    "duration": 94,
    "start_time": "2024-01-24T10:56:09.937Z"
   },
   {
    "duration": 154,
    "start_time": "2024-01-24T10:56:10.033Z"
   },
   {
    "duration": 587,
    "start_time": "2024-01-24T10:56:10.189Z"
   },
   {
    "duration": 1145,
    "start_time": "2024-01-24T10:56:10.777Z"
   },
   {
    "duration": 301,
    "start_time": "2024-01-24T10:56:11.923Z"
   },
   {
    "duration": 582,
    "start_time": "2024-01-24T10:56:12.232Z"
   },
   {
    "duration": 1107,
    "start_time": "2024-01-24T10:56:12.816Z"
   },
   {
    "duration": 346,
    "start_time": "2024-01-24T11:14:10.396Z"
   },
   {
    "duration": 1065,
    "start_time": "2024-01-24T11:16:20.634Z"
   },
   {
    "duration": 1036,
    "start_time": "2024-01-24T11:17:20.471Z"
   },
   {
    "duration": 1103,
    "start_time": "2024-01-24T11:34:19.843Z"
   },
   {
    "duration": 178,
    "start_time": "2024-01-24T11:34:20.947Z"
   },
   {
    "duration": 16,
    "start_time": "2024-01-24T11:34:21.127Z"
   },
   {
    "duration": 20,
    "start_time": "2024-01-24T11:34:21.145Z"
   },
   {
    "duration": 295,
    "start_time": "2024-01-24T11:34:21.167Z"
   },
   {
    "duration": 33,
    "start_time": "2024-01-24T11:34:21.464Z"
   },
   {
    "duration": 102,
    "start_time": "2024-01-24T11:34:21.498Z"
   },
   {
    "duration": 227,
    "start_time": "2024-01-24T11:34:21.602Z"
   },
   {
    "duration": 111,
    "start_time": "2024-01-24T11:34:21.831Z"
   },
   {
    "duration": 69,
    "start_time": "2024-01-24T11:34:21.944Z"
   },
   {
    "duration": 3,
    "start_time": "2024-01-24T11:34:22.015Z"
   },
   {
    "duration": 47,
    "start_time": "2024-01-24T11:34:22.019Z"
   },
   {
    "duration": 39,
    "start_time": "2024-01-24T11:34:22.068Z"
   },
   {
    "duration": 476,
    "start_time": "2024-01-24T11:34:22.109Z"
   },
   {
    "duration": 537,
    "start_time": "2024-01-24T11:34:22.587Z"
   },
   {
    "duration": 90,
    "start_time": "2024-01-24T11:34:23.125Z"
   },
   {
    "duration": 72,
    "start_time": "2024-01-24T11:34:23.216Z"
   },
   {
    "duration": 24,
    "start_time": "2024-01-24T11:34:23.289Z"
   },
   {
    "duration": 87,
    "start_time": "2024-01-24T11:34:23.314Z"
   },
   {
    "duration": 131,
    "start_time": "2024-01-24T11:34:23.403Z"
   },
   {
    "duration": 5,
    "start_time": "2024-01-24T11:34:23.535Z"
   },
   {
    "duration": 11,
    "start_time": "2024-01-24T11:34:23.541Z"
   },
   {
    "duration": 108,
    "start_time": "2024-01-24T11:34:23.553Z"
   },
   {
    "duration": 310,
    "start_time": "2024-01-24T11:34:23.663Z"
   },
   {
    "duration": 1020,
    "start_time": "2024-01-24T11:34:23.975Z"
   },
   {
    "duration": 1099,
    "start_time": "2024-01-24T11:34:24.996Z"
   },
   {
    "duration": 297,
    "start_time": "2024-01-24T11:34:26.096Z"
   },
   {
    "duration": 549,
    "start_time": "2024-01-24T11:34:26.396Z"
   },
   {
    "duration": 1045,
    "start_time": "2024-01-24T11:34:26.947Z"
   },
   {
    "duration": 293,
    "start_time": "2024-01-24T11:46:21.846Z"
   },
   {
    "duration": 282,
    "start_time": "2024-01-24T11:47:41.696Z"
   },
   {
    "duration": 549,
    "start_time": "2024-01-24T11:48:58.555Z"
   },
   {
    "duration": 316,
    "start_time": "2024-01-24T11:49:10.162Z"
   },
   {
    "duration": 960,
    "start_time": "2024-01-24T11:50:57.079Z"
   },
   {
    "duration": 543,
    "start_time": "2024-01-24T11:51:36.864Z"
   },
   {
    "duration": 888,
    "start_time": "2024-01-24T11:53:37.976Z"
   },
   {
    "duration": 308,
    "start_time": "2024-01-24T11:55:03.073Z"
   },
   {
    "duration": 295,
    "start_time": "2024-01-24T11:55:30.112Z"
   },
   {
    "duration": 14,
    "start_time": "2024-01-24T12:01:45.605Z"
   },
   {
    "duration": 1188,
    "start_time": "2024-01-24T12:06:29.363Z"
   },
   {
    "duration": 302,
    "start_time": "2024-01-24T12:06:57.511Z"
   },
   {
    "duration": 1240,
    "start_time": "2024-01-24T12:08:13.563Z"
   },
   {
    "duration": 310,
    "start_time": "2024-01-24T12:08:33.986Z"
   },
   {
    "duration": 1211,
    "start_time": "2024-01-24T12:16:28.820Z"
   },
   {
    "duration": 498,
    "start_time": "2024-01-24T12:16:30.033Z"
   },
   {
    "duration": 13,
    "start_time": "2024-01-24T12:16:30.533Z"
   },
   {
    "duration": 89,
    "start_time": "2024-01-24T12:16:30.548Z"
   },
   {
    "duration": 343,
    "start_time": "2024-01-24T12:16:30.639Z"
   },
   {
    "duration": 36,
    "start_time": "2024-01-24T12:16:30.983Z"
   },
   {
    "duration": 111,
    "start_time": "2024-01-24T12:16:31.021Z"
   },
   {
    "duration": 232,
    "start_time": "2024-01-24T12:16:31.134Z"
   },
   {
    "duration": 119,
    "start_time": "2024-01-24T12:16:31.368Z"
   },
   {
    "duration": 76,
    "start_time": "2024-01-24T12:16:31.491Z"
   },
   {
    "duration": 4,
    "start_time": "2024-01-24T12:16:31.568Z"
   },
   {
    "duration": 67,
    "start_time": "2024-01-24T12:16:31.573Z"
   },
   {
    "duration": 43,
    "start_time": "2024-01-24T12:16:31.641Z"
   },
   {
    "duration": 480,
    "start_time": "2024-01-24T12:16:31.685Z"
   },
   {
    "duration": 529,
    "start_time": "2024-01-24T12:16:32.166Z"
   },
   {
    "duration": 100,
    "start_time": "2024-01-24T12:16:32.696Z"
   },
   {
    "duration": 69,
    "start_time": "2024-01-24T12:16:32.797Z"
   },
   {
    "duration": 24,
    "start_time": "2024-01-24T12:16:32.867Z"
   },
   {
    "duration": 80,
    "start_time": "2024-01-24T12:16:32.893Z"
   },
   {
    "duration": 114,
    "start_time": "2024-01-24T12:16:32.974Z"
   },
   {
    "duration": 4,
    "start_time": "2024-01-24T12:16:33.089Z"
   },
   {
    "duration": 4,
    "start_time": "2024-01-24T12:16:33.095Z"
   },
   {
    "duration": 71,
    "start_time": "2024-01-24T12:16:33.100Z"
   },
   {
    "duration": 157,
    "start_time": "2024-01-24T12:16:33.172Z"
   },
   {
    "duration": 1100,
    "start_time": "2024-01-24T12:16:33.333Z"
   },
   {
    "duration": 49,
    "start_time": "2024-01-24T12:17:25.795Z"
   },
   {
    "duration": 1410,
    "start_time": "2024-01-24T12:18:14.744Z"
   },
   {
    "duration": 620,
    "start_time": "2024-01-24T12:18:16.156Z"
   },
   {
    "duration": 14,
    "start_time": "2024-01-24T12:18:16.778Z"
   },
   {
    "duration": 48,
    "start_time": "2024-01-24T12:18:16.794Z"
   },
   {
    "duration": 298,
    "start_time": "2024-01-24T12:18:16.843Z"
   },
   {
    "duration": 34,
    "start_time": "2024-01-24T12:18:17.143Z"
   },
   {
    "duration": 107,
    "start_time": "2024-01-24T12:18:17.179Z"
   },
   {
    "duration": 207,
    "start_time": "2024-01-24T12:18:17.287Z"
   },
   {
    "duration": 108,
    "start_time": "2024-01-24T12:18:17.496Z"
   },
   {
    "duration": 82,
    "start_time": "2024-01-24T12:18:17.606Z"
   },
   {
    "duration": 3,
    "start_time": "2024-01-24T12:18:17.689Z"
   },
   {
    "duration": 48,
    "start_time": "2024-01-24T12:18:17.693Z"
   },
   {
    "duration": 48,
    "start_time": "2024-01-24T12:18:17.742Z"
   },
   {
    "duration": 475,
    "start_time": "2024-01-24T12:18:17.792Z"
   },
   {
    "duration": 526,
    "start_time": "2024-01-24T12:18:18.269Z"
   },
   {
    "duration": 102,
    "start_time": "2024-01-24T12:18:18.797Z"
   },
   {
    "duration": 66,
    "start_time": "2024-01-24T12:18:18.901Z"
   },
   {
    "duration": 25,
    "start_time": "2024-01-24T12:18:18.969Z"
   },
   {
    "duration": 79,
    "start_time": "2024-01-24T12:18:18.996Z"
   },
   {
    "duration": 111,
    "start_time": "2024-01-24T12:18:19.076Z"
   },
   {
    "duration": 5,
    "start_time": "2024-01-24T12:18:19.189Z"
   },
   {
    "duration": 5,
    "start_time": "2024-01-24T12:18:19.196Z"
   },
   {
    "duration": 75,
    "start_time": "2024-01-24T12:18:19.202Z"
   },
   {
    "duration": 175,
    "start_time": "2024-01-24T12:18:19.279Z"
   },
   {
    "duration": 542,
    "start_time": "2024-01-24T12:18:19.455Z"
   },
   {
    "duration": 1078,
    "start_time": "2024-01-24T12:18:19.999Z"
   },
   {
    "duration": 325,
    "start_time": "2024-01-24T12:18:21.079Z"
   },
   {
    "duration": 546,
    "start_time": "2024-01-24T12:18:21.406Z"
   },
   {
    "duration": 1036,
    "start_time": "2024-01-24T12:18:21.954Z"
   },
   {
    "duration": 1149,
    "start_time": "2024-01-24T12:18:54.669Z"
   },
   {
    "duration": 176,
    "start_time": "2024-01-24T12:18:55.820Z"
   },
   {
    "duration": 12,
    "start_time": "2024-01-24T12:18:55.998Z"
   },
   {
    "duration": 29,
    "start_time": "2024-01-24T12:18:56.011Z"
   },
   {
    "duration": 302,
    "start_time": "2024-01-24T12:18:56.042Z"
   },
   {
    "duration": 34,
    "start_time": "2024-01-24T12:18:56.345Z"
   },
   {
    "duration": 96,
    "start_time": "2024-01-24T12:18:56.380Z"
   },
   {
    "duration": 195,
    "start_time": "2024-01-24T12:18:56.477Z"
   },
   {
    "duration": 114,
    "start_time": "2024-01-24T12:18:56.673Z"
   },
   {
    "duration": 75,
    "start_time": "2024-01-24T12:18:56.789Z"
   },
   {
    "duration": 3,
    "start_time": "2024-01-24T12:18:56.865Z"
   },
   {
    "duration": 58,
    "start_time": "2024-01-24T12:18:56.870Z"
   },
   {
    "duration": 40,
    "start_time": "2024-01-24T12:18:56.929Z"
   },
   {
    "duration": 472,
    "start_time": "2024-01-24T12:18:56.971Z"
   },
   {
    "duration": 514,
    "start_time": "2024-01-24T12:18:57.444Z"
   },
   {
    "duration": 89,
    "start_time": "2024-01-24T12:18:57.959Z"
   },
   {
    "duration": 59,
    "start_time": "2024-01-24T12:18:58.049Z"
   },
   {
    "duration": 37,
    "start_time": "2024-01-24T12:18:58.110Z"
   },
   {
    "duration": 84,
    "start_time": "2024-01-24T12:18:58.148Z"
   },
   {
    "duration": 105,
    "start_time": "2024-01-24T12:18:58.234Z"
   },
   {
    "duration": 6,
    "start_time": "2024-01-24T12:18:58.340Z"
   },
   {
    "duration": 30,
    "start_time": "2024-01-24T12:18:58.347Z"
   },
   {
    "duration": 77,
    "start_time": "2024-01-24T12:18:58.379Z"
   },
   {
    "duration": 154,
    "start_time": "2024-01-24T12:18:58.459Z"
   },
   {
    "duration": 555,
    "start_time": "2024-01-24T12:18:58.616Z"
   },
   {
    "duration": 1228,
    "start_time": "2024-01-24T12:19:41.094Z"
   },
   {
    "duration": 503,
    "start_time": "2024-01-24T12:19:42.324Z"
   },
   {
    "duration": 15,
    "start_time": "2024-01-24T12:19:42.829Z"
   },
   {
    "duration": 25,
    "start_time": "2024-01-24T12:19:42.845Z"
   },
   {
    "duration": 309,
    "start_time": "2024-01-24T12:19:42.872Z"
   },
   {
    "duration": 35,
    "start_time": "2024-01-24T12:19:43.183Z"
   },
   {
    "duration": 95,
    "start_time": "2024-01-24T12:19:43.220Z"
   },
   {
    "duration": 204,
    "start_time": "2024-01-24T12:19:43.317Z"
   },
   {
    "duration": 112,
    "start_time": "2024-01-24T12:19:43.523Z"
   },
   {
    "duration": 70,
    "start_time": "2024-01-24T12:19:43.638Z"
   },
   {
    "duration": 3,
    "start_time": "2024-01-24T12:19:43.710Z"
   },
   {
    "duration": 38,
    "start_time": "2024-01-24T12:19:43.733Z"
   },
   {
    "duration": 41,
    "start_time": "2024-01-24T12:19:43.772Z"
   },
   {
    "duration": 486,
    "start_time": "2024-01-24T12:19:43.814Z"
   },
   {
    "duration": 532,
    "start_time": "2024-01-24T12:19:44.303Z"
   },
   {
    "duration": 89,
    "start_time": "2024-01-24T12:19:44.836Z"
   },
   {
    "duration": 61,
    "start_time": "2024-01-24T12:19:44.933Z"
   },
   {
    "duration": 37,
    "start_time": "2024-01-24T12:19:44.996Z"
   },
   {
    "duration": 71,
    "start_time": "2024-01-24T12:19:45.035Z"
   },
   {
    "duration": 103,
    "start_time": "2024-01-24T12:19:45.108Z"
   },
   {
    "duration": 4,
    "start_time": "2024-01-24T12:19:45.212Z"
   },
   {
    "duration": 17,
    "start_time": "2024-01-24T12:19:45.217Z"
   },
   {
    "duration": 66,
    "start_time": "2024-01-24T12:19:45.235Z"
   },
   {
    "duration": 162,
    "start_time": "2024-01-24T12:19:45.302Z"
   },
   {
    "duration": 558,
    "start_time": "2024-01-24T12:19:45.466Z"
   },
   {
    "duration": 1077,
    "start_time": "2024-01-24T12:19:46.026Z"
   },
   {
    "duration": 328,
    "start_time": "2024-01-24T12:19:47.105Z"
   },
   {
    "duration": 596,
    "start_time": "2024-01-24T12:19:47.436Z"
   },
   {
    "duration": 1036,
    "start_time": "2024-01-24T12:19:48.034Z"
   },
   {
    "duration": 1380,
    "start_time": "2024-01-24T12:21:14.577Z"
   },
   {
    "duration": 315,
    "start_time": "2024-01-24T12:21:15.958Z"
   },
   {
    "duration": 68,
    "start_time": "2024-01-24T12:21:16.275Z"
   },
   {
    "duration": 41,
    "start_time": "2024-01-24T12:21:16.345Z"
   },
   {
    "duration": 547,
    "start_time": "2024-01-24T12:21:16.388Z"
   },
   {
    "duration": 34,
    "start_time": "2024-01-24T12:21:16.936Z"
   },
   {
    "duration": 100,
    "start_time": "2024-01-24T12:21:16.972Z"
   },
   {
    "duration": 200,
    "start_time": "2024-01-24T12:21:17.074Z"
   },
   {
    "duration": 124,
    "start_time": "2024-01-24T12:21:17.276Z"
   },
   {
    "duration": 82,
    "start_time": "2024-01-24T12:21:17.403Z"
   },
   {
    "duration": 4,
    "start_time": "2024-01-24T12:21:17.487Z"
   },
   {
    "duration": 76,
    "start_time": "2024-01-24T12:21:17.492Z"
   },
   {
    "duration": 42,
    "start_time": "2024-01-24T12:21:17.569Z"
   },
   {
    "duration": 460,
    "start_time": "2024-01-24T12:21:17.612Z"
   },
   {
    "duration": 545,
    "start_time": "2024-01-24T12:21:18.074Z"
   },
   {
    "duration": 88,
    "start_time": "2024-01-24T12:21:18.621Z"
   },
   {
    "duration": 71,
    "start_time": "2024-01-24T12:21:18.711Z"
   },
   {
    "duration": 24,
    "start_time": "2024-01-24T12:21:18.784Z"
   },
   {
    "duration": 88,
    "start_time": "2024-01-24T12:21:18.810Z"
   },
   {
    "duration": 101,
    "start_time": "2024-01-24T12:21:18.899Z"
   },
   {
    "duration": 5,
    "start_time": "2024-01-24T12:21:19.002Z"
   },
   {
    "duration": 7,
    "start_time": "2024-01-24T12:21:19.008Z"
   },
   {
    "duration": 80,
    "start_time": "2024-01-24T12:21:19.016Z"
   },
   {
    "duration": 162,
    "start_time": "2024-01-24T12:21:19.098Z"
   },
   {
    "duration": 589,
    "start_time": "2024-01-24T12:21:19.262Z"
   },
   {
    "duration": 1108,
    "start_time": "2024-01-24T12:21:19.853Z"
   },
   {
    "duration": 348,
    "start_time": "2024-01-24T12:21:20.963Z"
   },
   {
    "duration": 571,
    "start_time": "2024-01-24T12:21:21.314Z"
   },
   {
    "duration": 1040,
    "start_time": "2024-01-24T12:21:21.886Z"
   },
   {
    "duration": 102,
    "start_time": "2024-01-24T12:24:59.892Z"
   },
   {
    "duration": 43,
    "start_time": "2024-01-24T12:25:46.448Z"
   },
   {
    "duration": 93,
    "start_time": "2024-01-24T12:26:05.639Z"
   },
   {
    "duration": 1043,
    "start_time": "2024-01-24T12:26:17.581Z"
   },
   {
    "duration": 174,
    "start_time": "2024-01-24T12:26:18.626Z"
   },
   {
    "duration": 12,
    "start_time": "2024-01-24T12:26:18.802Z"
   },
   {
    "duration": 32,
    "start_time": "2024-01-24T12:26:18.816Z"
   },
   {
    "duration": 306,
    "start_time": "2024-01-24T12:26:18.850Z"
   },
   {
    "duration": 33,
    "start_time": "2024-01-24T12:26:19.157Z"
   },
   {
    "duration": 99,
    "start_time": "2024-01-24T12:26:19.192Z"
   },
   {
    "duration": 201,
    "start_time": "2024-01-24T12:26:19.292Z"
   },
   {
    "duration": 112,
    "start_time": "2024-01-24T12:26:19.495Z"
   },
   {
    "duration": 94,
    "start_time": "2024-01-24T12:26:19.609Z"
   },
   {
    "duration": 3,
    "start_time": "2024-01-24T12:26:19.704Z"
   },
   {
    "duration": 78,
    "start_time": "2024-01-24T12:26:19.708Z"
   },
   {
    "duration": 44,
    "start_time": "2024-01-24T12:26:19.787Z"
   },
   {
    "duration": 446,
    "start_time": "2024-01-24T12:26:19.832Z"
   },
   {
    "duration": 967,
    "start_time": "2024-01-24T12:26:20.280Z"
   },
   {
    "duration": 188,
    "start_time": "2024-01-24T12:26:21.249Z"
   },
   {
    "duration": 114,
    "start_time": "2024-01-24T12:26:21.438Z"
   },
   {
    "duration": 24,
    "start_time": "2024-01-24T12:26:21.553Z"
   },
   {
    "duration": 116,
    "start_time": "2024-01-24T12:26:21.579Z"
   },
   {
    "duration": 166,
    "start_time": "2024-01-24T12:26:21.697Z"
   },
   {
    "duration": 4,
    "start_time": "2024-01-24T12:26:21.864Z"
   },
   {
    "duration": 14,
    "start_time": "2024-01-24T12:26:21.869Z"
   },
   {
    "duration": 70,
    "start_time": "2024-01-24T12:26:21.884Z"
   },
   {
    "duration": 158,
    "start_time": "2024-01-24T12:26:21.955Z"
   },
   {
    "duration": 548,
    "start_time": "2024-01-24T12:26:22.114Z"
   },
   {
    "duration": 1799,
    "start_time": "2024-01-24T12:26:22.664Z"
   },
   {
    "duration": 340,
    "start_time": "2024-01-24T12:26:24.465Z"
   },
   {
    "duration": 562,
    "start_time": "2024-01-24T12:26:24.809Z"
   },
   {
    "duration": 1130,
    "start_time": "2024-01-24T12:26:25.373Z"
   },
   {
    "duration": 3,
    "start_time": "2024-01-24T12:27:11.266Z"
   },
   {
    "duration": 13,
    "start_time": "2024-01-24T12:29:48.823Z"
   },
   {
    "duration": 119,
    "start_time": "2024-01-24T12:30:13.541Z"
   },
   {
    "duration": 137,
    "start_time": "2024-01-24T12:31:42.399Z"
   },
   {
    "duration": 9,
    "start_time": "2024-01-24T12:32:00.142Z"
   },
   {
    "duration": 96,
    "start_time": "2024-01-24T12:48:09.195Z"
   },
   {
    "duration": 2554,
    "start_time": "2024-01-24T12:49:48.996Z"
   },
   {
    "duration": 2593,
    "start_time": "2024-01-24T12:50:11.275Z"
   },
   {
    "duration": 1533,
    "start_time": "2024-01-24T15:16:50.347Z"
   },
   {
    "duration": 2,
    "start_time": "2024-01-24T15:17:05.705Z"
   },
   {
    "duration": 3,
    "start_time": "2024-01-24T15:17:11.553Z"
   },
   {
    "duration": 34,
    "start_time": "2024-01-24T15:18:07.253Z"
   },
   {
    "duration": 130,
    "start_time": "2024-01-24T15:20:34.796Z"
   },
   {
    "duration": 1287,
    "start_time": "2024-01-24T15:21:56.083Z"
   },
   {
    "duration": 370,
    "start_time": "2024-01-24T15:21:57.372Z"
   },
   {
    "duration": 13,
    "start_time": "2024-01-24T15:21:57.744Z"
   },
   {
    "duration": 92,
    "start_time": "2024-01-24T15:21:57.759Z"
   },
   {
    "duration": 474,
    "start_time": "2024-01-24T15:21:57.853Z"
   },
   {
    "duration": 33,
    "start_time": "2024-01-24T15:21:58.329Z"
   },
   {
    "duration": 99,
    "start_time": "2024-01-24T15:21:58.363Z"
   },
   {
    "duration": 199,
    "start_time": "2024-01-24T15:21:58.464Z"
   },
   {
    "duration": 120,
    "start_time": "2024-01-24T15:21:58.665Z"
   },
   {
    "duration": 78,
    "start_time": "2024-01-24T15:21:58.788Z"
   },
   {
    "duration": 3,
    "start_time": "2024-01-24T15:21:58.867Z"
   },
   {
    "duration": 46,
    "start_time": "2024-01-24T15:21:58.871Z"
   },
   {
    "duration": 52,
    "start_time": "2024-01-24T15:21:58.918Z"
   },
   {
    "duration": 491,
    "start_time": "2024-01-24T15:21:58.971Z"
   },
   {
    "duration": 548,
    "start_time": "2024-01-24T15:21:59.464Z"
   },
   {
    "duration": 95,
    "start_time": "2024-01-24T15:22:00.014Z"
   },
   {
    "duration": 68,
    "start_time": "2024-01-24T15:22:00.110Z"
   },
   {
    "duration": 24,
    "start_time": "2024-01-24T15:22:00.180Z"
   },
   {
    "duration": 133,
    "start_time": "2024-01-24T15:22:00.205Z"
   },
   {
    "duration": 125,
    "start_time": "2024-01-24T15:22:00.339Z"
   },
   {
    "duration": 3,
    "start_time": "2024-01-24T15:22:00.466Z"
   },
   {
    "duration": 31,
    "start_time": "2024-01-24T15:22:00.471Z"
   },
   {
    "duration": 105,
    "start_time": "2024-01-24T15:22:00.503Z"
   },
   {
    "duration": 149,
    "start_time": "2024-01-24T15:22:00.610Z"
   },
   {
    "duration": 579,
    "start_time": "2024-01-24T15:22:00.761Z"
   },
   {
    "duration": 1153,
    "start_time": "2024-01-24T15:22:01.342Z"
   },
   {
    "duration": 242,
    "start_time": "2024-01-24T15:22:02.497Z"
   },
   {
    "duration": 0,
    "start_time": "2024-01-24T15:22:02.740Z"
   },
   {
    "duration": 0,
    "start_time": "2024-01-24T15:22:02.741Z"
   },
   {
    "duration": 0,
    "start_time": "2024-01-24T15:22:02.742Z"
   },
   {
    "duration": 0,
    "start_time": "2024-01-24T15:22:02.743Z"
   },
   {
    "duration": 0,
    "start_time": "2024-01-24T15:22:02.744Z"
   },
   {
    "duration": 0,
    "start_time": "2024-01-24T15:22:02.745Z"
   },
   {
    "duration": 292,
    "start_time": "2024-01-24T15:22:40.810Z"
   },
   {
    "duration": 1061,
    "start_time": "2024-01-24T15:22:49.761Z"
   },
   {
    "duration": 180,
    "start_time": "2024-01-24T15:22:50.824Z"
   },
   {
    "duration": 12,
    "start_time": "2024-01-24T15:22:51.005Z"
   },
   {
    "duration": 30,
    "start_time": "2024-01-24T15:22:51.019Z"
   },
   {
    "duration": 302,
    "start_time": "2024-01-24T15:22:51.050Z"
   },
   {
    "duration": 33,
    "start_time": "2024-01-24T15:22:51.353Z"
   },
   {
    "duration": 98,
    "start_time": "2024-01-24T15:22:51.388Z"
   },
   {
    "duration": 195,
    "start_time": "2024-01-24T15:22:51.488Z"
   },
   {
    "duration": 113,
    "start_time": "2024-01-24T15:22:51.684Z"
   },
   {
    "duration": 78,
    "start_time": "2024-01-24T15:22:51.799Z"
   },
   {
    "duration": 3,
    "start_time": "2024-01-24T15:22:51.878Z"
   },
   {
    "duration": 55,
    "start_time": "2024-01-24T15:22:51.882Z"
   },
   {
    "duration": 40,
    "start_time": "2024-01-24T15:22:51.939Z"
   },
   {
    "duration": 487,
    "start_time": "2024-01-24T15:22:51.980Z"
   },
   {
    "duration": 559,
    "start_time": "2024-01-24T15:22:52.469Z"
   },
   {
    "duration": 86,
    "start_time": "2024-01-24T15:22:53.029Z"
   },
   {
    "duration": 71,
    "start_time": "2024-01-24T15:22:53.116Z"
   },
   {
    "duration": 25,
    "start_time": "2024-01-24T15:22:53.188Z"
   },
   {
    "duration": 87,
    "start_time": "2024-01-24T15:22:53.215Z"
   },
   {
    "duration": 97,
    "start_time": "2024-01-24T15:22:53.304Z"
   },
   {
    "duration": 4,
    "start_time": "2024-01-24T15:22:53.403Z"
   },
   {
    "duration": 17,
    "start_time": "2024-01-24T15:22:53.408Z"
   },
   {
    "duration": 64,
    "start_time": "2024-01-24T15:22:53.426Z"
   },
   {
    "duration": 161,
    "start_time": "2024-01-24T15:22:53.492Z"
   },
   {
    "duration": 574,
    "start_time": "2024-01-24T15:22:53.655Z"
   },
   {
    "duration": 1078,
    "start_time": "2024-01-24T15:22:54.233Z"
   },
   {
    "duration": 309,
    "start_time": "2024-01-24T15:22:55.312Z"
   },
   {
    "duration": 130,
    "start_time": "2024-01-24T15:22:55.624Z"
   },
   {
    "duration": 5,
    "start_time": "2024-01-24T15:22:55.756Z"
   },
   {
    "duration": 150,
    "start_time": "2024-01-24T15:22:55.763Z"
   },
   {
    "duration": 93,
    "start_time": "2024-01-24T15:22:55.914Z"
   },
   {
    "duration": 0,
    "start_time": "2024-01-24T15:22:56.008Z"
   },
   {
    "duration": 0,
    "start_time": "2024-01-24T15:22:56.009Z"
   },
   {
    "duration": 826,
    "start_time": "2024-01-24T15:23:55.085Z"
   },
   {
    "duration": 1142,
    "start_time": "2024-01-24T15:24:03.718Z"
   },
   {
    "duration": 172,
    "start_time": "2024-01-24T15:24:04.862Z"
   },
   {
    "duration": 14,
    "start_time": "2024-01-24T15:24:05.035Z"
   },
   {
    "duration": 21,
    "start_time": "2024-01-24T15:24:05.051Z"
   },
   {
    "duration": 304,
    "start_time": "2024-01-24T15:24:05.073Z"
   },
   {
    "duration": 33,
    "start_time": "2024-01-24T15:24:05.379Z"
   },
   {
    "duration": 101,
    "start_time": "2024-01-24T15:24:05.414Z"
   },
   {
    "duration": 227,
    "start_time": "2024-01-24T15:24:05.516Z"
   },
   {
    "duration": 126,
    "start_time": "2024-01-24T15:24:05.747Z"
   },
   {
    "duration": 73,
    "start_time": "2024-01-24T15:24:05.876Z"
   },
   {
    "duration": 3,
    "start_time": "2024-01-24T15:24:05.950Z"
   },
   {
    "duration": 38,
    "start_time": "2024-01-24T15:24:05.954Z"
   },
   {
    "duration": 57,
    "start_time": "2024-01-24T15:24:05.993Z"
   },
   {
    "duration": 494,
    "start_time": "2024-01-24T15:24:06.051Z"
   },
   {
    "duration": 525,
    "start_time": "2024-01-24T15:24:06.547Z"
   },
   {
    "duration": 106,
    "start_time": "2024-01-24T15:24:07.074Z"
   },
   {
    "duration": 67,
    "start_time": "2024-01-24T15:24:07.181Z"
   },
   {
    "duration": 24,
    "start_time": "2024-01-24T15:24:07.249Z"
   },
   {
    "duration": 78,
    "start_time": "2024-01-24T15:24:07.275Z"
   },
   {
    "duration": 102,
    "start_time": "2024-01-24T15:24:07.355Z"
   },
   {
    "duration": 4,
    "start_time": "2024-01-24T15:24:07.458Z"
   },
   {
    "duration": 13,
    "start_time": "2024-01-24T15:24:07.464Z"
   },
   {
    "duration": 63,
    "start_time": "2024-01-24T15:24:07.479Z"
   },
   {
    "duration": 157,
    "start_time": "2024-01-24T15:24:07.544Z"
   },
   {
    "duration": 592,
    "start_time": "2024-01-24T15:24:07.703Z"
   },
   {
    "duration": 1054,
    "start_time": "2024-01-24T15:24:08.296Z"
   },
   {
    "duration": 715,
    "start_time": "2024-01-24T15:24:09.352Z"
   },
   {
    "duration": 268,
    "start_time": "2024-01-24T15:24:10.070Z"
   },
   {
    "duration": 3,
    "start_time": "2024-01-24T15:24:10.340Z"
   },
   {
    "duration": 198,
    "start_time": "2024-01-24T15:24:10.344Z"
   },
   {
    "duration": 95,
    "start_time": "2024-01-24T15:24:10.543Z"
   },
   {
    "duration": 0,
    "start_time": "2024-01-24T15:24:10.639Z"
   },
   {
    "duration": 0,
    "start_time": "2024-01-24T15:24:10.640Z"
   },
   {
    "duration": 126,
    "start_time": "2024-01-24T15:25:00.304Z"
   },
   {
    "duration": 81,
    "start_time": "2024-01-24T15:25:19.646Z"
   },
   {
    "duration": 72,
    "start_time": "2024-01-24T15:26:50.639Z"
   },
   {
    "duration": 98,
    "start_time": "2024-01-24T15:27:02.239Z"
   },
   {
    "duration": 82,
    "start_time": "2024-01-24T15:27:07.414Z"
   },
   {
    "duration": 84,
    "start_time": "2024-01-24T15:27:42.829Z"
   },
   {
    "duration": 119,
    "start_time": "2024-01-24T15:28:03.355Z"
   },
   {
    "duration": 867,
    "start_time": "2024-01-24T15:28:18.274Z"
   },
   {
    "duration": 808,
    "start_time": "2024-01-24T15:29:15.342Z"
   },
   {
    "duration": 1070,
    "start_time": "2024-01-24T15:29:57.964Z"
   },
   {
    "duration": 176,
    "start_time": "2024-01-24T15:29:59.036Z"
   },
   {
    "duration": 20,
    "start_time": "2024-01-24T15:29:59.214Z"
   },
   {
    "duration": 20,
    "start_time": "2024-01-24T15:29:59.236Z"
   },
   {
    "duration": 310,
    "start_time": "2024-01-24T15:29:59.257Z"
   },
   {
    "duration": 34,
    "start_time": "2024-01-24T15:29:59.569Z"
   },
   {
    "duration": 99,
    "start_time": "2024-01-24T15:29:59.604Z"
   },
   {
    "duration": 217,
    "start_time": "2024-01-24T15:29:59.704Z"
   },
   {
    "duration": 112,
    "start_time": "2024-01-24T15:29:59.923Z"
   },
   {
    "duration": 75,
    "start_time": "2024-01-24T15:30:00.038Z"
   },
   {
    "duration": 3,
    "start_time": "2024-01-24T15:30:00.115Z"
   },
   {
    "duration": 95,
    "start_time": "2024-01-24T15:30:00.119Z"
   },
   {
    "duration": 94,
    "start_time": "2024-01-24T15:30:00.215Z"
   },
   {
    "duration": 527,
    "start_time": "2024-01-24T15:30:00.311Z"
   },
   {
    "duration": 549,
    "start_time": "2024-01-24T15:30:00.839Z"
   },
   {
    "duration": 106,
    "start_time": "2024-01-24T15:30:01.390Z"
   },
   {
    "duration": 73,
    "start_time": "2024-01-24T15:30:01.497Z"
   },
   {
    "duration": 78,
    "start_time": "2024-01-24T15:30:01.572Z"
   },
   {
    "duration": 105,
    "start_time": "2024-01-24T15:30:01.652Z"
   },
   {
    "duration": 124,
    "start_time": "2024-01-24T15:30:01.758Z"
   },
   {
    "duration": 5,
    "start_time": "2024-01-24T15:30:01.884Z"
   },
   {
    "duration": 32,
    "start_time": "2024-01-24T15:30:01.890Z"
   },
   {
    "duration": 100,
    "start_time": "2024-01-24T15:30:01.923Z"
   },
   {
    "duration": 146,
    "start_time": "2024-01-24T15:30:02.025Z"
   },
   {
    "duration": 580,
    "start_time": "2024-01-24T15:30:02.172Z"
   },
   {
    "duration": 1527,
    "start_time": "2024-01-24T15:30:02.753Z"
   },
   {
    "duration": 352,
    "start_time": "2024-01-24T15:30:04.282Z"
   },
   {
    "duration": 137,
    "start_time": "2024-01-24T15:30:04.637Z"
   },
   {
    "duration": 4,
    "start_time": "2024-01-24T15:30:04.775Z"
   },
   {
    "duration": 188,
    "start_time": "2024-01-24T15:30:04.781Z"
   },
   {
    "duration": 103,
    "start_time": "2024-01-24T15:30:04.970Z"
   },
   {
    "duration": 0,
    "start_time": "2024-01-24T15:30:05.075Z"
   },
   {
    "duration": 0,
    "start_time": "2024-01-24T15:30:05.076Z"
   },
   {
    "duration": 1157,
    "start_time": "2024-01-24T15:33:19.815Z"
   },
   {
    "duration": 176,
    "start_time": "2024-01-24T15:33:20.974Z"
   },
   {
    "duration": 16,
    "start_time": "2024-01-24T15:33:21.152Z"
   },
   {
    "duration": 32,
    "start_time": "2024-01-24T15:33:21.171Z"
   },
   {
    "duration": 300,
    "start_time": "2024-01-24T15:33:21.204Z"
   },
   {
    "duration": 41,
    "start_time": "2024-01-24T15:33:21.506Z"
   },
   {
    "duration": 100,
    "start_time": "2024-01-24T15:33:21.548Z"
   },
   {
    "duration": 211,
    "start_time": "2024-01-24T15:33:21.650Z"
   },
   {
    "duration": 118,
    "start_time": "2024-01-24T15:33:21.862Z"
   },
   {
    "duration": 78,
    "start_time": "2024-01-24T15:33:21.982Z"
   },
   {
    "duration": 3,
    "start_time": "2024-01-24T15:33:22.062Z"
   },
   {
    "duration": 38,
    "start_time": "2024-01-24T15:33:22.066Z"
   },
   {
    "duration": 53,
    "start_time": "2024-01-24T15:33:22.106Z"
   },
   {
    "duration": 504,
    "start_time": "2024-01-24T15:33:22.160Z"
   },
   {
    "duration": 592,
    "start_time": "2024-01-24T15:33:22.665Z"
   },
   {
    "duration": 129,
    "start_time": "2024-01-24T15:33:23.258Z"
   },
   {
    "duration": 98,
    "start_time": "2024-01-24T15:33:23.388Z"
   },
   {
    "duration": 28,
    "start_time": "2024-01-24T15:33:23.488Z"
   },
   {
    "duration": 76,
    "start_time": "2024-01-24T15:33:23.517Z"
   },
   {
    "duration": 100,
    "start_time": "2024-01-24T15:33:23.594Z"
   },
   {
    "duration": 4,
    "start_time": "2024-01-24T15:33:23.695Z"
   },
   {
    "duration": 14,
    "start_time": "2024-01-24T15:33:23.700Z"
   },
   {
    "duration": 93,
    "start_time": "2024-01-24T15:33:23.715Z"
   },
   {
    "duration": 152,
    "start_time": "2024-01-24T15:33:23.810Z"
   },
   {
    "duration": 587,
    "start_time": "2024-01-24T15:33:23.964Z"
   },
   {
    "duration": 819,
    "start_time": "2024-01-24T15:33:24.553Z"
   },
   {
    "duration": 316,
    "start_time": "2024-01-24T15:33:25.374Z"
   },
   {
    "duration": 568,
    "start_time": "2024-01-24T15:33:25.693Z"
   },
   {
    "duration": 1043,
    "start_time": "2024-01-24T15:33:26.263Z"
   },
   {
    "duration": 803,
    "start_time": "2024-01-24T15:45:20.204Z"
   },
   {
    "duration": 550,
    "start_time": "2024-01-24T15:47:39.458Z"
   },
   {
    "duration": 818,
    "start_time": "2024-01-24T15:48:57.493Z"
   },
   {
    "duration": 10,
    "start_time": "2024-01-24T15:49:30.875Z"
   },
   {
    "duration": 288,
    "start_time": "2024-01-24T15:49:41.242Z"
   },
   {
    "duration": 1131,
    "start_time": "2024-01-24T15:50:13.901Z"
   },
   {
    "duration": 194,
    "start_time": "2024-01-24T15:50:15.034Z"
   },
   {
    "duration": 12,
    "start_time": "2024-01-24T15:50:15.230Z"
   },
   {
    "duration": 30,
    "start_time": "2024-01-24T15:50:15.244Z"
   },
   {
    "duration": 305,
    "start_time": "2024-01-24T15:50:15.275Z"
   },
   {
    "duration": 46,
    "start_time": "2024-01-24T15:50:15.582Z"
   },
   {
    "duration": 105,
    "start_time": "2024-01-24T15:50:15.630Z"
   },
   {
    "duration": 218,
    "start_time": "2024-01-24T15:50:15.736Z"
   },
   {
    "duration": 114,
    "start_time": "2024-01-24T15:50:15.956Z"
   },
   {
    "duration": 80,
    "start_time": "2024-01-24T15:50:16.072Z"
   },
   {
    "duration": 3,
    "start_time": "2024-01-24T15:50:16.154Z"
   },
   {
    "duration": 44,
    "start_time": "2024-01-24T15:50:16.158Z"
   },
   {
    "duration": 43,
    "start_time": "2024-01-24T15:50:16.204Z"
   },
   {
    "duration": 505,
    "start_time": "2024-01-24T15:50:16.248Z"
   },
   {
    "duration": 523,
    "start_time": "2024-01-24T15:50:16.755Z"
   },
   {
    "duration": 97,
    "start_time": "2024-01-24T15:50:17.279Z"
   },
   {
    "duration": 67,
    "start_time": "2024-01-24T15:50:17.378Z"
   },
   {
    "duration": 24,
    "start_time": "2024-01-24T15:50:17.447Z"
   },
   {
    "duration": 80,
    "start_time": "2024-01-24T15:50:17.473Z"
   },
   {
    "duration": 109,
    "start_time": "2024-01-24T15:50:17.554Z"
   },
   {
    "duration": 4,
    "start_time": "2024-01-24T15:50:17.664Z"
   },
   {
    "duration": 44,
    "start_time": "2024-01-24T15:50:17.670Z"
   },
   {
    "duration": 81,
    "start_time": "2024-01-24T15:50:17.715Z"
   },
   {
    "duration": 158,
    "start_time": "2024-01-24T15:50:17.798Z"
   },
   {
    "duration": 589,
    "start_time": "2024-01-24T15:50:17.957Z"
   },
   {
    "duration": 827,
    "start_time": "2024-01-24T15:50:18.547Z"
   },
   {
    "duration": 313,
    "start_time": "2024-01-24T15:50:19.376Z"
   },
   {
    "duration": 548,
    "start_time": "2024-01-24T15:50:19.692Z"
   },
   {
    "duration": 845,
    "start_time": "2024-01-24T15:50:20.242Z"
   },
   {
    "duration": 354,
    "start_time": "2024-01-24T15:50:21.089Z"
   },
   {
    "duration": 98,
    "start_time": "2024-01-24T16:02:28.837Z"
   },
   {
    "duration": 15,
    "start_time": "2024-01-24T16:03:52.951Z"
   },
   {
    "duration": 173,
    "start_time": "2024-01-24T16:04:14.374Z"
   },
   {
    "duration": 1080,
    "start_time": "2024-01-24T16:05:46.143Z"
   },
   {
    "duration": 174,
    "start_time": "2024-01-24T16:05:47.224Z"
   },
   {
    "duration": 13,
    "start_time": "2024-01-24T16:05:47.399Z"
   },
   {
    "duration": 31,
    "start_time": "2024-01-24T16:05:47.414Z"
   },
   {
    "duration": 287,
    "start_time": "2024-01-24T16:05:47.446Z"
   },
   {
    "duration": 37,
    "start_time": "2024-01-24T16:05:47.735Z"
   },
   {
    "duration": 107,
    "start_time": "2024-01-24T16:05:47.774Z"
   },
   {
    "duration": 192,
    "start_time": "2024-01-24T16:05:47.882Z"
   },
   {
    "duration": 109,
    "start_time": "2024-01-24T16:05:48.076Z"
   },
   {
    "duration": 81,
    "start_time": "2024-01-24T16:05:48.187Z"
   },
   {
    "duration": 3,
    "start_time": "2024-01-24T16:05:48.269Z"
   },
   {
    "duration": 38,
    "start_time": "2024-01-24T16:05:48.274Z"
   },
   {
    "duration": 54,
    "start_time": "2024-01-24T16:05:48.314Z"
   },
   {
    "duration": 500,
    "start_time": "2024-01-24T16:05:48.370Z"
   },
   {
    "duration": 548,
    "start_time": "2024-01-24T16:05:48.873Z"
   },
   {
    "duration": 93,
    "start_time": "2024-01-24T16:05:49.422Z"
   },
   {
    "duration": 64,
    "start_time": "2024-01-24T16:05:49.517Z"
   },
   {
    "duration": 23,
    "start_time": "2024-01-24T16:05:49.583Z"
   },
   {
    "duration": 81,
    "start_time": "2024-01-24T16:05:49.607Z"
   },
   {
    "duration": 107,
    "start_time": "2024-01-24T16:05:49.689Z"
   },
   {
    "duration": 4,
    "start_time": "2024-01-24T16:05:49.797Z"
   },
   {
    "duration": 16,
    "start_time": "2024-01-24T16:05:49.802Z"
   },
   {
    "duration": 61,
    "start_time": "2024-01-24T16:05:49.819Z"
   },
   {
    "duration": 144,
    "start_time": "2024-01-24T16:05:49.881Z"
   },
   {
    "duration": 542,
    "start_time": "2024-01-24T16:05:50.026Z"
   },
   {
    "duration": 810,
    "start_time": "2024-01-24T16:05:50.570Z"
   },
   {
    "duration": 334,
    "start_time": "2024-01-24T16:05:51.381Z"
   },
   {
    "duration": 567,
    "start_time": "2024-01-24T16:05:51.718Z"
   },
   {
    "duration": 793,
    "start_time": "2024-01-24T16:05:52.286Z"
   },
   {
    "duration": 308,
    "start_time": "2024-01-24T16:05:53.080Z"
   },
   {
    "duration": 1100,
    "start_time": "2024-01-24T17:37:32.628Z"
   },
   {
    "duration": 184,
    "start_time": "2024-01-24T17:37:33.730Z"
   },
   {
    "duration": 19,
    "start_time": "2024-01-24T17:37:33.915Z"
   },
   {
    "duration": 21,
    "start_time": "2024-01-24T17:37:33.936Z"
   },
   {
    "duration": 295,
    "start_time": "2024-01-24T17:37:33.959Z"
   },
   {
    "duration": 33,
    "start_time": "2024-01-24T17:37:34.256Z"
   },
   {
    "duration": 98,
    "start_time": "2024-01-24T17:37:34.291Z"
   },
   {
    "duration": 207,
    "start_time": "2024-01-24T17:37:34.390Z"
   },
   {
    "duration": 112,
    "start_time": "2024-01-24T17:37:34.599Z"
   },
   {
    "duration": 75,
    "start_time": "2024-01-24T17:37:34.722Z"
   },
   {
    "duration": 3,
    "start_time": "2024-01-24T17:37:34.799Z"
   },
   {
    "duration": 51,
    "start_time": "2024-01-24T17:37:34.803Z"
   },
   {
    "duration": 47,
    "start_time": "2024-01-24T17:37:34.856Z"
   },
   {
    "duration": 456,
    "start_time": "2024-01-24T17:37:34.904Z"
   },
   {
    "duration": 552,
    "start_time": "2024-01-24T17:37:35.361Z"
   },
   {
    "duration": 122,
    "start_time": "2024-01-24T17:37:35.914Z"
   },
   {
    "duration": 65,
    "start_time": "2024-01-24T17:37:36.038Z"
   },
   {
    "duration": 31,
    "start_time": "2024-01-24T17:37:36.105Z"
   },
   {
    "duration": 91,
    "start_time": "2024-01-24T17:37:36.137Z"
   },
   {
    "duration": 97,
    "start_time": "2024-01-24T17:37:36.229Z"
   },
   {
    "duration": 4,
    "start_time": "2024-01-24T17:37:36.328Z"
   },
   {
    "duration": 28,
    "start_time": "2024-01-24T17:37:36.333Z"
   },
   {
    "duration": 100,
    "start_time": "2024-01-24T17:37:36.362Z"
   },
   {
    "duration": 144,
    "start_time": "2024-01-24T17:37:36.463Z"
   },
   {
    "duration": 547,
    "start_time": "2024-01-24T17:37:36.609Z"
   },
   {
    "duration": 792,
    "start_time": "2024-01-24T17:37:37.158Z"
   },
   {
    "duration": 335,
    "start_time": "2024-01-24T17:37:37.951Z"
   },
   {
    "duration": 591,
    "start_time": "2024-01-24T17:37:38.289Z"
   },
   {
    "duration": 796,
    "start_time": "2024-01-24T17:37:38.881Z"
   },
   {
    "duration": 323,
    "start_time": "2024-01-24T17:37:39.679Z"
   },
   {
    "duration": 1094,
    "start_time": "2024-01-24T17:44:54.147Z"
   },
   {
    "duration": 176,
    "start_time": "2024-01-24T17:44:55.243Z"
   },
   {
    "duration": 14,
    "start_time": "2024-01-24T17:44:55.420Z"
   },
   {
    "duration": 20,
    "start_time": "2024-01-24T17:44:55.436Z"
   },
   {
    "duration": 306,
    "start_time": "2024-01-24T17:44:55.458Z"
   },
   {
    "duration": 35,
    "start_time": "2024-01-24T17:44:55.766Z"
   },
   {
    "duration": 95,
    "start_time": "2024-01-24T17:44:55.803Z"
   },
   {
    "duration": 200,
    "start_time": "2024-01-24T17:44:55.900Z"
   },
   {
    "duration": 107,
    "start_time": "2024-01-24T17:44:56.101Z"
   },
   {
    "duration": 78,
    "start_time": "2024-01-24T17:44:56.211Z"
   },
   {
    "duration": 3,
    "start_time": "2024-01-24T17:44:56.291Z"
   },
   {
    "duration": 114,
    "start_time": "2024-01-24T17:44:56.295Z"
   },
   {
    "duration": 39,
    "start_time": "2024-01-24T17:44:56.410Z"
   },
   {
    "duration": 804,
    "start_time": "2024-01-24T17:44:56.451Z"
   },
   {
    "duration": 769,
    "start_time": "2024-01-24T17:44:57.256Z"
   },
   {
    "duration": 94,
    "start_time": "2024-01-24T17:44:58.027Z"
   },
   {
    "duration": 73,
    "start_time": "2024-01-24T17:44:58.123Z"
   },
   {
    "duration": 36,
    "start_time": "2024-01-24T17:44:58.197Z"
   },
   {
    "duration": 66,
    "start_time": "2024-01-24T17:44:58.234Z"
   },
   {
    "duration": 113,
    "start_time": "2024-01-24T17:44:58.302Z"
   },
   {
    "duration": 4,
    "start_time": "2024-01-24T17:44:58.417Z"
   },
   {
    "duration": 12,
    "start_time": "2024-01-24T17:44:58.422Z"
   },
   {
    "duration": 62,
    "start_time": "2024-01-24T17:44:58.436Z"
   },
   {
    "duration": 154,
    "start_time": "2024-01-24T17:44:58.499Z"
   },
   {
    "duration": 1021,
    "start_time": "2024-01-24T17:44:58.654Z"
   },
   {
    "duration": 1758,
    "start_time": "2024-01-24T17:44:59.676Z"
   },
   {
    "duration": 705,
    "start_time": "2024-01-24T17:45:01.436Z"
   },
   {
    "duration": 891,
    "start_time": "2024-01-24T17:45:02.144Z"
   },
   {
    "duration": 838,
    "start_time": "2024-01-24T17:45:03.037Z"
   },
   {
    "duration": 348,
    "start_time": "2024-01-24T17:45:03.877Z"
   },
   {
    "duration": 1104,
    "start_time": "2024-01-24T17:48:03.030Z"
   },
   {
    "duration": 178,
    "start_time": "2024-01-24T17:48:04.135Z"
   },
   {
    "duration": 15,
    "start_time": "2024-01-24T17:48:04.314Z"
   },
   {
    "duration": 22,
    "start_time": "2024-01-24T17:48:04.334Z"
   },
   {
    "duration": 314,
    "start_time": "2024-01-24T17:48:04.357Z"
   },
   {
    "duration": 33,
    "start_time": "2024-01-24T17:48:04.673Z"
   },
   {
    "duration": 94,
    "start_time": "2024-01-24T17:48:04.707Z"
   },
   {
    "duration": 199,
    "start_time": "2024-01-24T17:48:04.803Z"
   },
   {
    "duration": 109,
    "start_time": "2024-01-24T17:48:05.004Z"
   },
   {
    "duration": 78,
    "start_time": "2024-01-24T17:48:05.116Z"
   },
   {
    "duration": 3,
    "start_time": "2024-01-24T17:48:05.195Z"
   },
   {
    "duration": 51,
    "start_time": "2024-01-24T17:48:05.200Z"
   },
   {
    "duration": 40,
    "start_time": "2024-01-24T17:48:05.252Z"
   },
   {
    "duration": 459,
    "start_time": "2024-01-24T17:48:05.294Z"
   },
   {
    "duration": 573,
    "start_time": "2024-01-24T17:48:05.755Z"
   },
   {
    "duration": 86,
    "start_time": "2024-01-24T17:48:06.332Z"
   },
   {
    "duration": 67,
    "start_time": "2024-01-24T17:48:06.420Z"
   },
   {
    "duration": 23,
    "start_time": "2024-01-24T17:48:06.488Z"
   },
   {
    "duration": 77,
    "start_time": "2024-01-24T17:48:06.513Z"
   },
   {
    "duration": 106,
    "start_time": "2024-01-24T17:48:06.592Z"
   },
   {
    "duration": 5,
    "start_time": "2024-01-24T17:48:06.699Z"
   },
   {
    "duration": 4,
    "start_time": "2024-01-24T17:48:06.705Z"
   },
   {
    "duration": 74,
    "start_time": "2024-01-24T17:48:06.710Z"
   },
   {
    "duration": 149,
    "start_time": "2024-01-24T17:48:06.786Z"
   },
   {
    "duration": 568,
    "start_time": "2024-01-24T17:48:06.936Z"
   },
   {
    "duration": 897,
    "start_time": "2024-01-24T17:48:07.506Z"
   },
   {
    "duration": 349,
    "start_time": "2024-01-24T17:48:08.404Z"
   },
   {
    "duration": 579,
    "start_time": "2024-01-24T17:48:08.756Z"
   },
   {
    "duration": 842,
    "start_time": "2024-01-24T17:48:09.337Z"
   },
   {
    "duration": 299,
    "start_time": "2024-01-24T17:48:10.180Z"
   },
   {
    "duration": 1279,
    "start_time": "2024-01-25T03:19:57.306Z"
   },
   {
    "duration": 515,
    "start_time": "2024-01-25T03:19:58.587Z"
   },
   {
    "duration": 13,
    "start_time": "2024-01-25T03:19:59.104Z"
   },
   {
    "duration": 20,
    "start_time": "2024-01-25T03:19:59.119Z"
   },
   {
    "duration": 282,
    "start_time": "2024-01-25T03:19:59.141Z"
   },
   {
    "duration": 40,
    "start_time": "2024-01-25T03:19:59.425Z"
   },
   {
    "duration": 90,
    "start_time": "2024-01-25T03:19:59.466Z"
   },
   {
    "duration": 198,
    "start_time": "2024-01-25T03:19:59.557Z"
   },
   {
    "duration": 113,
    "start_time": "2024-01-25T03:19:59.757Z"
   },
   {
    "duration": 69,
    "start_time": "2024-01-25T03:19:59.873Z"
   },
   {
    "duration": 3,
    "start_time": "2024-01-25T03:19:59.944Z"
   },
   {
    "duration": 49,
    "start_time": "2024-01-25T03:19:59.949Z"
   },
   {
    "duration": 42,
    "start_time": "2024-01-25T03:20:00.000Z"
   },
   {
    "duration": 553,
    "start_time": "2024-01-25T03:20:00.065Z"
   },
   {
    "duration": 546,
    "start_time": "2024-01-25T03:20:00.619Z"
   },
   {
    "duration": 99,
    "start_time": "2024-01-25T03:20:01.166Z"
   },
   {
    "duration": 62,
    "start_time": "2024-01-25T03:20:01.266Z"
   },
   {
    "duration": 43,
    "start_time": "2024-01-25T03:20:01.329Z"
   },
   {
    "duration": 115,
    "start_time": "2024-01-25T03:20:01.374Z"
   },
   {
    "duration": 111,
    "start_time": "2024-01-25T03:20:01.490Z"
   },
   {
    "duration": 5,
    "start_time": "2024-01-25T03:20:01.603Z"
   },
   {
    "duration": 36,
    "start_time": "2024-01-25T03:20:01.609Z"
   },
   {
    "duration": 99,
    "start_time": "2024-01-25T03:20:01.647Z"
   },
   {
    "duration": 174,
    "start_time": "2024-01-25T03:20:01.747Z"
   },
   {
    "duration": 556,
    "start_time": "2024-01-25T03:20:01.923Z"
   },
   {
    "duration": 769,
    "start_time": "2024-01-25T03:20:02.481Z"
   },
   {
    "duration": 323,
    "start_time": "2024-01-25T03:20:03.252Z"
   },
   {
    "duration": 540,
    "start_time": "2024-01-25T03:20:03.578Z"
   },
   {
    "duration": 779,
    "start_time": "2024-01-25T03:20:04.120Z"
   },
   {
    "duration": 304,
    "start_time": "2024-01-25T03:20:04.901Z"
   },
   {
    "duration": 1137,
    "start_time": "2024-01-25T03:23:12.530Z"
   },
   {
    "duration": 181,
    "start_time": "2024-01-25T03:23:13.669Z"
   },
   {
    "duration": 18,
    "start_time": "2024-01-25T03:23:13.851Z"
   },
   {
    "duration": 20,
    "start_time": "2024-01-25T03:23:13.871Z"
   },
   {
    "duration": 290,
    "start_time": "2024-01-25T03:23:13.893Z"
   },
   {
    "duration": 35,
    "start_time": "2024-01-25T03:23:14.185Z"
   },
   {
    "duration": 97,
    "start_time": "2024-01-25T03:23:14.222Z"
   },
   {
    "duration": 201,
    "start_time": "2024-01-25T03:23:14.321Z"
   },
   {
    "duration": 109,
    "start_time": "2024-01-25T03:23:14.523Z"
   },
   {
    "duration": 95,
    "start_time": "2024-01-25T03:23:14.633Z"
   },
   {
    "duration": 4,
    "start_time": "2024-01-25T03:23:14.730Z"
   },
   {
    "duration": 58,
    "start_time": "2024-01-25T03:23:14.735Z"
   },
   {
    "duration": 42,
    "start_time": "2024-01-25T03:23:14.794Z"
   },
   {
    "duration": 454,
    "start_time": "2024-01-25T03:23:14.839Z"
   },
   {
    "duration": 561,
    "start_time": "2024-01-25T03:23:15.295Z"
   },
   {
    "duration": 90,
    "start_time": "2024-01-25T03:23:15.857Z"
   },
   {
    "duration": 67,
    "start_time": "2024-01-25T03:23:15.949Z"
   },
   {
    "duration": 24,
    "start_time": "2024-01-25T03:23:16.017Z"
   },
   {
    "duration": 73,
    "start_time": "2024-01-25T03:23:16.043Z"
   },
   {
    "duration": 107,
    "start_time": "2024-01-25T03:23:16.117Z"
   },
   {
    "duration": 5,
    "start_time": "2024-01-25T03:23:16.225Z"
   },
   {
    "duration": 8,
    "start_time": "2024-01-25T03:23:16.231Z"
   },
   {
    "duration": 69,
    "start_time": "2024-01-25T03:23:16.240Z"
   },
   {
    "duration": 148,
    "start_time": "2024-01-25T03:23:16.311Z"
   },
   {
    "duration": 544,
    "start_time": "2024-01-25T03:23:16.464Z"
   },
   {
    "duration": 803,
    "start_time": "2024-01-25T03:23:17.009Z"
   },
   {
    "duration": 302,
    "start_time": "2024-01-25T03:23:17.814Z"
   },
   {
    "duration": 552,
    "start_time": "2024-01-25T03:23:18.118Z"
   },
   {
    "duration": 774,
    "start_time": "2024-01-25T03:23:18.672Z"
   },
   {
    "duration": 321,
    "start_time": "2024-01-25T03:23:19.448Z"
   }
  ],
  "kernelspec": {
   "display_name": "Python 3 (ipykernel)",
   "language": "python",
   "name": "python3"
  },
  "language_info": {
   "codemirror_mode": {
    "name": "ipython",
    "version": 3
   },
   "file_extension": ".py",
   "mimetype": "text/x-python",
   "name": "python",
   "nbconvert_exporter": "python",
   "pygments_lexer": "ipython3",
   "version": "3.11.4"
  },
  "toc": {
   "base_numbering": 1,
   "nav_menu": {},
   "number_sections": true,
   "sideBar": true,
   "skip_h1_title": true,
   "title_cell": "Table of Contents",
   "title_sidebar": "Contents",
   "toc_cell": false,
   "toc_position": {
    "height": "calc(100% - 180px)",
    "left": "10px",
    "top": "150px",
    "width": "371px"
   },
   "toc_section_display": true,
   "toc_window_display": false
  }
 },
 "nbformat": 4,
 "nbformat_minor": 2
}
